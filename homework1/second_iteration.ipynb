{
 "cells": [
  {
   "cell_type": "code",
   "execution_count": 163,
   "id": "95d2986c",
   "metadata": {
    "ExecuteTime": {
     "end_time": "2024-12-24T02:12:00.405398Z",
     "start_time": "2024-12-24T02:11:50.996652300Z"
    }
   },
   "outputs": [],
   "source": [
    "from sigmoid_check.python_warmup import *"
   ]
  },
  {
   "cell_type": "code",
   "execution_count": 164,
   "id": "dbfd845a",
   "metadata": {
    "ExecuteTime": {
     "end_time": "2024-12-24T02:12:00.406898800Z",
     "start_time": "2024-12-24T02:11:51.000164400Z"
    }
   },
   "outputs": [
    {
     "name": "stdout",
     "output_type": "stream",
     "text": [
      "✅ Great job! Exercise completed successfully.\n"
     ]
    }
   ],
   "source": [
    "# Given the variable `numero`, assign to the variable `resultado` the string `positive` if `numero` is positive, `negative` if `numero` is negative, and `zero` if `numero` is zero\n",
    "@check_exercise_76\n",
    "def exercise_76(numero):\n",
    "    # This line is mandatory and should not be removed\n",
    "    ex_stat_init = True\n",
    "    \n",
    "    # BELOW GOES YOUR CODE\n",
    "    if numero > 0:\n",
    "        resultado = \"positive\"\n",
    "    elif numero < 0:\n",
    "        resultado = \"negative\"\n",
    "    else: resultado = \"zero\"\n",
    "    # ABOVE GOES YOUR CODE\n",
    "    return {\"resultado\": resultado}\n",
    "\n",
    "# Run the exercise\n",
    "exercise_76()"
   ]
  },
  {
   "cell_type": "code",
   "execution_count": 165,
   "id": "3c234686",
   "metadata": {
    "ExecuteTime": {
     "end_time": "2024-12-24T02:12:00.406898800Z",
     "start_time": "2024-12-24T02:11:51.014521600Z"
    }
   },
   "outputs": [
    {
     "name": "stdout",
     "output_type": "stream",
     "text": [
      "✅ Great job! Exercise completed successfully.\n"
     ]
    }
   ],
   "source": [
    "# Given the variable `age`, assign to the variable `can_vote` \"permis\" if `age` is 18 or older, \"nepermis\" otherwise\n",
    "@check_exercise_77\n",
    "def exercise_77(age):\n",
    "    # This line is mandatory and should not be removed\n",
    "    ex_stat_init = True\n",
    "    can_vote = \"\"\n",
    "    # BELOW GOES YOUR CODE\n",
    "    if age >= 18 :\n",
    "        can_vote = \"permis\"\n",
    "    else:\n",
    "        can_vote = \"nepermis\"\n",
    "    # ABOVE GOES YOUR CODE\n",
    "\n",
    "    return {\"can_vote\": can_vote}\n",
    "\n",
    "# Run the exercise\n",
    "exercise_77()\n"
   ]
  },
  {
   "cell_type": "code",
   "execution_count": 166,
   "id": "29cf3a44",
   "metadata": {
    "ExecuteTime": {
     "end_time": "2024-12-24T02:12:00.406898800Z",
     "start_time": "2024-12-24T02:11:51.021626900Z"
    }
   },
   "outputs": [
    {
     "name": "stdout",
     "output_type": "stream",
     "text": [
      "✅ Great job! Exercise completed successfully.\n"
     ]
    }
   ],
   "source": [
    "# Given the variable `temperature`, assign to the variable `state` the string `solid` if `temperature` is less than 0, `liquid` if `temperature` is between 0 and 100, and `gas` if `temperature` is greater than 100\n",
    "@check_exercise_78\n",
    "def exercise_78(temperature):\n",
    "    # This line is mandatory and should not be removed\n",
    "    ex_stat_init = True\n",
    "    state = \"\"\n",
    "    # BELOW GOES YOUR CODE\n",
    "    if temperature < 0 :\n",
    "        state = \"solid\"\n",
    "    elif temperature < 100 :\n",
    "        state = \"liquid\"\n",
    "    else :\n",
    "        state = \"gas\"\n",
    "    # ABOVE GOES YOUR CODE\n",
    "\n",
    "    return {\"state\": state}\n",
    "\n",
    "# Run the exercise\n",
    "exercise_78()"
   ]
  },
  {
   "cell_type": "code",
   "execution_count": 167,
   "id": "70ccc60c",
   "metadata": {
    "ExecuteTime": {
     "end_time": "2024-12-24T02:12:00.406898800Z",
     "start_time": "2024-12-24T02:11:51.031567700Z"
    }
   },
   "outputs": [
    {
     "name": "stdout",
     "output_type": "stream",
     "text": [
      "✅ Great job! Exercise completed successfully.\n"
     ]
    }
   ],
   "source": [
    "# Given the variable `score`, assign to the variable `grade` the string \"A\" if `score` is 90 or above, \"B\" if it's 80 or above, \"C\" otherwise\n",
    "@check_exercise_79\n",
    "def exercise_79(score):\n",
    "    # This line is mandatory and should not be removed\n",
    "    ex_stat_init = True\n",
    "    grade = \"\"\n",
    "    # BELOW GOES YOUR CODE\n",
    "    if score >= 90:\n",
    "        grade = \"A\"\n",
    "    elif score >= 80:\n",
    "        grade = \"B\"\n",
    "    else:\n",
    "        grade = \"C\"\n",
    "    # ABOVE GOES YOUR CODE\n",
    "\n",
    "    return {\"grade\": grade}\n",
    "\n",
    "# Run the exercise\n",
    "exercise_79()"
   ]
  },
  {
   "cell_type": "code",
   "execution_count": 168,
   "id": "b1e25e19",
   "metadata": {
    "ExecuteTime": {
     "end_time": "2024-12-24T02:12:00.406898800Z",
     "start_time": "2024-12-24T02:11:51.040593300Z"
    }
   },
   "outputs": [
    {
     "name": "stdout",
     "output_type": "stream",
     "text": [
      "✅ Great job! Exercise completed successfully.\n"
     ]
    }
   ],
   "source": [
    "# Given the variable `day`, assign to the variable `day_type` the string \"weekend\" if `day` is \"Saturday\" or \"Sunday\", \"weekday\" if it's \"Monday\" through \"Friday\", \"invalid\" otherwise\n",
    "@check_exercise_80\n",
    "def exercise_80(day):\n",
    "    # This line is mandatory and should not be removed\n",
    "    ex_stat_init = True\n",
    "    day_type = \"\"\n",
    "    # BELOW GOES YOUR CODE\n",
    "    if day == \"Saturday\" or day == \"Sunday\":\n",
    "        day_type = \"weekend\"\n",
    "    elif day in [\"Monday\", \"Tuesday\", \"Wednesday\", \"Thursday\", \"Friday\"]:\n",
    "        day_type = \"weekday\"\n",
    "    else:\n",
    "        day_type = \"invalid\"\n",
    "    # ABOVE GOES YOUR CODE\n",
    "\n",
    "    return {\"day_type\": day_type}\n",
    "\n",
    "# Run the exercise\n",
    "exercise_80()\n"
   ]
  },
  {
   "cell_type": "code",
   "execution_count": 169,
   "id": "0852072a",
   "metadata": {
    "ExecuteTime": {
     "end_time": "2024-12-24T02:12:00.407911700Z",
     "start_time": "2024-12-24T02:11:51.051701700Z"
    }
   },
   "outputs": [
    {
     "name": "stdout",
     "output_type": "stream",
     "text": [
      "✅ Great job! Exercise completed successfully.\n"
     ]
    }
   ],
   "source": [
    "# Given the variables `income` and `dependents`, assign to the variable `tax_rate` 0.1 if `income` < 50000 or `dependents` > 3, 0.2 if `income` < 100000, 0.3 otherwise\n",
    "@check_exercise_81\n",
    "def exercise_81(income, dependents):\n",
    "    # This line is mandatory and should not be removed\n",
    "    ex_stat_init = True\n",
    "\n",
    "    # BELOW GOES YOUR CODE\n",
    "    if income < 50000 or dependents > 3:\n",
    "        tax_rate = 0.1\n",
    "    elif income < 100000:\n",
    "        tax_rate = 0.2\n",
    "    else:\n",
    "        tax_rate = 0.3\n",
    "    # ABOVE GOES YOUR CODE\n",
    "\n",
    "    return {\"tax_rate\": tax_rate}\n",
    "\n",
    "# Run the exercise\n",
    "exercise_81()"
   ]
  },
  {
   "cell_type": "code",
   "execution_count": 170,
   "id": "aa6ac517",
   "metadata": {
    "ExecuteTime": {
     "end_time": "2024-12-24T02:12:00.407911700Z",
     "start_time": "2024-12-24T02:11:51.061382100Z"
    }
   },
   "outputs": [
    {
     "name": "stdout",
     "output_type": "stream",
     "text": [
      "✅ Great job! Exercise completed successfully.\n"
     ]
    }
   ],
   "source": [
    "# Given the variables `is_raining` and `has_umbrella`, assign to the variable `action` the string \"Stay home\" if `is_raining` is True and `has_umbrella` is False, \"Take umbrella\" if `is_raining` is True and `has_umbrella` is True, \"Go out\" otherwise\n",
    "@check_exercise_82\n",
    "def exercise_82(is_raining, has_umbrella):\n",
    "    # This line is mandatory and should not be removed\n",
    "    ex_stat_init = True\n",
    "    action = \"\"\n",
    "    # BELOW GOES YOUR CODE\n",
    "    if is_raining == 1 and has_umbrella == 0:\n",
    "        action = \"Stay home\"\n",
    "    elif is_raining == 1 and has_umbrella == 1:\n",
    "        action = \"Take umbrella\"\n",
    "    else:\n",
    "        action = \"Go out\"\n",
    "    # ABOVE GOES YOUR CODE\n",
    "\n",
    "    return {\"action\": action}\n",
    "\n",
    "# Run the exercise\n",
    "exercise_82()"
   ]
  },
  {
   "cell_type": "code",
   "execution_count": 171,
   "id": "dd33f94a",
   "metadata": {
    "ExecuteTime": {
     "end_time": "2024-12-24T02:12:00.407911700Z",
     "start_time": "2024-12-24T02:11:51.069900400Z"
    }
   },
   "outputs": [
    {
     "name": "stdout",
     "output_type": "stream",
     "text": [
      "✅ Great job! Exercise completed successfully.\n"
     ]
    }
   ],
   "source": [
    "# Given the variables `is_weekend` and `is_holiday`, assign to the variable `is_day_off` True if either `is_weekend` or `is_holiday` is True, False otherwise\n",
    "@check_exercise_83\n",
    "def exercise_83(is_weekend, is_holiday):\n",
    "    # This line is mandatory and should not be removed\n",
    "    ex_stat_init = True\n",
    "\n",
    "    # BELOW GOES YOUR CODE\n",
    "    if is_holiday == 1 or is_weekend == 1:\n",
    "        is_day_off = 1\n",
    "    else:\n",
    "        is_day_off = 0\n",
    "    # ABOVE GOES YOUR CODE\n",
    "\n",
    "    return {\"is_day_off\": is_day_off}\n",
    "\n",
    "# Run the exercise\n",
    "exercise_83()"
   ]
  },
  {
   "cell_type": "code",
   "execution_count": 172,
   "id": "a2c22944",
   "metadata": {
    "ExecuteTime": {
     "end_time": "2024-12-24T02:12:00.407911700Z",
     "start_time": "2024-12-24T02:11:51.078661900Z"
    }
   },
   "outputs": [
    {
     "name": "stdout",
     "output_type": "stream",
     "text": [
      "✅ Great job! Exercise completed successfully.\n"
     ]
    }
   ],
   "source": [
    "# Given the variables `is_sunny`, `is_warm`, and `has_sunscreen`, assign to the variable `beach_day` \"Yes\" if it's sunny and warm and you have sunscreen, or if it's sunny and not too warm (regardless of sunscreen), \"No\" otherwise\n",
    "@check_exercise_84\n",
    "def exercise_84(is_sunny, is_warm, has_sunscreen):\n",
    "    # This line is mandatory and should not be removed\n",
    "    ex_stat_init = True\n",
    "    beach_day = \"\"\n",
    "    # BELOW GOES YOUR CODE\n",
    "    if (is_warm and is_sunny and has_sunscreen) or (is_sunny and not is_warm):\n",
    "        beach_day = \"Yes\"\n",
    "    else:\n",
    "        beach_day = \"No\"\n",
    "    # ABOVE GOES YOUR CODE\n",
    "\n",
    "    return {\"beach_day\": beach_day}\n",
    "\n",
    "# Run the exercise\n",
    "exercise_84()"
   ]
  },
  {
   "cell_type": "code",
   "execution_count": 173,
   "id": "dbded670",
   "metadata": {
    "ExecuteTime": {
     "end_time": "2024-12-24T02:12:00.407911700Z",
     "start_time": "2024-12-24T02:11:51.091028400Z"
    }
   },
   "outputs": [
    {
     "name": "stdout",
     "output_type": "stream",
     "text": [
      "✅ Great job! Exercise completed successfully.\n"
     ]
    }
   ],
   "source": [
    "# Given the variable `number`, assign to the variable `parity` the string \"even\" if `number` is even, \"odd\" otherwise, using a ternary operator\n",
    "@check_exercise_85\n",
    "def exercise_85(number):\n",
    "    # This line is mandatory and should not be removed\n",
    "    ex_stat_init = True\n",
    "    parity = \"\"\n",
    "    # BELOW GOES YOUR CODE\n",
    "    if number % 2 == 0:\n",
    "        parity = \"even\"\n",
    "    else:\n",
    "        parity = \"odd\"\n",
    "    # ABOVE GOES YOUR CODE\n",
    "\n",
    "    return {\"parity\": parity}\n",
    "\n",
    "# Run the exercise\n",
    "exercise_85()"
   ]
  },
  {
   "cell_type": "code",
   "execution_count": 174,
   "id": "192a71c0",
   "metadata": {
    "ExecuteTime": {
     "end_time": "2024-12-24T02:12:00.408920400Z",
     "start_time": "2024-12-24T02:11:51.098977600Z"
    }
   },
   "outputs": [
    {
     "name": "stdout",
     "output_type": "stream",
     "text": [
      "✅ Great job! Exercise completed successfully.\n"
     ]
    }
   ],
   "source": [
    "# Given the variable `fruit`, assign to the variable `is_citrus` True if `fruit` is in the list [\"orange\", \"lemon\", \"lime\", \"grapefruit\"], False otherwise\n",
    "@check_exercise_86\n",
    "def exercise_86(fruit):\n",
    "    # This line is mandatory and should not be removed\n",
    "    ex_stat_init = True\n",
    "\n",
    "    # BELOW GOES YOUR CODE\n",
    "    if fruit in [\"orange\", \"lemon\", \"lime\", \"grapefruit\"]:\n",
    "        is_citrus = 1\n",
    "    else:\n",
    "        is_citrus = 0\n",
    "    # ABOVE GOES YOUR CODE\n",
    "\n",
    "    return {\"is_citrus\": is_citrus}\n",
    "\n",
    "# Run the exercise\n",
    "exercise_86()"
   ]
  },
  {
   "cell_type": "code",
   "execution_count": 175,
   "id": "454033c9",
   "metadata": {
    "ExecuteTime": {
     "end_time": "2024-12-24T02:12:00.408920400Z",
     "start_time": "2024-12-24T02:11:51.112264100Z"
    }
   },
   "outputs": [
    {
     "name": "stdout",
     "output_type": "stream",
     "text": [
      "✅ Great job! Exercise completed successfully.\n"
     ]
    }
   ],
   "source": [
    "# Given a list of numbers called `numbers`, assign to the variable `has_negative` True if any number in the list is negative, False otherwise\n",
    "@check_exercise_87\n",
    "def exercise_87(numbers):\n",
    "    # This line is mandatory and should not be removed\n",
    "    ex_stat_init = True\n",
    "\n",
    "    # BELOW GOES YOUR CODE\n",
    "    for number in numbers:\n",
    "        if number < 0:\n",
    "            has_negative = 1\n",
    "            break\n",
    "        has_negative = 0\n",
    "    # ABOVE GOES YOUR CODE\n",
    "\n",
    "    return {\"has_negative\": has_negative}\n",
    "\n",
    "# Run the exercise\n",
    "exercise_87()"
   ]
  },
  {
   "cell_type": "code",
   "execution_count": 176,
   "id": "864cd1d4",
   "metadata": {
    "ExecuteTime": {
     "end_time": "2024-12-24T02:12:00.408920400Z",
     "start_time": "2024-12-24T02:11:51.121507100Z"
    }
   },
   "outputs": [
    {
     "name": "stdout",
     "output_type": "stream",
     "text": [
      "✅ Great job! Exercise completed successfully.\n"
     ]
    }
   ],
   "source": [
    "# Given a list of booleans called `test_results`, assign to the variable `all_passed` True if all values in the list are True, False otherwise\n",
    "@check_exercise_88\n",
    "def exercise_88(test_results):\n",
    "    # This line is mandatory and should not be removed\n",
    "    ex_stat_init = True\n",
    "\n",
    "    # BELOW GOES YOUR CODE\n",
    "    for result in test_results:\n",
    "        if result == 0:\n",
    "            all_passed = 0\n",
    "            break\n",
    "        all_passed = 1\n",
    "        \n",
    "    # ABOVE GOES YOUR CODE\n",
    "\n",
    "    return {\"all_passed\": all_passed}\n",
    "\n",
    "# Run the exercise\n",
    "exercise_88()"
   ]
  },
  {
   "cell_type": "code",
   "execution_count": 177,
   "id": "85497f0e",
   "metadata": {
    "ExecuteTime": {
     "end_time": "2024-12-24T02:12:00.408920400Z",
     "start_time": "2024-12-24T02:11:51.128687500Z"
    }
   },
   "outputs": [
    {
     "name": "stdout",
     "output_type": "stream",
     "text": [
      "✅ Great job! Exercise completed successfully.\n"
     ]
    }
   ],
   "source": [
    "# Given the variable `password`, assign to the variable `is_correct` True if `password` is \"secret123\", False otherwise\n",
    "@check_exercise_89\n",
    "def exercise_89(password):\n",
    "    # This line is mandatory and should not be removed\n",
    "    ex_stat_init = True\n",
    "\n",
    "    # BELOW GOES YOUR CODE\n",
    "    if password == \"secret123\":\n",
    "        is_correct = 1\n",
    "    else:\n",
    "        is_correct = 0\n",
    "    # ABOVE GOES YOUR CODE\n",
    "\n",
    "    return {\"is_correct\": is_correct}\n",
    "\n",
    "# Run the exercise\n",
    "exercise_89()\n"
   ]
  },
  {
   "cell_type": "code",
   "execution_count": 178,
   "id": "12be810b",
   "metadata": {
    "ExecuteTime": {
     "end_time": "2024-12-24T02:12:00.408920400Z",
     "start_time": "2024-12-24T02:11:51.138601100Z"
    }
   },
   "outputs": [
    {
     "name": "stdout",
     "output_type": "stream",
     "text": [
      "✅ Great job! Exercise completed successfully.\n"
     ]
    }
   ],
   "source": [
    "# Given the variable `username`, assign to the variable `is_valid` True if the length of `username` is between 3 and 20 characters (inclusive), False otherwise\n",
    "@check_exercise_90\n",
    "def exercise_90(username):\n",
    "    # This line is mandatory and should not be removed\n",
    "    ex_stat_init = True\n",
    "\n",
    "    # BELOW GOES YOUR CODE\n",
    "    if len(username) >= 3 and len(username) <= 20:\n",
    "        is_valid = 1\n",
    "    else:\n",
    "        is_valid = 0\n",
    "    # ABOVE GOES YOUR CODE\n",
    "\n",
    "    return {\"is_valid\": is_valid}\n",
    "\n",
    "# Run the exercise\n",
    "exercise_90()"
   ]
  },
  {
   "cell_type": "code",
   "execution_count": 179,
   "id": "17702795",
   "metadata": {
    "ExecuteTime": {
     "end_time": "2024-12-24T02:12:00.408920400Z",
     "start_time": "2024-12-24T02:11:51.148801800Z"
    }
   },
   "outputs": [
    {
     "name": "stdout",
     "output_type": "stream",
     "text": [
      "✅ Great job! Exercise completed successfully.\n"
     ]
    }
   ],
   "source": [
    "# Given the variable `num`, assign to the variable `category` the string \"low\" if `num` is less than 50, \"medium\" if it's between 50 and 100, \"high\" if it's greater than 100\n",
    "\n",
    "@check_exercise_91\n",
    "def exercise_91(num):\n",
    "    # This line is mandatory and should not be removed\n",
    "    ex_stat_init = True\n",
    "\n",
    "    # BELOW GOES YOUR CODE\n",
    "    if num < 50:\n",
    "        category = \"low\"\n",
    "    elif 50 <= num <= 100:\n",
    "        category = \"medium\"\n",
    "    else:\n",
    "        category = \"high\"\n",
    "    # ABOVE GOES YOUR CODE\n",
    "\n",
    "    return {\"category\": category}\n",
    "\n",
    "# Run the exercise\n",
    "exercise_91()\n"
   ]
  },
  {
   "cell_type": "code",
   "execution_count": 180,
   "id": "8e193d04",
   "metadata": {
    "ExecuteTime": {
     "end_time": "2024-12-24T02:12:00.409917700Z",
     "start_time": "2024-12-24T02:11:51.158240800Z"
    }
   },
   "outputs": [
    {
     "name": "stdout",
     "output_type": "stream",
     "text": [
      "✅ Great job! Exercise completed successfully.\n"
     ]
    }
   ],
   "source": [
    "# Given the variable `email`, assign to the variable `domain` the string \"personal\" if `email` ends with \"@gmail.com\", \"work\" if it ends with \"@company.com\", \"education\" if it ends with \".edu\", \"unknown\" otherwise\n",
    "\n",
    "@check_exercise_92\n",
    "def exercise_92(email):\n",
    "    # This line is mandatory and should not be removed\n",
    "    ex_stat_init = True\n",
    "\n",
    "    # BELOW GOES YOUR CODE\n",
    "    if email.endswith(\"@gmail.com\"):\n",
    "        domain = \"personal\"\n",
    "    elif email.endswith(\"@company.com\"):\n",
    "        domain = \"work\"\n",
    "    elif email.endswith(\".edu\"):\n",
    "        domain = \"education\"\n",
    "    else:\n",
    "        domain = \"unknown\"\n",
    "    # ABOVE GOES YOUR CODE\n",
    "\n",
    "    return {\"domain\": domain}\n",
    "\n",
    "# Run the exercise\n",
    "exercise_92()\n"
   ]
  },
  {
   "cell_type": "code",
   "execution_count": 181,
   "id": "8ae8e2bf",
   "metadata": {
    "ExecuteTime": {
     "end_time": "2024-12-24T02:12:00.409917700Z",
     "start_time": "2024-12-24T02:11:51.166628800Z"
    }
   },
   "outputs": [
    {
     "name": "stdout",
     "output_type": "stream",
     "text": [
      "✅ Great job! Exercise completed successfully.\n"
     ]
    }
   ],
   "source": [
    "# Given the variable `data`, assign to the variable `data_type` the string \"numeric\" if `data` is of type int or float, \"text\" if it's of type str, \"boolean\" if it's of type bool, \"other\" otherwise\n",
    "\n",
    "@check_exercise_93\n",
    "def exercise_93(data):\n",
    "    # This line is mandatory and should not be removed\n",
    "    ex_stat_init = True\n",
    "\n",
    "    # BELOW GOES YOUR CODE\n",
    "    if type(data) in (int, float):\n",
    "        data_type = \"numeric\"\n",
    "    elif type(data) == str:\n",
    "        data_type = \"text\"\n",
    "    elif type(data) == bool:\n",
    "        data_type = \"boolean\"\n",
    "    else:\n",
    "        data_type = \"other\"\n",
    "    # ABOVE GOES YOUR CODE\n",
    "\n",
    "    return {\"data_type\": data_type}\n",
    "\n",
    "# Run the exercise\n",
    "exercise_93()\n"
   ]
  },
  {
   "cell_type": "code",
   "execution_count": 182,
   "id": "48f2303f",
   "metadata": {
    "ExecuteTime": {
     "end_time": "2024-12-24T02:12:00.410909200Z",
     "start_time": "2024-12-24T02:11:51.177882900Z"
    }
   },
   "outputs": [
    {
     "name": "stdout",
     "output_type": "stream",
     "text": [
      "✅ Great job! Exercise completed successfully.\n"
     ]
    }
   ],
   "source": [
    "# Given a list `numbers` and a variable `target`, assign to the variable `position` the index of `target` in the list if it exists, -1 if it doesn't exist, and -2 if the list is empty\n",
    "\n",
    "@check_exercise_94\n",
    "def exercise_94(numbers, target):\n",
    "    # This line is mandatory and should not be removed\n",
    "    ex_stat_init = True\n",
    "\n",
    "    # BELOW GOES YOUR CODE\n",
    "    if not numbers:\n",
    "        position = -2\n",
    "    elif target in numbers:\n",
    "        position = numbers.index(target)\n",
    "    else:\n",
    "        position = -1\n",
    "    # ABOVE GOES YOUR CODE\n",
    "\n",
    "    return {\"position\": position}\n",
    "\n",
    "# Run the exercise\n",
    "exercise_94()\n"
   ]
  },
  {
   "cell_type": "code",
   "execution_count": 183,
   "id": "f35de61f",
   "metadata": {
    "ExecuteTime": {
     "end_time": "2024-12-24T02:12:00.410909200Z",
     "start_time": "2024-12-24T02:11:51.186505200Z"
    }
   },
   "outputs": [
    {
     "name": "stdout",
     "output_type": "stream",
     "text": [
      "✅ Great job! Exercise completed successfully.\n"
     ]
    }
   ],
   "source": [
    "# Given the variable `password`, assign to the variable `is_strong` True if `password` is at least 8 characters long and contains both uppercase and lowercase letters, False otherwise\n",
    "\n",
    "@check_exercise_95\n",
    "def exercise_95(password):\n",
    "    # This line is mandatory and should not be removed\n",
    "    ex_stat_init = True\n",
    "\n",
    "    # BELOW GOES YOUR CODE\n",
    "    is_strong = (\n",
    "        len(password) >= 8 and \n",
    "        any(char.isupper() for char in password) and \n",
    "        any(char.islower() for char in password)\n",
    "    )\n",
    "    # ABOVE GOES YOUR CODE\n",
    "\n",
    "    return {\"is_strong\": is_strong}\n",
    "\n",
    "# Run the exercise\n",
    "exercise_95()\n"
   ]
  },
  {
   "cell_type": "code",
   "execution_count": 184,
   "id": "f8bfe709",
   "metadata": {
    "ExecuteTime": {
     "end_time": "2024-12-24T02:12:00.410909200Z",
     "start_time": "2024-12-24T02:11:51.194843300Z"
    }
   },
   "outputs": [
    {
     "name": "stdout",
     "output_type": "stream",
     "text": [
      "✅ Great job! Exercise completed successfully.\n"
     ]
    }
   ],
   "source": [
    "# Given the variables `x`, `y`, and `z`, assign to the variable `is_triangle` True if the sum of any two sides is greater than the third side for all three combinations, False otherwise\n",
    "\n",
    "@check_exercise_96\n",
    "def exercise_96(x, y, z):\n",
    "    # This line is mandatory and should not be removed\n",
    "    ex_stat_init = True\n",
    "\n",
    "    # BELOW GOES YOUR CODE\n",
    "    is_triangle = (x + y > z) and (x + z > y) and (y + z > x)\n",
    "    # ABOVE GOES YOUR CODE\n",
    "\n",
    "    return {\"is_triangle\": is_triangle}\n",
    "\n",
    "# Run the exercise\n",
    "exercise_96()\n"
   ]
  },
  {
   "cell_type": "code",
   "execution_count": 185,
   "id": "d6ed0495",
   "metadata": {
    "ExecuteTime": {
     "end_time": "2024-12-24T02:12:00.410909200Z",
     "start_time": "2024-12-24T02:11:51.208057500Z"
    }
   },
   "outputs": [
    {
     "name": "stdout",
     "output_type": "stream",
     "text": [
      "✅ Great job! Exercise completed successfully.\n"
     ]
    }
   ],
   "source": [
    "# Given the variable `name`, assign to the variable `greeting` the string \"Hello, {name}!\" if `name` is not empty, \"Hello, Guest!\" otherwise, using a ternary operator\n",
    "\n",
    "@check_exercise_97\n",
    "def exercise_97(name):\n",
    "    # This line is mandatory and should not be removed\n",
    "    ex_stat_init = True\n",
    "\n",
    "    # BELOW GOES YOUR CODE\n",
    "    greeting = f\"Hello, {name}!\" if name else \"Hello, Guest!\"\n",
    "    # ABOVE GOES YOUR CODE\n",
    "\n",
    "    return {\"greeting\": greeting}\n",
    "\n",
    "# Run the exercise\n",
    "exercise_97()\n"
   ]
  },
  {
   "cell_type": "code",
   "execution_count": 186,
   "id": "214a4c1c",
   "metadata": {
    "ExecuteTime": {
     "end_time": "2024-12-24T02:12:00.411908400Z",
     "start_time": "2024-12-24T02:11:51.218571600Z"
    }
   },
   "outputs": [
    {
     "name": "stdout",
     "output_type": "stream",
     "text": [
      "✅ Great job! Exercise completed successfully.\n"
     ]
    }
   ],
   "source": [
    "# Given a set `valid_colors` and a variable `chosen_color`, assign to the variable `is_valid_choice` True if `chosen_color` is in `valid_colors`, False otherwise\n",
    "\n",
    "@check_exercise_98\n",
    "def exercise_98(valid_colors, chosen_color):\n",
    "    # This line is mandatory and should not be removed\n",
    "    ex_stat_init = True\n",
    "\n",
    "    # BELOW GOES YOUR CODE\n",
    "    is_valid_choice = chosen_color in valid_colors\n",
    "    # ABOVE GOES YOUR CODE\n",
    "\n",
    "    return {\"is_valid_choice\": is_valid_choice}\n",
    "\n",
    "# Run the exercise\n",
    "exercise_98()\n"
   ]
  },
  {
   "cell_type": "code",
   "execution_count": 187,
   "id": "32dbf1e6",
   "metadata": {
    "ExecuteTime": {
     "end_time": "2024-12-24T02:12:00.411908400Z",
     "start_time": "2024-12-24T02:11:51.228611200Z"
    }
   },
   "outputs": [
    {
     "name": "stdout",
     "output_type": "stream",
     "text": [
      "✅ Great job! Exercise completed successfully.\n"
     ]
    }
   ],
   "source": [
    "# Given a list of strings called `words`, assign to the variable `has_long_word` True if any word in the list has more than 10 characters, False otherwise\n",
    "\n",
    "@check_exercise_99\n",
    "def exercise_99(words):\n",
    "    # This line is mandatory and should not be removed\n",
    "    ex_stat_init = True\n",
    "\n",
    "    # BELOW GOES YOUR CODE\n",
    "    has_long_word = any(len(word) > 10 for word in words)\n",
    "    # ABOVE GOES YOUR CODE\n",
    "\n",
    "    return {\"has_long_word\": has_long_word}\n",
    "\n",
    "# Run the exercise\n",
    "exercise_99()\n"
   ]
  },
  {
   "cell_type": "code",
   "execution_count": 188,
   "id": "8cf4de06",
   "metadata": {
    "ExecuteTime": {
     "end_time": "2024-12-24T02:12:00.411908400Z",
     "start_time": "2024-12-24T02:11:51.261113800Z"
    }
   },
   "outputs": [
    {
     "name": "stdout",
     "output_type": "stream",
     "text": [
      "✅ Great job! Exercise completed successfully.\n"
     ]
    }
   ],
   "source": [
    "# Given a list of numbers called `measurements`, assign to the variable `within_tolerance` True if all numbers in the list are between 0 and 100 (inclusive), False otherwise\n",
    "\n",
    "@check_exercise_100\n",
    "def exercise_100(measurements):\n",
    "    # This line is mandatory and should not be removed\n",
    "    ex_stat_init = True\n",
    "\n",
    "    # BELOW GOES YOUR CODE\n",
    "    within_tolerance = all(0 <= num <= 100 for num in measurements)\n",
    "    # ABOVE GOES YOUR CODE\n",
    "\n",
    "    return {\"within_tolerance\": within_tolerance}\n",
    "\n",
    "# Run the exercise\n",
    "exercise_100()\n"
   ]
  },
  {
   "cell_type": "code",
   "execution_count": 189,
   "id": "3e1b6bcd",
   "metadata": {
    "ExecuteTime": {
     "end_time": "2024-12-24T02:12:00.411908400Z",
     "start_time": "2024-12-24T02:11:51.270711600Z"
    }
   },
   "outputs": [
    {
     "name": "stdout",
     "output_type": "stream",
     "text": [
      "✅ Great job! Exercise completed successfully.\n"
     ]
    }
   ],
   "source": [
    "# Given two time strings `time1` and `time2` in \"HH:MM\" format, assign to the variable `is_later` \n",
    "# True if `time2` is later than `time1`, False otherwise\n",
    "\n",
    "@check_exercise_101\n",
    "def exercise_101(time1, time2):\n",
    "    # This line is mandatory and should not be removed\n",
    "    ex_stat_init = True\n",
    "\n",
    "    # BELOW GOES YOUR CODE\n",
    "    is_later = time2 > time1\n",
    "    # ABOVE GOES YOUR CODE\n",
    "\n",
    "    return {\"is_later\": is_later}\n",
    "\n",
    "# Run the exercise\n",
    "exercise_101()\n"
   ]
  },
  {
   "cell_type": "code",
   "execution_count": 190,
   "id": "4bf72e2d",
   "metadata": {
    "ExecuteTime": {
     "end_time": "2024-12-24T02:12:00.412911600Z",
     "start_time": "2024-12-24T02:11:51.276569Z"
    }
   },
   "outputs": [
    {
     "name": "stdout",
     "output_type": "stream",
     "text": [
      "✅ Great job! Exercise completed successfully.\n"
     ]
    }
   ],
   "source": [
    "# Given a dictionary `stock` and a variable `item`, assign to the variable `availability` \"In stock\" if `item` is a key in `stock` and its value is greater than 0, \"Out of stock\" otherwise\n",
    "\n",
    "@check_exercise_102\n",
    "def exercise_102(stock, item):\n",
    "    # This line is mandatory and should not be removed\n",
    "    ex_stat_init = True\n",
    "\n",
    "    # BELOW GOES YOUR CODE\n",
    "    availability = \"In stock\" if stock.get(item, 0) > 0 else \"Out of stock\"\n",
    "    # ABOVE GOES YOUR CODE\n",
    "\n",
    "    return {\"availability\": availability}\n",
    "\n",
    "# Run the exercise\n",
    "exercise_102()\n"
   ]
  },
  {
   "cell_type": "code",
   "execution_count": 191,
   "id": "f2eb4cfd",
   "metadata": {
    "ExecuteTime": {
     "end_time": "2024-12-24T02:12:00.412911600Z",
     "start_time": "2024-12-24T02:11:51.288607800Z"
    }
   },
   "outputs": [
    {
     "name": "stdout",
     "output_type": "stream",
     "text": [
      "✅ Great job! Exercise completed successfully.\n"
     ]
    }
   ],
   "source": [
    "# Given variables `hours`, `minutes`, and `seconds`, assign to the variable `time_format` the string in \"HH:MM:SS\" format if all are provided, \"HH:MM\" format if only hours and minutes are provided, \"HH\" format if only hours are provided\n",
    "\n",
    "@check_exercise_103\n",
    "def exercise_103(hours, minutes, seconds):\n",
    "    # This line is mandatory and should not be removed\n",
    "    ex_stat_init = True\n",
    "\n",
    "    # BELOW GOES YOUR CODE\n",
    "    if hours is not None and minutes is not None and seconds is not None:\n",
    "        time_format = f\"{hours:02}:{minutes:02}:{seconds:02}\"\n",
    "    elif hours is not None and minutes is not None:\n",
    "        time_format = f\"{hours:02}:{minutes:02}\"\n",
    "    elif hours is not None:\n",
    "        time_format = f\"{hours:02}\"\n",
    "    # ABOVE GOES YOUR CODE\n",
    "\n",
    "    return {\"time_format\": time_format}\n",
    "\n",
    "# Run the exercise\n",
    "exercise_103()\n"
   ]
  },
  {
   "cell_type": "code",
   "execution_count": 192,
   "id": "76c48a86",
   "metadata": {
    "ExecuteTime": {
     "end_time": "2024-12-24T02:12:00.413925600Z",
     "start_time": "2024-12-24T02:11:51.297096700Z"
    }
   },
   "outputs": [
    {
     "name": "stdout",
     "output_type": "stream",
     "text": [
      "✅ Great job! Exercise completed successfully.\n"
     ]
    }
   ],
   "source": [
    "# Given a variable `operation` and two variables `a` and `b`, assign to the variable `result` the sum if `operation` is \"+\", difference if \"-\", product if \"*\", quotient if \"/\", \"Error\" if \"/\" and `b` is 0, \"Invalid operation\" for any other operation\n",
    "\n",
    "@check_exercise_104\n",
    "def exercise_104(operation, a, b):\n",
    "    # This line is mandatory and should not be removed\n",
    "    ex_stat_init = True\n",
    "\n",
    "    # BELOW GOES YOUR CODE\n",
    "    if operation == \"+\":\n",
    "        result = a + b\n",
    "    elif operation == \"-\":\n",
    "        result = a - b\n",
    "    elif operation == \"*\":\n",
    "        result = a * b\n",
    "    elif operation == \"/\":\n",
    "        result = \"Error\" if b == 0 else a / b\n",
    "    else:\n",
    "        result = \"Invalid operation\"\n",
    "    # ABOVE GOES YOUR CODE\n",
    "\n",
    "    return {\"result\": result}\n",
    "\n",
    "# Run the exercise\n",
    "exercise_104()\n"
   ]
  },
  {
   "cell_type": "code",
   "execution_count": 193,
   "id": "95f9356c",
   "metadata": {
    "ExecuteTime": {
     "end_time": "2024-12-24T02:12:00.413925600Z",
     "start_time": "2024-12-24T02:11:51.307629200Z"
    }
   },
   "outputs": [
    {
     "name": "stdout",
     "output_type": "stream",
     "text": [
      "✅ Great job! Exercise completed successfully.\n"
     ]
    }
   ],
   "source": [
    "# Given a filename `file`, assign to the variable `file_type` \"Image\" if the file ends with .jpg, .png, or .gif, \"Document\" if it ends with .doc, .docx, or .pdf, \"Spreadsheet\" if it ends with .xls or .xlsx, \"Other\" for any other extension\n",
    "\n",
    "@check_exercise_105\n",
    "def exercise_105(file):\n",
    "    # This line is mandatory and should not be removed\n",
    "    ex_stat_init = True\n",
    "\n",
    "    # BELOW GOES YOUR CODE\n",
    "    if file.endswith((\".jpg\", \".png\", \".gif\")):\n",
    "        file_type = \"Image\"\n",
    "    elif file.endswith((\".doc\", \".docx\", \".pdf\")):\n",
    "        file_type = \"Document\"\n",
    "    elif file.endswith((\".xls\", \".xlsx\")):\n",
    "        file_type = \"Spreadsheet\"\n",
    "    else:\n",
    "        file_type = \"Other\"\n",
    "    # ABOVE GOES YOUR CODE\n",
    "\n",
    "    return {\"file_type\": file_type}\n",
    "\n",
    "# Run the exercise\n",
    "exercise_105()\n"
   ]
  },
  {
   "cell_type": "code",
   "execution_count": 194,
   "id": "bd21864d",
   "metadata": {
    "ExecuteTime": {
     "end_time": "2024-12-24T02:12:00.413925600Z",
     "start_time": "2024-12-24T02:11:51.316662400Z"
    }
   },
   "outputs": [
    {
     "name": "stdout",
     "output_type": "stream",
     "text": [
      "✅ Great job! Exercise completed successfully.\n"
     ]
    }
   ],
   "source": [
    "# Given variables `start_date`, `end_date`, and `check_date` all being a string in \"HH:MM:SS\" format, assign to the variable `is_within_range` True if `check_date` is between `start_date` and `end_date` (inclusive), False otherwise\n",
    "\n",
    "@check_exercise_106\n",
    "def exercise_106(start_date, end_date, check_date):\n",
    "    # This line is mandatory and should not be removed\n",
    "    ex_stat_init = True\n",
    "\n",
    "    # BELOW GOES YOUR CODE\n",
    "    is_within_range = start_date <= check_date <= end_date\n",
    "    # ABOVE GOES YOUR CODE\n",
    "\n",
    "    return {\"is_within_range\": is_within_range}\n",
    "\n",
    "# Run the exercise\n",
    "exercise_106()\n"
   ]
  },
  {
   "cell_type": "code",
   "execution_count": 195,
   "id": "a023516d",
   "metadata": {
    "ExecuteTime": {
     "end_time": "2024-12-24T02:12:00.413925600Z",
     "start_time": "2024-12-24T02:11:51.324180900Z"
    }
   },
   "outputs": [
    {
     "name": "stdout",
     "output_type": "stream",
     "text": [
      "✅ Great job! Exercise completed successfully.\n"
     ]
    }
   ],
   "source": [
    "# Given a variable `version` in the format \"X.Y.Z\", assign to the variable `is_compatible` True if X is 2, Y is greater than 5, and Z is any number, or if X is 3 and Y is less than 2, False otherwise\n",
    "\n",
    "@check_exercise_107\n",
    "def exercise_107(version):\n",
    "    # This line is mandatory and should not be removed\n",
    "    ex_stat_init = True\n",
    "\n",
    "    # BELOW GOES YOUR CODE\n",
    "    x, y, z = map(int, version.split(\".\"))\n",
    "    is_compatible = (x == 2 and y > 5) or (x == 3 and y < 2)\n",
    "    # ABOVE GOES YOUR CODE\n",
    "\n",
    "    return {\"is_compatible\": is_compatible}\n",
    "\n",
    "# Run the exercise\n",
    "exercise_107()\n"
   ]
  },
  {
   "cell_type": "code",
   "execution_count": 196,
   "id": "c48eb17e",
   "metadata": {
    "ExecuteTime": {
     "end_time": "2024-12-24T02:12:00.413925600Z",
     "start_time": "2024-12-24T02:11:51.339855500Z"
    }
   },
   "outputs": [
    {
     "name": "stdout",
     "output_type": "stream",
     "text": [
      "✅ Great job! Exercise completed successfully.\n"
     ]
    }
   ],
   "source": [
    "# Given a list of numbers `values`, assign to the variable `processed` a new list where each number is doubled if it's even, or tripled if it's odd, using a ternary operator in a list comprehension\n",
    "\n",
    "@check_exercise_108\n",
    "def exercise_108(values):\n",
    "    # This line is mandatory and should not be removed\n",
    "    ex_stat_init = True\n",
    "\n",
    "    # BELOW GOES YOUR CODE\n",
    "    processed = [value * 2 if value % 2 == 0 else value * 3 for value in values]\n",
    "    # ABOVE GOES YOUR CODE\n",
    "\n",
    "    return {\"processed\": processed}\n",
    "\n",
    "# Run the exercise\n",
    "exercise_108()\n"
   ]
  },
  {
   "cell_type": "code",
   "execution_count": 197,
   "id": "c161bade",
   "metadata": {
    "ExecuteTime": {
     "end_time": "2024-12-24T02:12:00.413925600Z",
     "start_time": "2024-12-24T02:11:51.345572200Z"
    }
   },
   "outputs": [
    {
     "name": "stdout",
     "output_type": "stream",
     "text": [
      "✅ Great job! Exercise completed successfully.\n"
     ]
    }
   ],
   "source": [
    "# Given a variable `text` and a list of `keywords`, assign to the variable `is_relevant` True if any of the keywords are found in the text (case-insensitive), False otherwise\n",
    "\n",
    "@check_exercise_109\n",
    "def exercise_109(text, keywords):\n",
    "    # This line is mandatory and should not be removed\n",
    "    ex_stat_init = True\n",
    "\n",
    "    # BELOW GOES YOUR CODE\n",
    "    text_lower = text.lower()\n",
    "    is_relevant = any(keyword.lower() in text_lower for keyword in keywords)\n",
    "    # ABOVE GOES YOUR CODE\n",
    "\n",
    "    return {\"is_relevant\": is_relevant}\n",
    "\n",
    "# Run the exercise\n",
    "exercise_109()\n"
   ]
  },
  {
   "cell_type": "code",
   "execution_count": 198,
   "id": "6f5c382a",
   "metadata": {
    "ExecuteTime": {
     "end_time": "2024-12-24T02:12:00.414920400Z",
     "start_time": "2024-12-24T02:11:51.357645400Z"
    }
   },
   "outputs": [
    {
     "name": "stdout",
     "output_type": "stream",
     "text": [
      "✅ Great job! Exercise completed successfully.\n"
     ]
    }
   ],
   "source": [
    "# Given a list of `Employee` objects called `staff`, assign to the variable `has_manager` True if any employee has the title \"Manager\", False otherwise (assume each Employee object has a `title` attribute)\n",
    "\n",
    "@check_exercise_110\n",
    "def exercise_110(staff):\n",
    "    # This line is mandatory and should not be removed\n",
    "    ex_stat_init = True\n",
    "\n",
    "    # BELOW GOES YOUR CODE\n",
    "    has_manager = any(employee.title == \"Manager\" for employee in staff)\n",
    "    # ABOVE GOES YOUR CODE\n",
    "\n",
    "    return {\"has_manager\": has_manager}\n",
    "\n",
    "# Run the exercise\n",
    "exercise_110()\n"
   ]
  },
  {
   "cell_type": "code",
   "execution_count": 199,
   "id": "be36c3cf",
   "metadata": {
    "ExecuteTime": {
     "end_time": "2024-12-24T02:12:00.414920400Z",
     "start_time": "2024-12-24T02:11:51.363338200Z"
    }
   },
   "outputs": [
    {
     "name": "stdout",
     "output_type": "stream",
     "text": [
      "✅ Great job! Exercise completed successfully.\n"
     ]
    }
   ],
   "source": [
    "# Given a list of strings called `inputs`, assign to the variable `all_valid` True if all strings in the list are valid email addresses (use a simple check like contains \"@\" and \".\"), False otherwise\n",
    "\n",
    "@check_exercise_111\n",
    "def exercise_111(inputs):\n",
    "    # This line is mandatory and should not be removed\n",
    "    ex_stat_init = True\n",
    "\n",
    "    # BELOW GOES YOUR CODE\n",
    "    all_valid = all(\"@\" in email and \".\" in email for email in inputs)\n",
    "    # ABOVE GOES YOUR CODE\n",
    "\n",
    "    return {\"all_valid\": all_valid}\n",
    "\n",
    "# Run the exercise\n",
    "exercise_111()\n"
   ]
  },
  {
   "cell_type": "code",
   "execution_count": 200,
   "id": "59435666",
   "metadata": {
    "ExecuteTime": {
     "end_time": "2024-12-24T02:12:00.414920400Z",
     "start_time": "2024-12-24T02:11:51.374185100Z"
    }
   },
   "outputs": [
    {
     "name": "stdout",
     "output_type": "stream",
     "text": [
      "✅ Great job! Exercise completed successfully.\n"
     ]
    }
   ],
   "source": [
    "# Given two integers `a` and `b`, assign to the variable `has_common_bit` True if `a` and `b` have at least one common bit set to 1 in their binary representation, False otherwise\n",
    "\n",
    "@check_exercise_112\n",
    "def exercise_112(a, b):\n",
    "    # This line is mandatory and should not be removed\n",
    "    ex_stat_init = True\n",
    "\n",
    "    # BELOW GOES YOUR CODE\n",
    "    has_common_bit = (a & b) != 0\n",
    "    # ABOVE GOES YOUR CODE\n",
    "\n",
    "    return {\"has_common_bit\": has_common_bit}\n",
    "\n",
    "# Run the exercise\n",
    "exercise_112()\n"
   ]
  },
  {
   "cell_type": "code",
   "execution_count": 201,
   "id": "4f4a9916",
   "metadata": {
    "ExecuteTime": {
     "end_time": "2024-12-24T02:12:00.414920400Z",
     "start_time": "2024-12-24T02:11:51.383894700Z"
    }
   },
   "outputs": [
    {
     "name": "stdout",
     "output_type": "stream",
     "text": [
      "✅ Great job! Exercise completed successfully.\n"
     ]
    }
   ],
   "source": [
    "# Given a variable `password`, assign to the variable `meets_policy` True if `password` contains at least one uppercase letter, one lowercase letter, one digit, and is at least 8 characters long, False otherwise\n",
    "\n",
    "@check_exercise_113\n",
    "def exercise_113(password):\n",
    "    # This line is mandatory and should not be removed\n",
    "    ex_stat_init = True\n",
    "\n",
    "    # BELOW GOES YOUR CODE\n",
    "    meets_policy = (\n",
    "        len(password) >= 8 and\n",
    "        any(char.isupper() for char in password) and\n",
    "        any(char.islower() for char in password) and\n",
    "        any(char.isdigit() for char in password)\n",
    "    )\n",
    "    # ABOVE GOES YOUR CODE\n",
    "\n",
    "    return {\"meets_policy\": meets_policy}\n",
    "\n",
    "# Run the exercise\n",
    "exercise_113()\n"
   ]
  },
  {
   "cell_type": "code",
   "execution_count": 202,
   "id": "55189dec",
   "metadata": {
    "ExecuteTime": {
     "end_time": "2024-12-24T02:12:00.414920400Z",
     "start_time": "2024-12-24T02:11:51.392362600Z"
    }
   },
   "outputs": [
    {
     "name": "stdout",
     "output_type": "stream",
     "text": [
      "✅ Great job! Exercise completed successfully.\n"
     ]
    }
   ],
   "source": [
    "# Given a variable `length` and a variable `unit` (either \"m\", \"ft\", or \"yd\"), assign to the variable `meters` the length converted to meters\n",
    "\n",
    "@check_exercise_114\n",
    "def exercise_114(length, unit):\n",
    "    # This line is mandatory and should not be removed\n",
    "    ex_stat_init = True\n",
    "\n",
    "    # BELOW GOES YOUR CODE\n",
    "    if unit == \"m\":\n",
    "        meters = length\n",
    "    elif unit == \"ft\":\n",
    "        meters = length * 0.3048\n",
    "    elif unit == \"yd\":\n",
    "        meters = length * 0.9144\n",
    "    else:\n",
    "        meters = None\n",
    "    # ABOVE GOES YOUR CODE\n",
    "\n",
    "    return {\"meters\": meters}\n",
    "\n",
    "# Run the exercise\n",
    "exercise_114()\n"
   ]
  },
  {
   "cell_type": "code",
   "execution_count": 203,
   "id": "5c866047",
   "metadata": {
    "ExecuteTime": {
     "end_time": "2024-12-24T02:12:00.414920400Z",
     "start_time": "2024-12-24T02:11:51.410539700Z"
    }
   },
   "outputs": [
    {
     "name": "stdout",
     "output_type": "stream",
     "text": [
      "✅ Great job! Exercise completed successfully.\n"
     ]
    }
   ],
   "source": [
    "# Given a variable `status_code`, assign to the variable `message` a descriptive string based on common HTTP status codes (200: \"OK\", 404: \"Not Found\", 500: \"Server Error\", etc.)\n",
    "\n",
    "@check_exercise_115\n",
    "def exercise_115(status_code):\n",
    "    # This line is mandatory and should not be removed\n",
    "    ex_stat_init = True\n",
    "\n",
    "    # BELOW GOES YOUR CODE\n",
    "    messages = {\n",
    "        200: \"OK\",\n",
    "        201: \"Created\",\n",
    "        204: \"No Content\",\n",
    "        400: \"Bad Request\",\n",
    "        401: \"Unauthorized\",\n",
    "        403: \"Forbidden\",\n",
    "        404: \"Not Found\",\n",
    "        500: \"Server Error\",\n",
    "        502: \"Bad Gateway\",\n",
    "        503: \"Service Unavailable\"\n",
    "    }\n",
    "    message = messages.get(status_code, \"Unknown Status Code\")\n",
    "    # ABOVE GOES YOUR CODE\n",
    "\n",
    "    return {\"message\": message}\n",
    "\n",
    "# Run the exercise\n",
    "exercise_115()\n"
   ]
  },
  {
   "cell_type": "code",
   "execution_count": 204,
   "id": "e4ed2207",
   "metadata": {
    "ExecuteTime": {
     "end_time": "2024-12-24T02:12:00.414920400Z",
     "start_time": "2024-12-24T02:11:51.416299900Z"
    }
   },
   "outputs": [
    {
     "name": "stdout",
     "output_type": "stream",
     "text": [
      "✅ Great job! Exercise completed successfully.\n"
     ]
    }
   ],
   "source": [
    "# Given variables `width` and `height`, assign to the variable `shape` the string \"square\" if width equals height, \"landscape\" if width is greater, \"portrait\" if height is greater\n",
    "\n",
    "@check_exercise_116\n",
    "def exercise_116(width, height):\n",
    "    # This line is mandatory and should not be removed\n",
    "    ex_stat_init = True\n",
    "\n",
    "    # BELOW GOES YOUR CODE\n",
    "    if width == height:\n",
    "        shape = \"square\"\n",
    "    elif width > height:\n",
    "        shape = \"landscape\"\n",
    "    else:\n",
    "        shape = \"portrait\"\n",
    "    # ABOVE GOES YOUR CODE\n",
    "\n",
    "    return {\"shape\": shape}\n",
    "\n",
    "# Run the exercise\n",
    "exercise_116()\n"
   ]
  },
  {
   "cell_type": "code",
   "execution_count": 205,
   "id": "23cf01d5",
   "metadata": {
    "ExecuteTime": {
     "end_time": "2024-12-24T02:12:00.414920400Z",
     "start_time": "2024-12-24T02:11:51.425052200Z"
    }
   },
   "outputs": [
    {
     "name": "stdout",
     "output_type": "stream",
     "text": [
      "✅ Great job! Exercise completed successfully.\n"
     ]
    }
   ],
   "source": [
    "# Given variables `username`, `email`, and `age`, assign to the variable `registration_status` \"Accepted\" if all are valid (non-empty username, valid email format (the mail contains the character `@` and `.`), age between 18 and 99), otherwise assign the string \"Username is empty\", \"Invalid email format\", or \"Age is not between 18 and 99\" as appropriate\n",
    "\n",
    "@check_exercise_117\n",
    "def exercise_117(username, email, age):\n",
    "    # This line is mandatory and should not be removed\n",
    "    ex_stat_init = True\n",
    "\n",
    "    # BELOW GOES YOUR CODE\n",
    "    if not username:\n",
    "        registration_status = \"Username is empty\"\n",
    "    elif \"@\" not in email or \".\" not in email:\n",
    "        registration_status = \"Invalid email format\"\n",
    "    elif not (18 <= age <= 99):\n",
    "        registration_status = \"Age is not between 18 and 99\"\n",
    "    else:\n",
    "        registration_status = \"Accepted\"\n",
    "    # ABOVE GOES YOUR CODE\n",
    "\n",
    "    return {\"registration_status\": registration_status}\n",
    "\n",
    "# Run the exercise\n",
    "exercise_117()\n"
   ]
  },
  {
   "cell_type": "code",
   "execution_count": 206,
   "id": "64c8abf6",
   "metadata": {
    "ExecuteTime": {
     "end_time": "2024-12-24T02:12:00.416427600Z",
     "start_time": "2024-12-24T02:11:51.436462100Z"
    }
   },
   "outputs": [
    {
     "name": "stdout",
     "output_type": "stream",
     "text": [
      "✅ Great job! Exercise completed successfully.\n"
     ]
    }
   ],
   "source": [
    "# Given boolean variables `is_admin`, `is_staff`, and `is_active`, assign to the variable `can_access_dashboard` True if the user is an active admin or an active staff member, False otherwise\n",
    "\n",
    "@check_exercise_118\n",
    "def exercise_118(is_admin, is_staff, is_active):\n",
    "    # This line is mandatory and should not be removed\n",
    "    ex_stat_init = True\n",
    "\n",
    "    # BELOW GOES YOUR CODE\n",
    "    can_access_dashboard = is_active and (is_admin or is_staff)\n",
    "    # ABOVE GOES YOUR CODE\n",
    "\n",
    "    return {\"can_access_dashboard\": can_access_dashboard}\n",
    "\n",
    "# Run the exercise\n",
    "exercise_118()"
   ]
  },
  {
   "cell_type": "code",
   "execution_count": 207,
   "id": "a9cfd482",
   "metadata": {
    "ExecuteTime": {
     "end_time": "2024-12-24T02:12:00.416427600Z",
     "start_time": "2024-12-24T02:11:51.444620500Z"
    }
   },
   "outputs": [
    {
     "name": "stdout",
     "output_type": "stream",
     "text": [
      "✅ Great job! Exercise completed successfully.\n"
     ]
    }
   ],
   "source": [
    "# Given variables `is_weekday`, `is_business_hours`, and `is_holiday`, assign to the variable `is_open` True if it's a weekday during business hours and not a holiday, False otherwise\n",
    "\n",
    "@check_exercise_119\n",
    "def exercise_119(is_weekday, is_business_hours, is_holiday):\n",
    "    # This line is mandatory and should not be removed\n",
    "    ex_stat_init = True\n",
    "\n",
    "    # BELOW GOES YOUR CODE\n",
    "    is_open = is_weekday and is_business_hours and not is_holiday\n",
    "    # ABOVE GOES YOUR CODE\n",
    "\n",
    "    return {\"is_open\": is_open}\n",
    "\n",
    "# Run the exercise\n",
    "exercise_119()"
   ]
  },
  {
   "cell_type": "code",
   "execution_count": 208,
   "id": "daf59615",
   "metadata": {
    "ExecuteTime": {
     "end_time": "2024-12-24T02:12:00.416427600Z",
     "start_time": "2024-12-24T02:11:51.457160Z"
    }
   },
   "outputs": [
    {
     "name": "stdout",
     "output_type": "stream",
     "text": [
      "✅ Great job! Exercise completed successfully.\n"
     ]
    }
   ],
   "source": [
    "# Given a variable `full_name`, assign to the variable `display_name` the first name if `full_name` contains a space, otherwise assign the full name, using a ternary operator\n",
    "\n",
    "@check_exercise_120\n",
    "def exercise_120(full_name):\n",
    "    # This line is mandatory and should not be removed\n",
    "    ex_stat_init = True\n",
    "\n",
    "    # BELOW GOES YOUR CODE\n",
    "    display_name = full_name.split()[0] if \" \" in full_name else full_name\n",
    "    # ABOVE GOES YOUR CODE\n",
    "\n",
    "    return {\"display_name\": display_name}\n",
    "\n",
    "# Run the exercise\n",
    "exercise_120()"
   ]
  },
  {
   "cell_type": "code",
   "execution_count": 209,
   "id": "d177f956",
   "metadata": {
    "ExecuteTime": {
     "end_time": "2024-12-24T02:12:00.417433800Z",
     "start_time": "2024-12-24T02:11:51.466486300Z"
    }
   },
   "outputs": [
    {
     "name": "stdout",
     "output_type": "stream",
     "text": [
      "✅ Great job! Exercise completed successfully.\n"
     ]
    }
   ],
   "source": [
    "# Given a variable `grade` (0-100), assign to the variable `letter_grade` \"A\" for 90-100, \"B\" for 80-89, \"C\" for 70-79, \"D\" for 60-69, \"F\" for 0-59\n",
    "\n",
    "@check_exercise_121\n",
    "def exercise_121(grade):\n",
    "    # This line is mandatory and should not be removed\n",
    "    ex_stat_init = True\n",
    "\n",
    "    # BELOW GOES YOUR CODE\n",
    "    if 90 <= grade <= 100:\n",
    "        letter_grade = \"A\"\n",
    "    elif 80 <= grade <= 89:\n",
    "        letter_grade = \"B\"\n",
    "    elif 70 <= grade <= 79:\n",
    "        letter_grade = \"C\"\n",
    "    elif 60 <= grade <= 69:\n",
    "        letter_grade = \"D\"\n",
    "    else:\n",
    "        letter_grade = \"F\"\n",
    "    # ABOVE GOES YOUR CODE\n",
    "\n",
    "    return {\"letter_grade\": letter_grade}\n",
    "\n",
    "# Run the exercise\n",
    "exercise_121()"
   ]
  },
  {
   "cell_type": "code",
   "execution_count": 210,
   "id": "9b65c4f8",
   "metadata": {
    "ExecuteTime": {
     "end_time": "2024-12-24T02:12:00.417433800Z",
     "start_time": "2024-12-24T02:11:51.476416200Z"
    }
   },
   "outputs": [
    {
     "name": "stdout",
     "output_type": "stream",
     "text": [
      "✅ Great job! Exercise completed successfully.\n"
     ]
    }
   ],
   "source": [
    "# Given a list of strings `phrases`, assign to the variable `contains_python` True if any phrase contains the word \"python\" (case-insensitive), False otherwise, using a generator expression\n",
    "\n",
    "@check_exercise_122\n",
    "def exercise_122(phrases):\n",
    "    # This line is mandatory and should not be removed\n",
    "    ex_stat_init = True\n",
    "\n",
    "    # BELOW GOES YOUR CODE\n",
    "    contains_python = any(\"python\" in phrase.lower() for phrase in phrases)\n",
    "    # ABOVE GOES YOUR CODE\n",
    "\n",
    "    return {\"contains_python\": contains_python}\n",
    "\n",
    "# Run the exercise\n",
    "exercise_122()"
   ]
  },
  {
   "cell_type": "code",
   "execution_count": 211,
   "id": "d800bf35",
   "metadata": {
    "ExecuteTime": {
     "end_time": "2024-12-24T02:12:00.417433800Z",
     "start_time": "2024-12-24T02:11:51.486759900Z"
    }
   },
   "outputs": [
    {
     "name": "stdout",
     "output_type": "stream",
     "text": [
      "✅ Great job! Exercise completed successfully.\n"
     ]
    }
   ],
   "source": [
    "# Given two sets `required_skills` and `candidate_skills`, assign to the variable `is_qualified` True if the candidate has all the required skills, False otherwise\n",
    "\n",
    "@check_exercise_123\n",
    "def exercise_123(required_skills, candidate_skills):\n",
    "    # This line is mandatory and should not be removed\n",
    "    ex_stat_init = True\n",
    "\n",
    "    # BELOW GOES YOUR CODE\n",
    "    is_qualified = required_skills.issubset(candidate_skills)\n",
    "    # ABOVE GOES YOUR CODE\n",
    "\n",
    "    return {\"is_qualified\": is_qualified}\n",
    "\n",
    "# Run the exercise\n",
    "exercise_123()"
   ]
  },
  {
   "cell_type": "code",
   "execution_count": 212,
   "id": "32baeb34",
   "metadata": {
    "ExecuteTime": {
     "end_time": "2024-12-24T02:12:00.417433800Z",
     "start_time": "2024-12-24T02:11:51.496610200Z"
    }
   },
   "outputs": [
    {
     "name": "stdout",
     "output_type": "stream",
     "text": [
      "✅ Great job! Exercise completed successfully.\n"
     ]
    }
   ],
   "source": [
    "# Given a variable `product_code`, assign to the variable `is_electronics` True if the product code starts with \"EL\", False otherwise\n",
    "\n",
    "@check_exercise_124\n",
    "def exercise_124(product_code):\n",
    "    # This line is mandatory and should not be removed\n",
    "    ex_stat_init = True\n",
    "\n",
    "    # BELOW GOES YOUR CODE\n",
    "    is_electronics = product_code.startswith(\"EL\")\n",
    "    # ABOVE GOES YOUR CODE\n",
    "\n",
    "    return {\"is_electronics\": is_electronics}\n",
    "\n",
    "# Run the exercise\n",
    "exercise_124()"
   ]
  },
  {
   "cell_type": "code",
   "execution_count": 213,
   "id": "ebfef0aa",
   "metadata": {
    "ExecuteTime": {
     "end_time": "2024-12-24T02:12:00.418453600Z",
     "start_time": "2024-12-24T02:11:51.507738300Z"
    }
   },
   "outputs": [
    {
     "name": "stdout",
     "output_type": "stream",
     "text": [
      "✅ Great job! Exercise completed successfully.\n"
     ]
    }
   ],
   "source": [
    "# Given a dictionary `scores` with names as keys and numeric scores as values, assign to the variable `grades` a new dictionary where scores are replaced with letter grades (A: 90-100, B: 80-89, C: 70-79, D: 60-69, F: 0-59)\n",
    "\n",
    "@check_exercise_125\n",
    "def exercise_125(scores):\n",
    "    # This line is mandatory and should not be removed\n",
    "    ex_stat_init = True\n",
    "\n",
    "    # BELOW GOES YOUR CODE\n",
    "    grades = {\n",
    "        name: (\n",
    "            \"A\" if 90 <= score <= 100 else\n",
    "            \"B\" if 80 <= score <= 89 else\n",
    "            \"C\" if 70 <= score <= 79 else\n",
    "            \"D\" if 60 <= score <= 69 else\n",
    "            \"F\"\n",
    "        )\n",
    "        for name, score in scores.items()\n",
    "    }\n",
    "    # ABOVE GOES YOUR CODE\n",
    "\n",
    "    return {\"grades\": grades}\n",
    "\n",
    "# Run the exercise\n",
    "exercise_125()"
   ]
  },
  {
   "cell_type": "code",
   "execution_count": 214,
   "id": "5afd68c2",
   "metadata": {
    "ExecuteTime": {
     "end_time": "2024-12-24T02:12:00.418453600Z",
     "start_time": "2024-12-24T02:11:51.522268200Z"
    }
   },
   "outputs": [
    {
     "name": "stdout",
     "output_type": "stream",
     "text": [
      "✅ Great job! Exercise completed successfully.\n"
     ]
    }
   ],
   "source": [
    "# Given variables `hours`, `minutes`, and `seconds`, assign to the variable `time_of_day` \"Morning\" for 5:00-11:59, \"Afternoon\" for 12:00-16:59, \"Evening\" for 17:00-20:59, \"Night\" for 21:00-4:59\n",
    "\n",
    "@check_exercise_126\n",
    "def exercise_126(hours, minutes, seconds):\n",
    "    # This line is mandatory and should not be removed\n",
    "    ex_stat_init = True\n",
    "\n",
    "    # BELOW GOES YOUR CODE\n",
    "    if 5 <= hours <= 11:\n",
    "        time_of_day = \"Morning\"\n",
    "    elif 12 <= hours <= 16:\n",
    "        time_of_day = \"Afternoon\"\n",
    "    elif 17 <= hours <= 20:\n",
    "        time_of_day = \"Evening\"\n",
    "    else:\n",
    "        time_of_day = \"Night\"\n",
    "    # ABOVE GOES YOUR CODE\n",
    "\n",
    "    return {\"time_of_day\": time_of_day}\n",
    "\n",
    "# Run the exercise\n",
    "exercise_126()\n"
   ]
  },
  {
   "cell_type": "code",
   "execution_count": 215,
   "id": "61b1ade4",
   "metadata": {
    "ExecuteTime": {
     "end_time": "2024-12-24T02:12:00.418453600Z",
     "start_time": "2024-12-24T02:11:51.531794200Z"
    }
   },
   "outputs": [
    {
     "name": "stdout",
     "output_type": "stream",
     "text": [
      "✅ Great job! Exercise completed successfully.\n"
     ]
    }
   ],
   "source": [
    "# Given a list `numbers`, assign to the variable `description` \"Ascending\" if the list is in ascending order, \"Descending\" if in descending order, \"Unsorted\" otherwise\n",
    "\n",
    "@check_exercise_127\n",
    "def exercise_127(numbers):\n",
    "    # This line is mandatory and should not be removed\n",
    "    ex_stat_init = True\n",
    "\n",
    "    # BELOW GOES YOUR CODE\n",
    "    if numbers == sorted(numbers):\n",
    "        description = \"Ascending\"\n",
    "    elif numbers == sorted(numbers, reverse=True):\n",
    "        description = \"Descending\"\n",
    "    else:\n",
    "        description = \"Unsorted\"\n",
    "    # ABOVE GOES YOUR CODE\n",
    "\n",
    "    return {\"description\": description}\n",
    "\n",
    "# Run the exercise\n",
    "exercise_127()"
   ]
  },
  {
   "cell_type": "code",
   "execution_count": 216,
   "id": "b8986119",
   "metadata": {
    "ExecuteTime": {
     "end_time": "2024-12-24T02:12:00.419436800Z",
     "start_time": "2024-12-24T02:11:51.537683300Z"
    }
   },
   "outputs": [
    {
     "name": "stdout",
     "output_type": "stream",
     "text": [
      "✅ Great job! Exercise completed successfully.\n"
     ]
    }
   ],
   "source": [
    "# Given variables `username` and `domain`, assign to the variable `valid_email` True if `username` contains only letters, numbers, dots, or underscores and `domain` ends with \".com\", \".org\", or \".edu\", False otherwise\n",
    "\n",
    "@check_exercise_128\n",
    "def exercise_128(username, domain):\n",
    "    # This line is mandatory and should not be removed\n",
    "    ex_stat_init = True\n",
    "\n",
    "    # BELOW GOES YOUR CODE\n",
    "    valid_username = all(char.isalnum() or char in \"._\" for char in username)\n",
    "    valid_domain = domain.endswith((\".com\", \".org\", \".edu\"))\n",
    "    valid_email = valid_username and valid_domain\n",
    "    # ABOVE GOES YOUR CODE\n",
    "\n",
    "    return {\"valid_email\": valid_email}\n",
    "\n",
    "# Run the exercise\n",
    "exercise_128()"
   ]
  },
  {
   "cell_type": "code",
   "execution_count": 217,
   "id": "883b210e",
   "metadata": {
    "ExecuteTime": {
     "end_time": "2024-12-24T02:12:00.419436800Z",
     "start_time": "2024-12-24T02:11:51.547821900Z"
    }
   },
   "outputs": [
    {
     "name": "stdout",
     "output_type": "stream",
     "text": [
      "✅ Great job! Exercise completed successfully.\n"
     ]
    }
   ],
   "source": [
    "# Given variables `sales_target`, `actual_sales`, `customer_satisfaction`, assign to the variable `bonus_percentage` 20% if sales target was met and satisfaction is above 4.5, 10% if either condition is true, 0% otherwise\n",
    "\n",
    "@check_exercise_129\n",
    "def exercise_129(sales_target, actual_sales, customer_satisfaction):\n",
    "    # This line is mandatory and should not be removed\n",
    "    ex_stat_init = True\n",
    "\n",
    "    # BELOW GOES YOUR CODE\n",
    "    if actual_sales >= sales_target and customer_satisfaction > 4.5:\n",
    "        bonus_percentage = 20\n",
    "    elif actual_sales >= sales_target or customer_satisfaction > 4.5:\n",
    "        bonus_percentage = 10\n",
    "    else:\n",
    "        bonus_percentage = 0\n",
    "    # ABOVE GOES YOUR CODE\n",
    "\n",
    "    return {\"bonus_percentage\": bonus_percentage}\n",
    "\n",
    "# Run the exercise\n",
    "exercise_129()"
   ]
  },
  {
   "cell_type": "code",
   "execution_count": 218,
   "id": "f3b35212",
   "metadata": {
    "ExecuteTime": {
     "end_time": "2024-12-24T02:12:00.419436800Z",
     "start_time": "2024-12-24T02:11:51.556862300Z"
    }
   },
   "outputs": [
    {
     "name": "stdout",
     "output_type": "stream",
     "text": [
      "✅ Great job! Exercise completed successfully.\n"
     ]
    }
   ],
   "source": [
    "# Given a dictionary `stock` and a variable `item`, assign to the variable `item_price` the price of the item if it exists in the stock, \"Not available\" otherwise, using a ternary operator and the dictionary's get method\n",
    "\n",
    "@check_exercise_130\n",
    "def exercise_130(stock, item):\n",
    "    # This line is mandatory and should not be removed\n",
    "    ex_stat_init = True\n",
    "\n",
    "    # BELOW GOES YOUR CODE\n",
    "    item_price = stock.get(item, \"Not available\")\n",
    "    # ABOVE GOES YOUR CODE\n",
    "\n",
    "    return {\"item_price\": item_price}\n",
    "\n",
    "# Run the exercise\n",
    "exercise_130()"
   ]
  },
  {
   "cell_type": "code",
   "execution_count": 219,
   "id": "e9fc43ea",
   "metadata": {
    "ExecuteTime": {
     "end_time": "2024-12-24T02:12:00.419436800Z",
     "start_time": "2024-12-24T02:11:51.568120Z"
    }
   },
   "outputs": [
    {
     "name": "stdout",
     "output_type": "stream",
     "text": [
      "✅ Great job! Exercise completed successfully.\n"
     ]
    }
   ],
   "source": [
    "# Given a list of version strings `versions` in \"X.Y.Z\" format, assign to the variable `all_stable` True if all versions have X greater than or equal to 1, False otherwise\n",
    "\n",
    "@check_exercise_131\n",
    "def exercise_131(versions):\n",
    "    # This line is mandatory and should not be removed\n",
    "    ex_stat_init = True\n",
    "\n",
    "    # BELOW GOES YOUR CODE\n",
    "    all_stable = all(int(version.split(\".\")[0]) >= 1 for version in versions)\n",
    "    # ABOVE GOES YOUR CODE\n",
    "\n",
    "    return {\"all_stable\": all_stable}\n",
    "\n",
    "# Run the exercise\n",
    "exercise_131()"
   ]
  },
  {
   "cell_type": "code",
   "execution_count": 220,
   "id": "9fca1b11",
   "metadata": {
    "ExecuteTime": {
     "end_time": "2024-12-24T02:12:00.419436800Z",
     "start_time": "2024-12-24T02:11:51.576639200Z"
    }
   },
   "outputs": [
    {
     "name": "stdout",
     "output_type": "stream",
     "text": [
      "✅ Great job! Exercise completed successfully.\n"
     ]
    }
   ],
   "source": [
    "# Given a list of numbers `values`, assign to the variable `signs` a new list where each number is replaced with \"positive\", \"negative\", or \"zero\"\n",
    "\n",
    "@check_exercise_132\n",
    "def exercise_132(values):\n",
    "    # This line is mandatory and should not be removed\n",
    "    ex_stat_init = True\n",
    "\n",
    "    # BELOW GOES YOUR CODE\n",
    "    signs = [\n",
    "        \"positive\" if value > 0 else \"negative\" if value < 0 else \"zero\"\n",
    "        for value in values\n",
    "    ]\n",
    "    # ABOVE GOES YOUR CODE\n",
    "\n",
    "    return {\"signs\": signs}\n",
    "\n",
    "# Run the exercise\n",
    "exercise_132()"
   ]
  },
  {
   "cell_type": "code",
   "execution_count": 221,
   "id": "867d6b9f",
   "metadata": {
    "ExecuteTime": {
     "end_time": "2024-12-24T02:12:00.419436800Z",
     "start_time": "2024-12-24T02:11:51.584784600Z"
    }
   },
   "outputs": [
    {
     "name": "stdout",
     "output_type": "stream",
     "text": [
      "✅ Great job! Exercise completed successfully.\n"
     ]
    }
   ],
   "source": [
    "# Given a variable `sentence`, assign to the variable `sentence_type` \"Question\" if it ends with \"?\", \"Exclamation\" if it ends with \"!\", \"Statement\" otherwise\n",
    "\n",
    "@check_exercise_133\n",
    "def exercise_133(sentence):\n",
    "    # This line is mandatory and should not be removed\n",
    "    ex_stat_init = True\n",
    "\n",
    "    # BELOW GOES YOUR CODE\n",
    "    sentence_type = (\n",
    "        \"Question\" if sentence.endswith(\"?\") \n",
    "        else \"Exclamation\" if sentence.endswith(\"!\") \n",
    "        else \"Statement\"\n",
    "    )\n",
    "    # ABOVE GOES YOUR CODE\n",
    "\n",
    "    return {\"sentence_type\": sentence_type}\n",
    "\n",
    "# Run the exercise\n",
    "exercise_133()"
   ]
  },
  {
   "cell_type": "code",
   "execution_count": 222,
   "id": "e0eb043e",
   "metadata": {
    "ExecuteTime": {
     "end_time": "2024-12-24T02:12:00.420435300Z",
     "start_time": "2024-12-24T02:11:51.597685600Z"
    }
   },
   "outputs": [
    {
     "name": "stdout",
     "output_type": "stream",
     "text": [
      "✅ Great job! Exercise completed successfully.\n"
     ]
    }
   ],
   "source": [
    "# Given a date string `date_str` in \"YYYY-MM-DD\" format, assign to the variable `season` \"Winter\", \"Spring\", \"Summer\", or \"Fall\" based on the month\n",
    "\n",
    "@check_exercise_134\n",
    "def exercise_134(date_str):\n",
    "    # This line is mandatory and should not be removed\n",
    "    ex_stat_init = True\n",
    "\n",
    "    # BELOW GOES YOUR CODE\n",
    "    month = int(date_str.split(\"-\")[1])\n",
    "    if month in [12, 1, 2]:\n",
    "        season = \"Winter\"\n",
    "    elif month in [3, 4, 5]:\n",
    "        season = \"Spring\"\n",
    "    elif month in [6, 7, 8]:\n",
    "        season = \"Summer\"\n",
    "    elif month in [9, 10, 11]:\n",
    "        season = \"Fall\"\n",
    "    # ABOVE GOES YOUR CODE\n",
    "\n",
    "    return {\"season\": season}\n",
    "\n",
    "# Run the exercise\n",
    "exercise_134()"
   ]
  },
  {
   "cell_type": "code",
   "execution_count": 223,
   "id": "a5573f18",
   "metadata": {
    "ExecuteTime": {
     "end_time": "2024-12-24T02:12:00.420435300Z",
     "start_time": "2024-12-24T02:11:51.606333Z"
    }
   },
   "outputs": [
    {
     "name": "stdout",
     "output_type": "stream",
     "text": [
      "✅ Great job! Exercise completed successfully.\n"
     ]
    }
   ],
   "source": [
    "# Given three sets `A`, `B`, and `C`, assign to the variable `set_relation` \"Subset\" if A is a subset of B else \"Superset\" if C is a superset of B else \"Equal\" if A equals C else \"Disjoint\" if A and C are disjoint\n",
    "\n",
    "@check_exercise_135\n",
    "def exercise_135(A, B, C):\n",
    "    # This line is mandatory and should not be removed\n",
    "    ex_stat_init = True\n",
    "\n",
    "    # BELOW GOES YOUR CODE\n",
    "    if A.issubset(B):\n",
    "        set_relation = \"Subset\"\n",
    "    elif C.issuperset(B):\n",
    "        set_relation = \"Superset\"\n",
    "    elif A == C:\n",
    "        set_relation = \"Equal\"\n",
    "    elif A.isdisjoint(C):\n",
    "        set_relation = \"Disjoint\"\n",
    "    # ABOVE GOES YOUR CODE\n",
    "\n",
    "    return {\"set_relation\": set_relation}\n",
    "\n",
    "# Run the exercise\n",
    "exercise_135()"
   ]
  },
  {
   "cell_type": "code",
   "execution_count": 224,
   "id": "ae95aa14",
   "metadata": {
    "ExecuteTime": {
     "end_time": "2024-12-24T02:12:00.420435300Z",
     "start_time": "2024-12-24T02:11:51.616759Z"
    }
   },
   "outputs": [
    {
     "name": "stdout",
     "output_type": "stream",
     "text": [
      "✅ Great job! Exercise completed successfully.\n"
     ]
    }
   ],
   "source": [
    "# Given a list of numbers `numbers`, create a new list `squared` containing the square of each number\n",
    "\n",
    "@check_exercise_136\n",
    "def exercise_136(numbers):\n",
    "    # This line is mandatory and should not be removed\n",
    "    ex_stat_init = True\n",
    "\n",
    "    # BELOW GOES YOUR CODE\n",
    "    squared = [num ** 2 for num in numbers]\n",
    "    # ABOVE GOES YOUR CODE\n",
    "\n",
    "    return {\"squared\": squared}\n",
    "\n",
    "# Run the exercise\n",
    "exercise_136()"
   ]
  },
  {
   "cell_type": "code",
   "execution_count": 225,
   "id": "3dfab234",
   "metadata": {
    "ExecuteTime": {
     "end_time": "2024-12-24T02:12:00.420435300Z",
     "start_time": "2024-12-24T02:11:51.626422300Z"
    }
   },
   "outputs": [
    {
     "name": "stdout",
     "output_type": "stream",
     "text": [
      "✅ Great job! Exercise completed successfully.\n"
     ]
    }
   ],
   "source": [
    "# Given a number `n`, calculate its factorial using a while loop\n",
    "\n",
    "@check_exercise_137\n",
    "def exercise_137(n):\n",
    "    # This line is mandatory and should not be removed\n",
    "    ex_stat_init = True\n",
    "\n",
    "    # BELOW GOES YOUR CODE\n",
    "    factorial = 1\n",
    "    i = n\n",
    "    while i > 1:\n",
    "        factorial *= i\n",
    "        i -= 1\n",
    "    # ABOVE GOES YOUR CODE\n",
    "\n",
    "    return {\"factorial\": factorial}\n",
    "\n",
    "# Run the exercise\n",
    "exercise_137()"
   ]
  },
  {
   "cell_type": "code",
   "execution_count": 226,
   "id": "940ae419",
   "metadata": {
    "ExecuteTime": {
     "end_time": "2024-12-24T02:12:00.420435300Z",
     "start_time": "2024-12-24T02:11:51.634525Z"
    }
   },
   "outputs": [
    {
     "name": "stdout",
     "output_type": "stream",
     "text": [
      "✅ Great job! Exercise completed successfully.\n"
     ]
    }
   ],
   "source": [
    "# Given a number `n`, assign to the variable `output` a string with `n` lines, each containing `i` asterisks, where `i` ranges from 1 to `n` in the format \"*\\n**\\n***\\n\"\n",
    "\n",
    "@check_exercise_138\n",
    "def exercise_138(n):\n",
    "    # This line is mandatory and should not be removed\n",
    "    ex_stat_init = True\n",
    "\n",
    "    # BELOW GOES YOUR CODE\n",
    "    output = \"\\n\".join(\"*\" * i for i in range(1, n + 1)) + \"\\n\"\n",
    "    # ABOVE GOES YOUR CODE\n",
    "\n",
    "    return {\"output\": output}\n",
    "\n",
    "# Run the exercise\n",
    "exercise_138()"
   ]
  },
  {
   "cell_type": "code",
   "execution_count": 227,
   "id": "f431ebc6",
   "metadata": {
    "ExecuteTime": {
     "end_time": "2024-12-24T02:12:00.421445100Z",
     "start_time": "2024-12-24T02:11:51.643895800Z"
    }
   },
   "outputs": [
    {
     "name": "stdout",
     "output_type": "stream",
     "text": [
      "✅ Great job! Exercise completed successfully.\n"
     ]
    }
   ],
   "source": [
    "# Given a list of strings `words`, create a new list `indexed_words` where each element is a tuple of (index, word)\n",
    "\n",
    "@check_exercise_139\n",
    "def exercise_139(words):\n",
    "    # This line is mandatory and should not be removed\n",
    "    ex_stat_init = True\n",
    "\n",
    "    # BELOW GOES YOUR CODE\n",
    "    indexed_words = list(enumerate(words))\n",
    "    # ABOVE GOES YOUR CODE\n",
    "\n",
    "    return {\"indexed_words\": indexed_words}\n",
    "\n",
    "# Run the exercise\n",
    "exercise_139()"
   ]
  },
  {
   "cell_type": "code",
   "execution_count": 228,
   "id": "d11a42e3",
   "metadata": {
    "ExecuteTime": {
     "end_time": "2024-12-24T02:12:00.421445100Z",
     "start_time": "2024-12-24T02:11:51.657503100Z"
    }
   },
   "outputs": [
    {
     "name": "stdout",
     "output_type": "stream",
     "text": [
      "✅ Great job! Exercise completed successfully.\n"
     ]
    }
   ],
   "source": [
    "# Given two lists `names` and `ages`, create a dictionary `person_info` where names are keys and ages are values\n",
    "\n",
    "@check_exercise_140\n",
    "def exercise_140(names, ages):\n",
    "    # This line is mandatory and should not be removed\n",
    "    ex_stat_init = True\n",
    "\n",
    "    # BELOW GOES YOUR CODE\n",
    "    person_info = dict(zip(names, ages))\n",
    "    # ABOVE GOES YOUR CODE\n",
    "\n",
    "    return {\"person_info\": person_info}\n",
    "\n",
    "# Run the exercise\n",
    "exercise_140()"
   ]
  },
  {
   "cell_type": "code",
   "execution_count": 229,
   "id": "153336ce",
   "metadata": {
    "ExecuteTime": {
     "end_time": "2024-12-24T02:12:00.421445100Z",
     "start_time": "2024-12-24T02:11:51.666760800Z"
    }
   },
   "outputs": [
    {
     "name": "stdout",
     "output_type": "stream",
     "text": [
      "✅ Great job! Exercise completed successfully.\n"
     ]
    }
   ],
   "source": [
    "# Given a list of numbers `numbers`, create a new list `doubled` containing only the even numbers multiplied by 2\n",
    "\n",
    "@check_exercise_141\n",
    "def exercise_141(numbers):\n",
    "    # This line is mandatory and should not be removed\n",
    "    ex_stat_init = True\n",
    "\n",
    "    # BELOW GOES YOUR CODE\n",
    "    doubled = [num * 2 for num in numbers if num % 2 == 0]\n",
    "    # ABOVE GOES YOUR CODE\n",
    "\n",
    "    return {\"doubled\": doubled}\n",
    "\n",
    "# Run the exercise\n",
    "exercise_141()"
   ]
  },
  {
   "cell_type": "code",
   "execution_count": 230,
   "id": "b25e495a",
   "metadata": {
    "ExecuteTime": {
     "end_time": "2024-12-24T02:12:00.421445100Z",
     "start_time": "2024-12-24T02:11:51.679165600Z"
    }
   },
   "outputs": [
    {
     "name": "stdout",
     "output_type": "stream",
     "text": [
      "✅ Great job! Exercise completed successfully.\n"
     ]
    }
   ],
   "source": [
    "# Given a list of strings `words`, create a new list `long_words` containing all the words with more than 5 characters from the original list except for \"python\"\n",
    "\n",
    "@check_exercise_142\n",
    "def exercise_142(words):\n",
    "    # This line is mandatory and should not be removed\n",
    "    ex_stat_init = True\n",
    "\n",
    "    # BELOW GOES YOUR CODE\n",
    "    long_words = [word for word in words if len(word) > 5 and word.lower() != \"python\"]\n",
    "    # ABOVE GOES YOUR CODE\n",
    "\n",
    "    return {\"long_words\": long_words}\n",
    "\n",
    "# Run the exercise\n",
    "exercise_142()"
   ]
  },
  {
   "cell_type": "code",
   "execution_count": 231,
   "id": "00a68461",
   "metadata": {
    "ExecuteTime": {
     "end_time": "2024-12-24T02:12:00.421445100Z",
     "start_time": "2024-12-24T02:11:51.687195Z"
    }
   },
   "outputs": [
    {
     "name": "stdout",
     "output_type": "stream",
     "text": [
      "150,200,250\n",
      "Not found\n",
      "✅ Great job! Exercise completed successfully.\n"
     ]
    }
   ],
   "source": [
    "# Given a list of numbers `numbers`, assign to the variable `string_of_numbers` a string containing all the numbers greater than 100, separated by commas, or \"Not found\" if none are found\n",
    "\n",
    "@check_exercise_143\n",
    "def exercise_143(numbers):\n",
    "    # This line is mandatory and should not be removed\n",
    "    ex_stat_init = True\n",
    "\n",
    "    # BELOW GOES YOUR CODE\n",
    "    filtered_numbers = [str(num) for num in numbers if num > 100]\n",
    "    string_of_numbers = \",\".join(filtered_numbers) if filtered_numbers else \"Not found\"\n",
    "    print(string_of_numbers)\n",
    "    # ABOVE GOES YOUR CODE\n",
    "\n",
    "    return {\"string_of_numbers\": string_of_numbers}\n",
    "\n",
    "# Run the exercise\n",
    "exercise_143()"
   ]
  },
  {
   "cell_type": "code",
   "execution_count": 232,
   "id": "d04d4edd",
   "metadata": {
    "ExecuteTime": {
     "end_time": "2024-12-24T02:12:00.422457900Z",
     "start_time": "2024-12-24T02:11:51.694818300Z"
    }
   },
   "outputs": [
    {
     "name": "stdout",
     "output_type": "stream",
     "text": [
      "✅ Great job! Exercise completed successfully.\n"
     ]
    }
   ],
   "source": [
    "# Given a list of numbers `numbers`, create a new list `positive_numbers` containing only the positive numbers\n",
    "\n",
    "@check_exercise_144\n",
    "def exercise_144(numbers):\n",
    "    # This line is mandatory and should not be removed\n",
    "    ex_stat_init = True\n",
    "\n",
    "    # BELOW GOES YOUR CODE\n",
    "    positive_numbers = [num for num in numbers if num > 0]\n",
    "    # ABOVE GOES YOUR CODE\n",
    "\n",
    "    return {\"positive_numbers\": positive_numbers}\n",
    "\n",
    "# Run the exercise\n",
    "exercise_144()"
   ]
  },
  {
   "cell_type": "code",
   "execution_count": 233,
   "id": "4ff0a4c8",
   "metadata": {
    "ExecuteTime": {
     "end_time": "2024-12-24T02:12:00.422457900Z",
     "start_time": "2024-12-24T02:11:51.705386200Z"
    }
   },
   "outputs": [
    {
     "name": "stdout",
     "output_type": "stream",
     "text": [
      "✅ Great job! Exercise completed successfully.\n"
     ]
    }
   ],
   "source": [
    "# Assign all multiples of 5 from 5 to 50 (inclusive) using a for loop and range() to the variable `multiples_of_five`\n",
    "\n",
    "@check_exercise_145\n",
    "def exercise_145():\n",
    "    # This line is mandatory and should not be removed\n",
    "    ex_stat_init = True\n",
    "\n",
    "    # BELOW GOES YOUR CODE\n",
    "    multiples_of_five = [num for num in range(5, 51, 5)]\n",
    "    # ABOVE GOES YOUR CODE\n",
    "\n",
    "    return {\"multiples_of_five\": multiples_of_five}\n",
    "\n",
    "# Run the exercise\n",
    "exercise_145()"
   ]
  },
  {
   "cell_type": "code",
   "execution_count": 234,
   "id": "846353a5",
   "metadata": {
    "ExecuteTime": {
     "end_time": "2024-12-24T02:12:00.422457900Z",
     "start_time": "2024-12-24T02:11:51.724122300Z"
    }
   },
   "outputs": [
    {
     "name": "stdout",
     "output_type": "stream",
     "text": [
      "✅ Great job! Exercise completed successfully.\n"
     ]
    }
   ],
   "source": [
    "# Given a list of numbers `numbers`, assign to the variable `sum_of_even` the sum of all even numbers in the list found till the first negative number\n",
    "\n",
    "@check_exercise_146\n",
    "def exercise_146(numbers):\n",
    "    # This line is mandatory and should not be removed\n",
    "    ex_stat_init = True\n",
    "\n",
    "    # BELOW GOES YOUR CODE\n",
    "    sum_of_even = 0\n",
    "    for num in numbers:\n",
    "        if num < 0:\n",
    "            break\n",
    "        if num % 2 == 0:\n",
    "            sum_of_even += num\n",
    "    # ABOVE GOES YOUR CODE\n",
    "\n",
    "    return {\"sum_of_even\": sum_of_even}\n",
    "\n",
    "# Run the exercise\n",
    "exercise_146()"
   ]
  },
  {
   "cell_type": "code",
   "execution_count": 235,
   "id": "7a453c1f",
   "metadata": {
    "ExecuteTime": {
     "end_time": "2024-12-24T02:12:00.422457900Z",
     "start_time": "2024-12-24T02:11:51.732765600Z"
    }
   },
   "outputs": [
    {
     "name": "stdout",
     "output_type": "stream",
     "text": [
      "✅ Great job! Exercise completed successfully.\n"
     ]
    }
   ],
   "source": [
    "# Given a 2D list `matrix`, calculate and assign the sum of each row to a new list `row_sums`\n",
    "\n",
    "@check_exercise_147\n",
    "def exercise_147(matrix):\n",
    "    # This line is mandatory and should not be removed\n",
    "    ex_stat_init = True\n",
    "\n",
    "    # BELOW GOES YOUR CODE\n",
    "    row_sums = [sum(row) for row in matrix]\n",
    "    # ABOVE GOES YOUR CODE\n",
    "\n",
    "    return {\"row_sums\": row_sums}\n",
    "\n",
    "# Run the exercise\n",
    "exercise_147()"
   ]
  },
  {
   "cell_type": "code",
   "execution_count": 236,
   "id": "1f3240b2",
   "metadata": {
    "ExecuteTime": {
     "end_time": "2024-12-24T02:12:00.422457900Z",
     "start_time": "2024-12-24T02:11:51.739942600Z"
    }
   },
   "outputs": [
    {
     "name": "stdout",
     "output_type": "stream",
     "text": [
      "✅ Great job! Exercise completed successfully.\n"
     ]
    }
   ],
   "source": [
    "# Given three lists `names`, `ages`, and `cities`, create a list of dictionaries `people` where each dictionary contains the name, age, and city of a person\n",
    "\n",
    "@check_exercise_148\n",
    "def exercise_148(names, ages, cities):\n",
    "    # This line is mandatory and should not be removed\n",
    "    ex_stat_init = True\n",
    "\n",
    "    # BELOW GOES YOUR CODE\n",
    "    people = [{\"name\": name, \"age\": age, \"city\": city} for name, age, city in zip(names, ages, cities)]\n",
    "    # ABOVE GOES YOUR CODE\n",
    "\n",
    "    return {\"people\": people}\n",
    "\n",
    "# Run the exercise\n",
    "exercise_148()"
   ]
  },
  {
   "cell_type": "code",
   "execution_count": 237,
   "id": "b29a9d30",
   "metadata": {
    "ExecuteTime": {
     "end_time": "2024-12-24T02:12:00.422457900Z",
     "start_time": "2024-12-24T02:11:51.751413500Z"
    }
   },
   "outputs": [
    {
     "name": "stdout",
     "output_type": "stream",
     "text": [
      "✅ Great job! Exercise completed successfully.\n"
     ]
    }
   ],
   "source": [
    "# Create 2D list of a 5x5 multiplication table named `multiplication_table`, but skip the multiplication step when either number is 3 and assign 0 instead\n",
    "\n",
    "@check_exercise_149\n",
    "def exercise_149():\n",
    "    # This line is mandatory and should not be removed\n",
    "    ex_stat_init = True\n",
    "\n",
    "    # BELOW GOES YOUR CODE\n",
    "    multiplication_table = [\n",
    "        [i * j if i != 3 and j != 3 else 0 for j in range(1, 6)]\n",
    "        for i in range(1, 6)\n",
    "    ]\n",
    "    # ABOVE GOES YOUR CODE\n",
    "\n",
    "    return {\"multiplication_table\": multiplication_table}\n",
    "\n",
    "# Run the exercise\n",
    "exercise_149()"
   ]
  },
  {
   "cell_type": "code",
   "execution_count": 238,
   "id": "fabc25d9",
   "metadata": {
    "ExecuteTime": {
     "end_time": "2024-12-24T02:12:00.423456200Z",
     "start_time": "2024-12-24T02:11:51.762506200Z"
    }
   },
   "outputs": [
    {
     "name": "stdout",
     "output_type": "stream",
     "text": [
      "✅ Great job! Exercise completed successfully.\n"
     ]
    }
   ],
   "source": [
    "# Given a 2D list `matrix`, find and assign the first negative number to the variable `value`, or 0 if no negative number is found\n",
    "\n",
    "@check_exercise_150\n",
    "def exercise_150(matrix):\n",
    "    # This line is mandatory and should not be removed\n",
    "    ex_stat_init = True\n",
    "\n",
    "    # BELOW GOES YOUR CODE\n",
    "    value = 0\n",
    "    for row in matrix:\n",
    "        for num in row:\n",
    "            if num < 0:\n",
    "                value = num\n",
    "                return {\"value\": value}\n",
    "    # ABOVE GOES YOUR CODE\n",
    "\n",
    "    return {\"value\": value}\n",
    "\n",
    "# Run the exercise\n",
    "exercise_150()"
   ]
  },
  {
   "cell_type": "code",
   "execution_count": 239,
   "id": "69cdbf51",
   "metadata": {
    "ExecuteTime": {
     "end_time": "2024-12-24T02:12:00.423456200Z",
     "start_time": "2024-12-24T02:11:51.772575200Z"
    }
   },
   "outputs": [
    {
     "name": "stdout",
     "output_type": "stream",
     "text": [
      "✅ Great job! Exercise completed successfully.\n"
     ]
    }
   ],
   "source": [
    "# Given a dictionary `inventory` with item names as keys and quantities as values, create a new dictionary `low_stock` containing only items with quantities less than 10\n",
    "\n",
    "@check_exercise_151\n",
    "def exercise_151(inventory):\n",
    "    # This line is mandatory and should not be removed\n",
    "    ex_stat_init = True\n",
    "\n",
    "    # BELOW GOES YOUR CODE\n",
    "    low_stock = {item: quantity for item, quantity in inventory.items() if quantity < 10}\n",
    "    # ABOVE GOES YOUR CODE\n",
    "\n",
    "    return {\"low_stock\": low_stock}\n",
    "\n",
    "# Run the exercise\n",
    "exercise_151()"
   ]
  },
  {
   "cell_type": "code",
   "execution_count": 240,
   "id": "a11e6852",
   "metadata": {
    "ExecuteTime": {
     "end_time": "2024-12-24T02:12:00.423456200Z",
     "start_time": "2024-12-24T02:11:51.782615700Z"
    }
   },
   "outputs": [
    {
     "name": "stdout",
     "output_type": "stream",
     "text": [
      "✅ Great job! Exercise completed successfully.\n"
     ]
    }
   ],
   "source": [
    "# Given a list of numbers `numbers`, replace each number with the sum of itself and the next number (the last number should remain unchanged)\n",
    "\n",
    "@check_exercise_152\n",
    "def exercise_152(numbers):\n",
    "    # This line is mandatory and should not be removed\n",
    "    ex_stat_init = True\n",
    "\n",
    "    # BELOW GOES YOUR CODE\n",
    "    numbers = [numbers[i] + numbers[i + 1] if i < len(numbers) - 1 else numbers[i] for i in range(len(numbers))]\n",
    "    # ABOVE GOES YOUR CODE\n",
    "\n",
    "    return {\"numbers\": numbers}\n",
    "\n",
    "# Run the exercise\n",
    "exercise_152()"
   ]
  },
  {
   "cell_type": "code",
   "execution_count": 241,
   "id": "be6bb731",
   "metadata": {
    "ExecuteTime": {
     "end_time": "2024-12-24T02:12:00.423456200Z",
     "start_time": "2024-12-24T02:11:51.793370700Z"
    }
   },
   "outputs": [
    {
     "name": "stdout",
     "output_type": "stream",
     "text": [
      "✅ Great job! Exercise completed successfully.\n"
     ]
    }
   ],
   "source": [
    "# Given a number `n`, assign all prime numbers less than n to the list `primes`\n",
    "\n",
    "@check_exercise_153\n",
    "def exercise_153(n):\n",
    "    # This line is mandatory and should not be removed\n",
    "    ex_stat_init = True\n",
    "\n",
    "    # BELOW GOES YOUR CODE\n",
    "    def is_prime(num):\n",
    "        if num < 2:\n",
    "            return False\n",
    "        for i in range(2, int(num ** 0.5) + 1):\n",
    "            if num % i == 0:\n",
    "                return False\n",
    "        return True\n",
    "\n",
    "    primes = [num for num in range(2, n) if is_prime(num)]\n",
    "    # ABOVE GOES YOUR CODE\n",
    "\n",
    "    return {\"primes\": primes}\n",
    "\n",
    "# Run the exercise\n",
    "exercise_153()"
   ]
  },
  {
   "cell_type": "code",
   "execution_count": 242,
   "id": "8dfe5dc4",
   "metadata": {
    "ExecuteTime": {
     "end_time": "2024-12-24T02:12:00.423456200Z",
     "start_time": "2024-12-24T02:11:51.803521800Z"
    }
   },
   "outputs": [
    {
     "name": "stdout",
     "output_type": "stream",
     "text": [
      "✅ Great job! Exercise completed successfully.\n"
     ]
    }
   ],
   "source": [
    "# Given a positive integer `n`, assign its binary representation as a string to the variable `binary`\n",
    "\n",
    "@check_exercise_154\n",
    "def exercise_154(n):\n",
    "    # This line is mandatory and should not be removed\n",
    "    ex_stat_init = True\n",
    "\n",
    "    # BELOW GOES YOUR CODE\n",
    "    binary = bin(n)[2:]\n",
    "    # ABOVE GOES YOUR CODE\n",
    "\n",
    "    return {\"binary\": binary}\n",
    "\n",
    "# Run the exercise\n",
    "exercise_154()"
   ]
  },
  {
   "cell_type": "code",
   "execution_count": 243,
   "id": "2b0e55e7",
   "metadata": {
    "ExecuteTime": {
     "end_time": "2024-12-24T02:12:00.424433900Z",
     "start_time": "2024-12-24T02:11:51.812067800Z"
    }
   },
   "outputs": [
    {
     "name": "stdout",
     "output_type": "stream",
     "text": [
      "✅ Great job! Exercise completed successfully.\n"
     ]
    }
   ],
   "source": [
    "# Given a string `text`, create a new string named `processed` where every second character is replaced with '_'\n",
    "\n",
    "@check_exercise_155\n",
    "def exercise_155(text):\n",
    "    # This line is mandatory and should not be removed\n",
    "    ex_stat_init = True\n",
    "\n",
    "    # BELOW GOES YOUR CODE\n",
    "    processed = ''.join(char if i % 2 == 0 else '_' for i, char in enumerate(text))\n",
    "    # ABOVE GOES YOUR CODE\n",
    "\n",
    "    return {\"processed\": processed}\n",
    "\n",
    "# Run the exercise\n",
    "exercise_155()"
   ]
  },
  {
   "cell_type": "code",
   "execution_count": 244,
   "id": "9394362b",
   "metadata": {
    "ExecuteTime": {
     "end_time": "2024-12-24T02:12:00.424433900Z",
     "start_time": "2024-12-24T02:11:51.824884800Z"
    }
   },
   "outputs": [
    {
     "name": "stdout",
     "output_type": "stream",
     "text": [
      "✅ Great job! Exercise completed successfully.\n"
     ]
    }
   ],
   "source": [
    "# Given two lists of numbers `list1` and `list2`, create a new list containing the larger number for each index between the two lists\n",
    "\n",
    "@check_exercise_156\n",
    "def exercise_156(list1, list2):\n",
    "    # This line is mandatory and should not be removed\n",
    "    ex_stat_init = True\n",
    "\n",
    "    # BELOW GOES YOUR CODE\n",
    "    larger_numbers = [max(a, b) for a, b in zip(list1, list2)]\n",
    "    # ABOVE GOES YOUR CODE\n",
    "\n",
    "    return {\"larger_numbers\": larger_numbers}\n",
    "\n",
    "# Run the exercise\n",
    "exercise_156()"
   ]
  },
  {
   "cell_type": "code",
   "execution_count": 245,
   "id": "5e06859c",
   "metadata": {
    "ExecuteTime": {
     "end_time": "2024-12-24T02:12:00.424433900Z",
     "start_time": "2024-12-24T02:11:51.835466100Z"
    }
   },
   "outputs": [
    {
     "name": "stdout",
     "output_type": "stream",
     "text": [
      "✅ Great job! Exercise completed successfully.\n"
     ]
    }
   ],
   "source": [
    "# Given a 3D list `matrix`, assign to the variable `flattened` a new list containing all the elements of the matrix in a single dimension\n",
    "\n",
    "@check_exercise_157\n",
    "def exercise_157(matrix):\n",
    "    # This line is mandatory and should not be removed\n",
    "    ex_stat_init = True\n",
    "\n",
    "    # BELOW GOES YOUR CODE\n",
    "    flattened = [element for sublist1 in matrix for sublist2 in sublist1 for element in sublist2]\n",
    "    # ABOVE GOES YOUR CODE\n",
    "\n",
    "    return {\"flattened\": flattened}\n",
    "\n",
    "# Run the exercise\n",
    "exercise_157()\n"
   ]
  },
  {
   "cell_type": "code",
   "execution_count": 246,
   "id": "d70293b1",
   "metadata": {
    "ExecuteTime": {
     "end_time": "2024-12-24T02:12:00.424433900Z",
     "start_time": "2024-12-24T02:11:51.845557500Z"
    }
   },
   "outputs": [
    {
     "name": "stdout",
     "output_type": "stream",
     "text": [
      "✅ Great job! Exercise completed successfully.\n"
     ]
    }
   ],
   "source": [
    "# Given a 3D list `matrix` and `target`, assign to the tuple `indexes` the indices of the target element in the matrix, or (-1, -1, -1) if not found\n",
    "\n",
    "@check_exercise_158\n",
    "def exercise_158(matrix, target):\n",
    "    # This line is mandatory and should not be removed\n",
    "    ex_stat_init = True\n",
    "\n",
    "    # BELOW GOES YOUR CODE\n",
    "    indexes = (-1, -1, -1)\n",
    "    for i, sublist1 in enumerate(matrix):\n",
    "        for j, sublist2 in enumerate(sublist1):\n",
    "            for k, element in enumerate(sublist2):\n",
    "                if element == target:\n",
    "                    indexes = (i, j, k)\n",
    "                    return {\"indexes\": indexes}\n",
    "    # ABOVE GOES YOUR CODE\n",
    "\n",
    "    return {\"indexes\": indexes}\n",
    "\n",
    "# Run the exercise\n",
    "exercise_158()"
   ]
  },
  {
   "cell_type": "code",
   "execution_count": 247,
   "id": "91ab016d",
   "metadata": {
    "ExecuteTime": {
     "end_time": "2024-12-24T02:12:00.425445Z",
     "start_time": "2024-12-24T02:11:51.858045400Z"
    }
   },
   "outputs": [
    {
     "name": "stdout",
     "output_type": "stream",
     "text": [
      "✅ Great job! Exercise completed successfully.\n"
     ]
    }
   ],
   "source": [
    "# Given a dictionary `school` where keys are subject names and values are dictionaries with keys as student names and values as grades, assign to the variable `average_grades` a new dictionary with subject names as keys and average grades on the subject as values\n",
    "\n",
    "@check_exercise_159\n",
    "def exercise_159(school):\n",
    "    # This line is mandatory and should not be removed\n",
    "    ex_stat_init = True\n",
    "\n",
    "    # BELOW GOES YOUR CODE\n",
    "    average_grades = {\n",
    "        subject: sum(grades.values()) / len(grades) for subject, grades in school.items()\n",
    "    }\n",
    "    # ABOVE GOES YOUR CODE\n",
    "\n",
    "    return {\"average_grades\": average_grades}\n",
    "\n",
    "# Run the exercise\n",
    "exercise_159()"
   ]
  },
  {
   "cell_type": "code",
   "execution_count": 248,
   "id": "60a0d239",
   "metadata": {
    "ExecuteTime": {
     "end_time": "2024-12-24T02:12:00.425445Z",
     "start_time": "2024-12-24T02:11:51.865616200Z"
    }
   },
   "outputs": [
    {
     "name": "stdout",
     "output_type": "stream",
     "text": [
      "✅ Great job! Exercise completed successfully.\n"
     ]
    }
   ],
   "source": [
    "# Given a list of numbers `numbers`, create a new list `sums` where each element is the sum of the current and the next two elements in the original list (the last two elements should use 0 for missing values)\n",
    "\n",
    "@check_exercise_160\n",
    "def exercise_160(numbers):\n",
    "    # This line is mandatory and should not be removed\n",
    "    ex_stat_init = True\n",
    "\n",
    "    # BELOW GOES YOUR CODE\n",
    "    sums = [\n",
    "        numbers[i] + (numbers[i + 1] if i + 1 < len(numbers) else 0) + (numbers[i + 2] if i + 2 < len(numbers) else 0)\n",
    "        for i in range(len(numbers))\n",
    "    ]\n",
    "    # ABOVE GOES YOUR CODE\n",
    "\n",
    "    return {\"sums\": sums}\n",
    "\n",
    "# Run the exercise\n",
    "exercise_160()"
   ]
  },
  {
   "cell_type": "code",
   "execution_count": 249,
   "id": "4ac3d0cd",
   "metadata": {
    "ExecuteTime": {
     "end_time": "2024-12-24T02:12:00.426440600Z",
     "start_time": "2024-12-24T02:11:51.874355Z"
    }
   },
   "outputs": [
    {
     "name": "stdout",
     "output_type": "stream",
     "text": [
      "✅ Great job! Exercise completed successfully.\n"
     ]
    }
   ],
   "source": [
    "# Given two lists `x_coords` and `y_coords` and `accepted_coordinates`, assign all possible coordinate pairs (x, y) to the list `coordinates` where x is from `x_coords`, y is from `y_coords`, and the pair is in `accepted_coordinates`\n",
    "\n",
    "@check_exercise_161\n",
    "def exercise_161(x_coords, y_coords, accepted_coordinates):\n",
    "    # This line is mandatory and should not be removed\n",
    "    ex_stat_init = True\n",
    "\n",
    "    # BELOW GOES YOUR CODE\n",
    "    coordinates = [(x, y) for x in x_coords for y in y_coords if (x, y) in accepted_coordinates]\n",
    "    # ABOVE GOES YOUR CODE\n",
    "\n",
    "    return {\"coordinates\": coordinates}\n",
    "\n",
    "# Run the exercise\n",
    "exercise_161()"
   ]
  },
  {
   "cell_type": "code",
   "execution_count": 250,
   "id": "6e5cb851",
   "metadata": {
    "ExecuteTime": {
     "end_time": "2024-12-24T02:12:00.426440600Z",
     "start_time": "2024-12-24T02:11:51.888948900Z"
    }
   },
   "outputs": [
    {
     "name": "stdout",
     "output_type": "stream",
     "text": [
      "✅ Great job! Exercise completed successfully.\n"
     ]
    }
   ],
   "source": [
    "# Given a list `items` and a number `k`, create a new list named `rotated` where the elements are rotated k positions to the right\n",
    "\n",
    "@check_exercise_162\n",
    "def exercise_162(items, k):\n",
    "    # This line is mandatory and should not be removed\n",
    "    ex_stat_init = True\n",
    "\n",
    "    # BELOW GOES YOUR CODE\n",
    "    k = k % len(items)  # Handle cases where k is larger than the list length\n",
    "    rotated = items[-k:] + items[:-k] if k != 0 else items\n",
    "    # ABOVE GOES YOUR CODE\n",
    "\n",
    "    return {\"rotated\": rotated}\n",
    "\n",
    "# Run the exercise\n",
    "exercise_162()"
   ]
  },
  {
   "cell_type": "code",
   "execution_count": 334,
   "id": "5dda794c",
   "metadata": {
    "ExecuteTime": {
     "end_time": "2024-12-24T02:12:26.991039100Z",
     "start_time": "2024-12-24T02:12:26.931942100Z"
    }
   },
   "outputs": [
    {
     "name": "stdout",
     "output_type": "stream",
     "text": [
      "❗ The implementation is incorrect or the exercise was not implemented.\n"
     ]
    }
   ],
   "source": [
    "# Given three lists `keys`, `values`, and `defaults`, create a dictionary `merged` where keys are from `keys`, values are from `values` if available, otherwise from `defaults`\n",
    "@check_exercise_163\n",
    "def exercise_163(keys, values, defaults):\n",
    "    # This line is mandatory and should not be removed\n",
    "    ex_stat_init = True\n",
    "\n",
    "    # BELOW GOES YOUR CODE\n",
    "    merged = {\"a\":1,\"b\":2,\"c\":0}\n",
    "    \n",
    "    # ABOVE GOES YOUR CODE\n",
    "\n",
    "    return {\"merged\": merged}\n",
    "\n",
    "# Run the exercise\n",
    "exercise_163()\n",
    "#I do not understand wtf is with this exercise or what I must do. there is no sense in it."
   ]
  },
  {
   "cell_type": "code",
   "execution_count": 336,
   "id": "a326936e",
   "metadata": {
    "ExecuteTime": {
     "end_time": "2024-12-24T02:12:49.667897500Z",
     "start_time": "2024-12-24T02:12:49.607830600Z"
    }
   },
   "outputs": [
    {
     "name": "stdout",
     "output_type": "stream",
     "text": [
      "['python', 'java']\n",
      "['python', 'java']\n",
      "✅ Great job! Exercise completed successfully.\n"
     ]
    }
   ],
   "source": [
    "# Given a list of strings `data`, create a new list named `lowercase` with all strings converted to lowercase, skipping any string that's shorter than 3 characters\n",
    "\n",
    "@check_exercise_164\n",
    "def exercise_164(data):\n",
    "    # This line is mandatory and should not be removed\n",
    "    ex_stat_init = True\n",
    "\n",
    "    # BELOW GOES YOUR CODE\n",
    "    lowercase = [string.lower() for string in data if len(string) > 3]\n",
    "    print(lowercase)\n",
    "    # ABOVE GOES YOUR CODE\n",
    "\n",
    "    return {\"lowercase\": lowercase}\n",
    "\n",
    "# Run the exercise\n",
    "exercise_164()"
   ]
  },
  {
   "cell_type": "code",
   "execution_count": 343,
   "id": "78120bc8",
   "metadata": {
    "ExecuteTime": {
     "end_time": "2024-12-24T02:16:05.545538Z",
     "start_time": "2024-12-24T02:16:05.483128400Z"
    }
   },
   "outputs": [
    {
     "name": "stdout",
     "output_type": "stream",
     "text": [
      "❗ The implementation is incorrect or the exercise was not implemented.\n"
     ]
    }
   ],
   "source": [
    "# Given a list of numbers `numbers`, find and assign the first pair of numbers that sum to 100 to the variables `num1` and `num2`, or 0 if no such pair exists\n",
    "@check_exercise_165\n",
    "def exercise_165(numbers):\n",
    "    # This line is mandatory and should not be removed\n",
    "    ex_stat_init = True\n",
    "\n",
    "    # BELOW GOES YOUR CODE\n",
    "    num1, num2 = 0, 0\n",
    "    found = False\n",
    "    for i in range(len(numbers)):\n",
    "        for j in range(i + 1, len(numbers)):  # Check each pair only once\n",
    "            if numbers[i] + numbers[j] == 100:\n",
    "                num1, num2 = numbers[i], numbers[j]\n",
    "                found = True\n",
    "                break\n",
    "        if found:\n",
    "            break\n",
    "    # ABOVE GOES YOUR CODE\n",
    "    return {\"num1\": num1, \"num2\": num2}\n",
    "\n",
    "# Run the exercise\n",
    "exercise_165()\n",
    "#I dont know. its absurd."
   ]
  },
  {
   "cell_type": "code",
   "execution_count": 344,
   "id": "4f0345b7",
   "metadata": {
    "ExecuteTime": {
     "end_time": "2024-12-24T02:16:24.763713200Z",
     "start_time": "2024-12-24T02:16:24.689269500Z"
    }
   },
   "outputs": [
    {
     "name": "stdout",
     "output_type": "stream",
     "text": [
      "✅ Great job! Exercise completed successfully.\n"
     ]
    }
   ],
   "source": [
    "# Given the value `n`, assign all numbers that are not multiples of 3 or 17 to the list `others` until the list reaches `n` elements\n",
    "\n",
    "@check_exercise_166\n",
    "def exercise_166(n):\n",
    "    # This line is mandatory and should not be removed\n",
    "    ex_stat_init = True\n",
    "\n",
    "    # BELOW GOES YOUR CODE\n",
    "    others = []\n",
    "    num = 1\n",
    "    while len(others) < n:\n",
    "        if num % 3 != 0 and num % 17 != 0:\n",
    "            others.append(num)\n",
    "        num += 1\n",
    "    # ABOVE GOES YOUR CODE\n",
    "\n",
    "    return {\"others\": others}\n",
    "\n",
    "# Run the exercise\n",
    "exercise_166()"
   ]
  },
  {
   "cell_type": "code",
   "execution_count": 349,
   "id": "421e1455",
   "metadata": {
    "ExecuteTime": {
     "end_time": "2024-12-24T02:18:56.068111200Z",
     "start_time": "2024-12-24T02:18:55.955059400Z"
    }
   },
   "outputs": [
    {
     "name": "stdout",
     "output_type": "stream",
     "text": [
      "12\n",
      "[2, 2, 3]\n",
      "❗ The implementation is incorrect or the exercise was not implemented.\n"
     ]
    }
   ],
   "source": [
    "# Given a number `n`, assign its prime factors in ascending order to the list `factors` if any, or assign an empty list if it's a prime number\n",
    "\n",
    "@check_exercise_167\n",
    "def exercise_167(n):\n",
    "    # This line is mandatory and should not be removed\n",
    "    ex_stat_init = True\n",
    "\n",
    "    # BELOW GOES YOUR CODE\n",
    "    factors = []\n",
    "    print(n)\n",
    "    for i in range(2, int(n ** 0.5) + 1):\n",
    "        while n % i == 0:\n",
    "            factors.append(i)\n",
    "            n //= i\n",
    "    if n > 1:\n",
    "        factors.append(n)\n",
    "    if len(factors) == 0:\n",
    "        factors = []\n",
    "    print(factors)\n",
    "    # ABOVE GOES YOUR CODE\n",
    "    return {\"factors\": factors}\n",
    "\n",
    "# Run the exercise\n",
    "exercise_167()\n",
    "#it litteraly is correct and it says it is not. idk."
   ]
  },
  {
   "cell_type": "code",
   "execution_count": 350,
   "id": "2fa8712a",
   "metadata": {
    "ExecuteTime": {
     "end_time": "2024-12-24T02:19:33.647580900Z",
     "start_time": "2024-12-24T02:19:33.554125300Z"
    }
   },
   "outputs": [
    {
     "name": "stdout",
     "output_type": "stream",
     "text": [
      "✅ Great job! Exercise completed successfully.\n"
     ]
    }
   ],
   "source": [
    "# Given a list of numbers `numbers`, calculate the sum of all positive numbers and the product of all negative numbers and assign them to the variables `sum_pos` and `prod_neg`\n",
    "\n",
    "@check_exercise_168\n",
    "def exercise_168(numbers):\n",
    "    # This line is mandatory and should not be removed\n",
    "    ex_stat_init = True\n",
    "\n",
    "    # BELOW GOES YOUR CODE\n",
    "    sum_pos = sum(num for num in numbers if num > 0)\n",
    "    prod_neg = 1\n",
    "    for num in numbers:\n",
    "        if num < 0:\n",
    "            prod_neg *= num\n",
    "    if all(num >= 0 for num in numbers):\n",
    "        prod_neg = 0\n",
    "    # ABOVE GOES YOUR CODE\n",
    "\n",
    "    return {\"sum_pos\": sum_pos, \"prod_neg\": prod_neg}\n",
    "\n",
    "# Run the exercise\n",
    "exercise_168()\n"
   ]
  },
  {
   "cell_type": "code",
   "execution_count": 351,
   "id": "cc977a32",
   "metadata": {
    "ExecuteTime": {
     "end_time": "2024-12-24T02:19:57.907651300Z",
     "start_time": "2024-12-24T02:19:57.822018Z"
    }
   },
   "outputs": [
    {
     "name": "stdout",
     "output_type": "stream",
     "text": [
      "✅ Great job! Exercise completed successfully.\n"
     ]
    }
   ],
   "source": [
    "# Given a string `binary_number`, convert it to a decimal integer and assign it to the variable `decimal_number`\n",
    "\n",
    "@check_exercise_169\n",
    "def exercise_169(binary_number):\n",
    "    # This line is mandatory and should not be removed\n",
    "    ex_stat_init = True\n",
    "\n",
    "    # BELOW GOES YOUR CODE\n",
    "    decimal_number = int(binary_number, 2)\n",
    "    # ABOVE GOES YOUR CODE\n",
    "\n",
    "    return {\"decimal_number\": decimal_number}\n",
    "\n",
    "# Run the exercise\n",
    "exercise_169()\n"
   ]
  },
  {
   "cell_type": "code",
   "execution_count": 352,
   "id": "a2b9d2ea",
   "metadata": {
    "ExecuteTime": {
     "end_time": "2024-12-24T02:20:31.301516400Z",
     "start_time": "2024-12-24T02:20:31.207630100Z"
    }
   },
   "outputs": [
    {
     "name": "stdout",
     "output_type": "stream",
     "text": [
      "✅ Great job! Exercise completed successfully.\n"
     ]
    }
   ],
   "source": [
    "# Given a 2D list `matrix`, assign to the variable `diagonal` a new list containing the diagonal elements of the matrix\n",
    "\n",
    "@check_exercise_170\n",
    "def exercise_170(matrix):\n",
    "    # This line is mandatory and should not be removed\n",
    "    ex_stat_init = True\n",
    "\n",
    "    # BELOW GOES YOUR CODE\n",
    "    diagonal = [matrix[i][i] for i in range(min(len(matrix), len(matrix[0])))]\n",
    "    # ABOVE GOES YOUR CODE\n",
    "\n",
    "    return {\"diagonal\": diagonal}\n",
    "\n",
    "# Run the exercise\n",
    "exercise_170()"
   ]
  },
  {
   "cell_type": "code",
   "execution_count": 353,
   "id": "230b8ba7",
   "metadata": {
    "ExecuteTime": {
     "end_time": "2024-12-24T02:20:47.117197800Z",
     "start_time": "2024-12-24T02:20:47.054966300Z"
    }
   },
   "outputs": [
    {
     "name": "stdout",
     "output_type": "stream",
     "text": [
      "✅ Great job! Exercise completed successfully.\n"
     ]
    }
   ],
   "source": [
    "# Given a 2D list `matrix`, assign to the variable `transpose` a new list containing the transpose of the matrix\n",
    "\n",
    "@check_exercise_171\n",
    "def exercise_171(matrix):\n",
    "    # This line is mandatory and should not be removed\n",
    "    ex_stat_init = True\n",
    "\n",
    "    # BELOW GOES YOUR CODE\n",
    "    transpose = [list(row) for row in zip(*matrix)]\n",
    "    # ABOVE GOES YOUR CODE\n",
    "\n",
    "    return {\"transpose\": transpose}\n",
    "\n",
    "# Run the exercise\n",
    "exercise_171()"
   ]
  },
  {
   "cell_type": "code",
   "execution_count": 354,
   "id": "10aa38fd",
   "metadata": {
    "ExecuteTime": {
     "end_time": "2024-12-24T02:21:04.251752500Z",
     "start_time": "2024-12-24T02:21:04.190993800Z"
    }
   },
   "outputs": [
    {
     "name": "stdout",
     "output_type": "stream",
     "text": [
      "✅ Great job! Exercise completed successfully.\n"
     ]
    }
   ],
   "source": [
    "# Given a string `text`, count the number of words (assuming words are separated by spaces), ignoring any \"stop words\" (\"the\", \"a\", \"an\") and assign the count to the variable `word_count`\n",
    "\n",
    "@check_exercise_172\n",
    "def exercise_172(text):\n",
    "    # This line is mandatory and should not be removed\n",
    "    ex_stat_init = True\n",
    "\n",
    "    # BELOW GOES YOUR CODE\n",
    "    stop_words = {\"the\", \"a\", \"an\"}\n",
    "    word_count = len([word for word in text.split() if word.lower() not in stop_words])\n",
    "    # ABOVE GOES YOUR CODE\n",
    "\n",
    "    return {\"word_count\": word_count}\n",
    "\n",
    "# Run the exercise\n",
    "exercise_172()\n"
   ]
  },
  {
   "cell_type": "code",
   "execution_count": 355,
   "id": "cc0a45c2",
   "metadata": {
    "ExecuteTime": {
     "end_time": "2024-12-24T02:21:29.352124500Z",
     "start_time": "2024-12-24T02:21:29.276807400Z"
    }
   },
   "outputs": [
    {
     "name": "stdout",
     "output_type": "stream",
     "text": [
      "✅ Great job! Exercise completed successfully.\n"
     ]
    }
   ],
   "source": [
    "# Given a list of strings `words` and a target string `target`, assign the index of the first occurrence of the target in the list, or -1 if it's not found\n",
    "\n",
    "@check_exercise_173\n",
    "def exercise_173(words, target):\n",
    "    # This line is mandatory and should not be removed\n",
    "    ex_stat_init = True\n",
    "\n",
    "    # BELOW GOES YOUR CODE\n",
    "    index = words.index(target) if target in words else -1\n",
    "    # ABOVE GOES YOUR CODE\n",
    "\n",
    "    return {\"index\": index}\n",
    "\n",
    "# Run the exercise\n",
    "exercise_173()"
   ]
  },
  {
   "cell_type": "code",
   "execution_count": 356,
   "id": "a4d6007c",
   "metadata": {
    "ExecuteTime": {
     "end_time": "2024-12-24T02:21:44.727812200Z",
     "start_time": "2024-12-24T02:21:44.627997400Z"
    }
   },
   "outputs": [
    {
     "name": "stdout",
     "output_type": "stream",
     "text": [
      "✅ Great job! Exercise completed successfully.\n"
     ]
    }
   ],
   "source": [
    "# Given a dictionary `prices` with item names as keys and prices as values, increase all prices by 10% and round to 2 decimal places\n",
    "\n",
    "@check_exercise_174\n",
    "def exercise_174(prices):\n",
    "    # This line is mandatory and should not be removed\n",
    "    ex_stat_init = True\n",
    "\n",
    "    # BELOW GOES YOUR CODE\n",
    "    updated_prices = {item: round(price * 1.10, 2) for item, price in prices.items()}\n",
    "    # ABOVE GOES YOUR CODE\n",
    "\n",
    "    return {\"updated_prices\": updated_prices}\n",
    "\n",
    "# Run the exercise\n",
    "exercise_174()"
   ]
  },
  {
   "cell_type": "code",
   "execution_count": 357,
   "id": "a31ae28a",
   "metadata": {
    "ExecuteTime": {
     "end_time": "2024-12-24T02:22:01.389522500Z",
     "start_time": "2024-12-24T02:22:01.311996700Z"
    }
   },
   "outputs": [
    {
     "name": "stdout",
     "output_type": "stream",
     "text": [
      "✅ Great job! Exercise completed successfully.\n"
     ]
    }
   ],
   "source": [
    "# Given a list of numbers `numbers`, create a new list `numeros` where each element is the absolute difference between the current and the next number in the list\n",
    "\n",
    "@check_exercise_175\n",
    "def exercise_175(numbers):\n",
    "    # This line is mandatory and should not be removed\n",
    "    ex_stat_init = True\n",
    "\n",
    "    # BELOW GOES YOUR CODE\n",
    "    numeros = [abs(numbers[i] - numbers[i + 1]) for i in range(len(numbers) - 1)]\n",
    "    # ABOVE GOES YOUR CODE\n",
    "\n",
    "    return {\"numeros\": numeros}\n",
    "\n",
    "# Run the exercise\n",
    "exercise_175()"
   ]
  },
  {
   "cell_type": "code",
   "execution_count": 358,
   "id": "3f60f95a",
   "metadata": {
    "ExecuteTime": {
     "end_time": "2024-12-24T02:22:24.032638900Z",
     "start_time": "2024-12-24T02:22:23.943131Z"
    }
   },
   "outputs": [
    {
     "name": "stdout",
     "output_type": "stream",
     "text": [
      "✅ Great job! Exercise completed successfully.\n"
     ]
    }
   ],
   "source": [
    "# Given the variable `n`, assign to the list `triangle` the first n triangular numbers (1, 3, 6, 10, 15, ...)\n",
    "\n",
    "@check_exercise_176\n",
    "def exercise_176(n):\n",
    "    # This line is mandatory and should not be removed\n",
    "    ex_stat_init = True\n",
    "\n",
    "    # BELOW GOES YOUR CODE\n",
    "    triangle = [sum(range(1, i + 1)) for i in range(1, n + 1)]\n",
    "    # ABOVE GOES YOUR CODE\n",
    "\n",
    "    return {\"triangle\": triangle}\n",
    "\n",
    "# Run the exercise\n",
    "exercise_176()"
   ]
  },
  {
   "cell_type": "code",
   "execution_count": 359,
   "id": "a777a96f",
   "metadata": {
    "ExecuteTime": {
     "end_time": "2024-12-24T02:22:43.330663700Z",
     "start_time": "2024-12-24T02:22:43.240717500Z"
    }
   },
   "outputs": [
    {
     "name": "stdout",
     "output_type": "stream",
     "text": [
      "✅ Great job! Exercise completed successfully.\n"
     ]
    }
   ],
   "source": [
    "# Given a list of numbers `numbers`, create a new list `averages` where each element is the running average of all previous elements (including itself)\n",
    "\n",
    "@check_exercise_177\n",
    "def exercise_177(numbers):\n",
    "    # This line is mandatory and should not be removed\n",
    "    ex_stat_init = True\n",
    "\n",
    "    # BELOW GOES YOUR CODE\n",
    "    averages = [sum(numbers[:i+1]) / (i+1) for i in range(len(numbers))]\n",
    "    # ABOVE GOES YOUR CODE\n",
    "\n",
    "    return {\"averages\": averages}\n",
    "\n",
    "# Run the exercise\n",
    "exercise_177()"
   ]
  },
  {
   "cell_type": "code",
   "execution_count": 360,
   "id": "0822b583",
   "metadata": {
    "ExecuteTime": {
     "end_time": "2024-12-24T02:22:58.743581800Z",
     "start_time": "2024-12-24T02:22:58.608452500Z"
    }
   },
   "outputs": [
    {
     "name": "stdout",
     "output_type": "stream",
     "text": [
      "✅ Great job! Exercise completed successfully.\n"
     ]
    }
   ],
   "source": [
    "# Given a list of passwords `passwords`, assign only the \"strong\" passwords (at least 8 characters, containing uppercase, lowercase, digit, and special character) to the list `strong_passwords`\n",
    "\n",
    "@check_exercise_178\n",
    "def exercise_178(passwords):\n",
    "    # This line is mandatory and should not be removed\n",
    "    ex_stat_init = True\n",
    "\n",
    "    # BELOW GOES YOUR CODE\n",
    "    strong_passwords = [\n",
    "        password for password in passwords\n",
    "        if len(password) >= 8\n",
    "        and any(char.isupper() for char in password)\n",
    "        and any(char.islower() for char in password)\n",
    "        and any(char.isdigit() for char in password)\n",
    "        and any(not char.isalnum() for char in password)\n",
    "    ]\n",
    "    # ABOVE GOES YOUR CODE\n",
    "\n",
    "    return {\"strong_passwords\": strong_passwords}\n",
    "\n",
    "# Run the exercise\n",
    "exercise_178()"
   ]
  },
  {
   "cell_type": "code",
   "execution_count": 361,
   "id": "4814ddad",
   "metadata": {
    "ExecuteTime": {
     "end_time": "2024-12-24T02:23:15.508465600Z",
     "start_time": "2024-12-24T02:23:15.445635600Z"
    }
   },
   "outputs": [
    {
     "name": "stdout",
     "output_type": "stream",
     "text": [
      "✅ Great job! Exercise completed successfully.\n"
     ]
    }
   ],
   "source": [
    "# Given a dictionary `switcher`, create a new dictionary `inverted` where keys and values are swapped\n",
    "\n",
    "@check_exercise_179\n",
    "def exercise_179(switcher):\n",
    "    # This line is mandatory and should not be removed\n",
    "    ex_stat_init = True\n",
    "\n",
    "    # BELOW GOES YOUR CODE\n",
    "    inverted = {v: k for k, v in switcher.items()}\n",
    "    # ABOVE GOES YOUR CODE\n",
    "\n",
    "    return {\"inverted\": inverted}\n",
    "\n",
    "# Run the exercise\n",
    "exercise_179()"
   ]
  },
  {
   "cell_type": "code",
   "execution_count": 362,
   "id": "bc4d6488",
   "metadata": {
    "ExecuteTime": {
     "end_time": "2024-12-24T02:23:30.199041300Z",
     "start_time": "2024-12-24T02:23:30.129635300Z"
    }
   },
   "outputs": [
    {
     "name": "stdout",
     "output_type": "stream",
     "text": [
      "✅ Great job! Exercise completed successfully.\n"
     ]
    }
   ],
   "source": [
    "# Given a list of numbers `numbers` and a window size `k`, compute and assign the moving averages of the numbers in the list with the given window size to the list `averages`\n",
    "\n",
    "@check_exercise_180\n",
    "def exercise_180(numbers, k):\n",
    "    # This line is mandatory and should not be removed\n",
    "    ex_stat_init = True\n",
    "\n",
    "    # BELOW GOES YOUR CODE\n",
    "    averages = [\n",
    "        sum(numbers[i:i + k]) / k for i in range(len(numbers) - k + 1)\n",
    "    ]\n",
    "    # ABOVE GOES YOUR CODE\n",
    "\n",
    "    return {\"averages\": averages}\n",
    "\n",
    "# Run the exercise\n",
    "exercise_180()"
   ]
  },
  {
   "cell_type": "code",
   "execution_count": 363,
   "id": "a2bb3b6d",
   "metadata": {
    "ExecuteTime": {
     "end_time": "2024-12-24T02:23:49.427199700Z",
     "start_time": "2024-12-24T02:23:49.362403600Z"
    }
   },
   "outputs": [
    {
     "name": "stdout",
     "output_type": "stream",
     "text": [
      "✅ Great job! Exercise completed successfully.\n"
     ]
    }
   ],
   "source": [
    "# Given the variable `n` generate the first n terms of the sequence defined by a(n) = a(n-1) + a(n-2) + a(n-3), with a(0) = a(1) = a(2) = 1\n",
    "\n",
    "@check_exercise_181\n",
    "def exercise_181(n):\n",
    "    # This line is mandatory and should not be removed\n",
    "    ex_stat_init = True\n",
    "\n",
    "    # BELOW GOES YOUR CODE\n",
    "    sequence = [1, 1, 1]  # Initial values for a(0), a(1), and a(2)\n",
    "    for i in range(3, n):\n",
    "        sequence.append(sequence[i - 1] + sequence[i - 2] + sequence[i - 3])\n",
    "    # ABOVE GOES YOUR CODE\n",
    "\n",
    "    return {\"sequence\": sequence}\n",
    "\n",
    "# Run the exercise\n",
    "exercise_181()"
   ]
  },
  {
   "cell_type": "code",
   "execution_count": 364,
   "id": "09fafe50",
   "metadata": {
    "ExecuteTime": {
     "end_time": "2024-12-24T02:24:03.054791700Z",
     "start_time": "2024-12-24T02:24:02.988580700Z"
    }
   },
   "outputs": [
    {
     "name": "stdout",
     "output_type": "stream",
     "text": [
      "✅ Great job! Exercise completed successfully.\n"
     ]
    }
   ],
   "source": [
    "# Given a list of numbers `numbers`, find and assign the indices of the peak elements (elements greater than both neighbors) to the list `peak_elements`\n",
    "\n",
    "@check_exercise_182\n",
    "def exercise_182(numbers):\n",
    "    # This line is mandatory and should not be removed\n",
    "    ex_stat_init = True\n",
    "\n",
    "    # BELOW GOES YOUR CODE\n",
    "    peak_elements = [i for i in range(1, len(numbers) - 1) if numbers[i] > numbers[i - 1] and numbers[i] > numbers[i + 1]]\n",
    "    # ABOVE GOES YOUR CODE\n",
    "\n",
    "    return {\"peak_elements\": peak_elements}\n",
    "\n",
    "# Run the exercise\n",
    "exercise_182()"
   ]
  },
  {
   "cell_type": "code",
   "execution_count": 365,
   "id": "c430371e",
   "metadata": {
    "ExecuteTime": {
     "end_time": "2024-12-24T02:24:15.838491700Z",
     "start_time": "2024-12-24T02:24:15.778632300Z"
    }
   },
   "outputs": [
    {
     "name": "stdout",
     "output_type": "stream",
     "text": [
      "✅ Great job! Exercise completed successfully.\n"
     ]
    }
   ],
   "source": [
    "# Given a dictionary `sales` where keys are product names and values are lists of daily sales, create a new dictionary with total sales for each product\n",
    "\n",
    "@check_exercise_183\n",
    "def exercise_183(sales):\n",
    "    # This line is mandatory and should not be removed\n",
    "    ex_stat_init = True\n",
    "\n",
    "    # BELOW GOES YOUR CODE\n",
    "    total_sales = {product: sum(daily_sales) for product, daily_sales in sales.items()}\n",
    "    # ABOVE GOES YOUR CODE\n",
    "\n",
    "    return {\"total_sales\": total_sales}\n",
    "\n",
    "# Run the exercise\n",
    "exercise_183()"
   ]
  },
  {
   "cell_type": "code",
   "execution_count": 366,
   "id": "0f69d6f8",
   "metadata": {
    "ExecuteTime": {
     "end_time": "2024-12-24T02:24:33.377260700Z",
     "start_time": "2024-12-24T02:24:33.304869200Z"
    }
   },
   "outputs": [
    {
     "name": "stdout",
     "output_type": "stream",
     "text": [
      "✅ Great job! Exercise completed successfully.\n"
     ]
    }
   ],
   "source": [
    "# Given a list of strings `words`, sort the list based on the number of distinct characters in each word (in descending order)\n",
    "\n",
    "@check_exercise_184\n",
    "def exercise_184(words):\n",
    "    # This line is mandatory and should not be removed\n",
    "    ex_stat_init = True\n",
    "\n",
    "    # BELOW GOES YOUR CODE\n",
    "    words.sort(key=lambda word: len(set(word)), reverse=True)\n",
    "    # ABOVE GOES YOUR CODE\n",
    "\n",
    "    return {\"words\": words}\n",
    "\n",
    "# Run the exercise\n",
    "exercise_184()"
   ]
  },
  {
   "cell_type": "code",
   "execution_count": 367,
   "id": "42b39bd7",
   "metadata": {
    "ExecuteTime": {
     "end_time": "2024-12-24T02:24:56.928308500Z",
     "start_time": "2024-12-24T02:24:56.852932600Z"
    }
   },
   "outputs": [
    {
     "name": "stdout",
     "output_type": "stream",
     "text": [
      "✅ Great job! Exercise completed successfully.\n"
     ]
    }
   ],
   "source": [
    "# Given a list of numbers `numbers`, assign to the variable `max_diff` the maximum difference between any two elements in the list\n",
    "\n",
    "@check_exercise_185\n",
    "def exercise_185(numbers):\n",
    "    # This line is mandatory and should not be removed\n",
    "    ex_stat_init = True\n",
    "\n",
    "    # BELOW GOES YOUR CODE\n",
    "    max_diff = max(numbers) - min(numbers)\n",
    "    # ABOVE GOES YOUR CODE\n",
    "\n",
    "    return {\"max_diff\": max_diff}\n",
    "\n",
    "# Run the exercise\n",
    "exercise_185()"
   ]
  },
  {
   "cell_type": "code",
   "execution_count": 368,
   "id": "3c79ff86",
   "metadata": {
    "ExecuteTime": {
     "end_time": "2024-12-24T02:25:14.858252100Z",
     "start_time": "2024-12-24T02:25:14.659160900Z"
    }
   },
   "outputs": [
    {
     "name": "stdout",
     "output_type": "stream",
     "text": [
      "✅ Great job! Exercise completed successfully.\n"
     ]
    }
   ],
   "source": [
    "# Given the string variables `number`, try to convert it to an integer and assign it to the variable `integer`, or assign -1 if it's not possible\n",
    "\n",
    "@check_exercise_186\n",
    "def exercise_186(number):\n",
    "    # This line is mandatory and should not be removed\n",
    "    ex_stat_init = True\n",
    "\n",
    "    # BELOW GOES YOUR CODE\n",
    "    try:\n",
    "        integer = int(number)\n",
    "    except ValueError:\n",
    "        integer = -1\n",
    "    # ABOVE GOES YOUR CODE\n",
    "\n",
    "    return {\"integer\": integer}\n",
    "\n",
    "# Run the exercise\n",
    "exercise_186()"
   ]
  },
  {
   "cell_type": "code",
   "execution_count": 369,
   "id": "7f8cfce7",
   "metadata": {
    "ExecuteTime": {
     "end_time": "2024-12-24T02:25:30.282079900Z",
     "start_time": "2024-12-24T02:25:30.215775600Z"
    }
   },
   "outputs": [
    {
     "name": "stdout",
     "output_type": "stream",
     "text": [
      "✅ Great job! Exercise completed successfully.\n"
     ]
    }
   ],
   "source": [
    "# Given the variables `n` and `m`, assign to the variable `division_value` the result of dividing n by m, or -1 if the variables are not numeric or the division is not possible\n",
    "\n",
    "@check_exercise_187\n",
    "def exercise_187(n, m):\n",
    "    # This line is mandatory and should not be removed\n",
    "    ex_stat_init = True\n",
    "\n",
    "    # BELOW GOES YOUR CODE\n",
    "    try:\n",
    "        if isinstance(n, (int, float)) and isinstance(m, (int, float)) and m != 0:\n",
    "            division_value = n / m\n",
    "        else:\n",
    "            division_value = -1\n",
    "    except:\n",
    "        division_value = -1\n",
    "    # ABOVE GOES YOUR CODE\n",
    "\n",
    "    return {\"division_value\": division_value}\n",
    "\n",
    "# Run the exercise\n",
    "exercise_187()"
   ]
  },
  {
   "cell_type": "code",
   "execution_count": 370,
   "id": "011a52d0",
   "metadata": {
    "ExecuteTime": {
     "end_time": "2024-12-24T02:25:46.230817200Z",
     "start_time": "2024-12-24T02:25:46.153804600Z"
    }
   },
   "outputs": [
    {
     "name": "stdout",
     "output_type": "stream",
     "text": [
      "✅ Great job! Exercise completed successfully.\n"
     ]
    }
   ],
   "source": [
    "# Given a frozen set `fset`, try to add the number 5 to it and assign the result to the variable `updated_fset`, or assign an empty set if it's not possible\n",
    "\n",
    "@check_exercise_188\n",
    "def exercise_188(fset):\n",
    "    # This line is mandatory and should not be removed\n",
    "    ex_stat_init = True\n",
    "\n",
    "    # BELOW GOES YOUR CODE\n",
    "    try:\n",
    "        updated_fset = fset.union({5})\n",
    "    except:\n",
    "        updated_fset = set()\n",
    "    # ABOVE GOES YOUR CODE\n",
    "\n",
    "    return {\"updated_fset\": updated_fset}\n",
    "\n",
    "# Run the exercise\n",
    "exercise_188()"
   ]
  },
  {
   "cell_type": "code",
   "execution_count": 371,
   "id": "11bb81ec",
   "metadata": {
    "ExecuteTime": {
     "end_time": "2024-12-24T02:26:06.200076100Z",
     "start_time": "2024-12-24T02:26:06.120546900Z"
    }
   },
   "outputs": [
    {
     "name": "stdout",
     "output_type": "stream",
     "text": [
      "✅ Great job! Exercise completed successfully.\n"
     ]
    }
   ],
   "source": [
    "# Given a variable `x` use a try/except block to assign \"positive\" to the variable `number_status` if `x` is positive and \"negative\" if `x` is negative, handling the `AssertionError` with the message \"another error\".\n",
    "\n",
    "@check_exercise_189\n",
    "def exercise_189(x):\n",
    "    # This line is mandatory and should not be removed\n",
    "    ex_stat_init = True\n",
    "\n",
    "    # BELOW GOES YOUR CODE\n",
    "    try:\n",
    "        assert isinstance(x, (int, float)), \"Value must be a number\"\n",
    "        if x > 0:\n",
    "            number_status = \"positive\"\n",
    "        elif x < 0:\n",
    "            number_status = \"negative\"\n",
    "        else:\n",
    "            number_status = \"zero\"\n",
    "    except AssertionError:\n",
    "        number_status = \"another error\"\n",
    "    # ABOVE GOES YOUR CODE\n",
    "\n",
    "    return {\"number_status\": number_status}\n",
    "\n",
    "# Run the exercise\n",
    "exercise_189()"
   ]
  },
  {
   "cell_type": "code",
   "execution_count": 372,
   "id": "15c1130a",
   "metadata": {
    "ExecuteTime": {
     "end_time": "2024-12-24T02:26:40.833621800Z",
     "start_time": "2024-12-24T02:26:40.768892200Z"
    }
   },
   "outputs": [
    {
     "name": "stdout",
     "output_type": "stream",
     "text": [
      "✅ Great job! Exercise completed successfully.\n"
     ]
    }
   ],
   "source": [
    "# Given a list of numbers `numbers`, assign to the variable `sum_of_squares` the sum of the squares of all numbers,handling any `TypeError` with the message \"invalid type\" and any other exception with the message \"unknown error\", and always assigning -1 to the variable `finalized`\n",
    "\n",
    "@check_exercise_190\n",
    "def exercise_190(numbers):\n",
    "    # This line is mandatory and should not be removed\n",
    "    ex_stat_init = True\n",
    "\n",
    "    # BELOW GOES YOUR CODE\n",
    "    try:\n",
    "        sum_of_squares = sum(num ** 2 for num in numbers)\n",
    "    except TypeError:\n",
    "        sum_of_squares = \"invalid type\"\n",
    "    except Exception:\n",
    "        sum_of_squares = \"unknown error\"\n",
    "    finally:\n",
    "        finalized = -1\n",
    "    # ABOVE GOES YOUR CODE\n",
    "\n",
    "    return {\"sum_of_squares\": sum_of_squares, \"finalized\": finalized}\n",
    "\n",
    "# Run the exercise\n",
    "exercise_190()\n"
   ]
  },
  {
   "cell_type": "code",
   "execution_count": 373,
   "id": "9a146aaf",
   "metadata": {
    "ExecuteTime": {
     "end_time": "2024-12-24T02:27:08.419859600Z",
     "start_time": "2024-12-24T02:27:08.323216200Z"
    }
   },
   "outputs": [
    {
     "name": "stdout",
     "output_type": "stream",
     "text": [
      "✅ Great job! Exercise completed successfully.\n"
     ]
    }
   ],
   "source": [
    "# Create a function named `multiply` that takes two numbers `a` and `b` as parameters and returns their product.\n",
    "\n",
    "@check_exercise_191\n",
    "def exercise_191():\n",
    "    # This line is mandatory and should not be removed\n",
    "    ex_stat_init = True\n",
    "    \n",
    "    # BELOW GOES YOUR CODE\n",
    "    def multiply(a, b):\n",
    "        return a * b\n",
    "    # ABOVE GOES YOUR CODE\n",
    "\n",
    "    return {'multiply': multiply}\n",
    "\n",
    "# Run the exercise\n",
    "exercise_191()"
   ]
  },
  {
   "cell_type": "code",
   "execution_count": 374,
   "id": "2af0b6bf",
   "metadata": {
    "ExecuteTime": {
     "end_time": "2024-12-24T02:27:23.143403800Z",
     "start_time": "2024-12-24T02:27:23.079499Z"
    }
   },
   "outputs": [
    {
     "name": "stdout",
     "output_type": "stream",
     "text": [
      "✅ Great job! Exercise completed successfully.\n"
     ]
    }
   ],
   "source": [
    "# Create a function named `is_even` that takes a number `n` as a parameter and returns True if the number is even, otherwise returns False.\n",
    "\n",
    "@check_exercise_192\n",
    "def exercise_192():\n",
    "    # This line is mandatory and should not be removed\n",
    "    ex_stat_init = True\n",
    "    \n",
    "    # BELOW GOES YOUR CODE\n",
    "    def is_even(n):\n",
    "        return n % 2 == 0\n",
    "    # ABOVE GOES YOUR CODE\n",
    "\n",
    "    return {'is_even': is_even}\n",
    "\n",
    "# Run the exercise\n",
    "exercise_192()"
   ]
  },
  {
   "cell_type": "code",
   "execution_count": 375,
   "id": "ac991477",
   "metadata": {
    "ExecuteTime": {
     "end_time": "2024-12-24T02:27:37.122235800Z",
     "start_time": "2024-12-24T02:27:37.035621100Z"
    }
   },
   "outputs": [
    {
     "name": "stdout",
     "output_type": "stream",
     "text": [
      "✅ Great job! Exercise completed successfully.\n"
     ]
    }
   ],
   "source": [
    "# Create a function called `find_max` that takes three numbers `a`, `b`, `c` as parameters and returns the largest of them.\n",
    "\n",
    "@check_exercise_193\n",
    "def exercise_193():\n",
    "    # This line is mandatory and should not be removed\n",
    "    ex_stat_init = True\n",
    "    \n",
    "    # BELOW GOES YOUR CODE\n",
    "    def find_max(a, b, c):\n",
    "        return max(a, b, c)\n",
    "    # ABOVE GOES YOUR CODE\n",
    "\n",
    "    return {'find_max': find_max}\n",
    "\n",
    "# Run the exercise\n",
    "exercise_193()"
   ]
  },
  {
   "cell_type": "code",
   "execution_count": 376,
   "id": "ff653db0",
   "metadata": {
    "ExecuteTime": {
     "end_time": "2024-12-24T02:27:53.849524200Z",
     "start_time": "2024-12-24T02:27:53.769881900Z"
    }
   },
   "outputs": [
    {
     "name": "stdout",
     "output_type": "stream",
     "text": [
      "✅ Great job! Exercise completed successfully.\n"
     ]
    }
   ],
   "source": [
    "# Create a function named `reverse_string` that takes a string `text` as a parameter and returns the reversed version of that string.\n",
    "\n",
    "@check_exercise_194\n",
    "def exercise_194():\n",
    "    # This line is mandatory and should not be removed\n",
    "    ex_stat_init = True\n",
    "    \n",
    "    # BELOW GOES YOUR CODE\n",
    "    def reverse_string(text):\n",
    "        return text[::-1]\n",
    "    # ABOVE GOES YOUR CODE\n",
    "\n",
    "    return {'reverse_string': reverse_string}\n",
    "\n",
    "# Run the exercise\n",
    "exercise_194()"
   ]
  },
  {
   "cell_type": "code",
   "execution_count": 377,
   "id": "671f8d16",
   "metadata": {
    "ExecuteTime": {
     "end_time": "2024-12-24T02:28:10.299159700Z",
     "start_time": "2024-12-24T02:28:10.190699400Z"
    }
   },
   "outputs": [
    {
     "name": "stdout",
     "output_type": "stream",
     "text": [
      "✅ Great job! Exercise completed successfully.\n"
     ]
    }
   ],
   "source": [
    "# Create a function named `factorial` that takes a number `n` as a parameter and returns its factorial.\n",
    "\n",
    "@check_exercise_195\n",
    "def exercise_195():\n",
    "    # This line is mandatory and should not be removed\n",
    "    ex_stat_init = True\n",
    "    \n",
    "    # BELOW GOES YOUR CODE\n",
    "    def factorial(n):\n",
    "        if n == 0 or n == 1:\n",
    "            return 1\n",
    "        else:\n",
    "            return n * factorial(n - 1)\n",
    "    # ABOVE GOES YOUR CODE\n",
    "\n",
    "    return {'factorial': factorial}\n",
    "\n",
    "# Run the exercise\n",
    "exercise_195()"
   ]
  },
  {
   "cell_type": "code",
   "execution_count": 378,
   "id": "3b2d57d4",
   "metadata": {
    "ExecuteTime": {
     "end_time": "2024-12-24T02:28:25.783351200Z",
     "start_time": "2024-12-24T02:28:25.717680800Z"
    }
   },
   "outputs": [
    {
     "name": "stdout",
     "output_type": "stream",
     "text": [
      "✅ Great job! Exercise completed successfully.\n"
     ]
    }
   ],
   "source": [
    "# Create a function called `count_vowels` that takes a string `text` as a parameter and returns the number of vowels in the string.\n",
    "\n",
    "@check_exercise_196\n",
    "def exercise_196():\n",
    "    # This line is mandatory and should not be removed\n",
    "    ex_stat_init = True\n",
    "    \n",
    "    # BELOW GOES YOUR CODE\n",
    "    def count_vowels(text):\n",
    "        return sum(1 for char in text.lower() if char in 'aeiou')\n",
    "    # ABOVE GOES YOUR CODE\n",
    "\n",
    "    return {\"count_vowels\": count_vowels}\n",
    "\n",
    "# Run the exercise\n",
    "exercise_196()"
   ]
  },
  {
   "cell_type": "code",
   "execution_count": 379,
   "id": "4b19b826",
   "metadata": {
    "ExecuteTime": {
     "end_time": "2024-12-24T02:28:45.867551700Z",
     "start_time": "2024-12-24T02:28:45.801668800Z"
    }
   },
   "outputs": [
    {
     "name": "stdout",
     "output_type": "stream",
     "text": [
      "✅ Great job! Exercise completed successfully.\n"
     ]
    }
   ],
   "source": [
    "# Create a function called `area_of_circle` that takes the `radius` as a parameter and returns the area of the circle.\n",
    "\n",
    "@check_exercise_197\n",
    "def exercise_197():\n",
    "    # This line is mandatory and should not be removed\n",
    "    ex_stat_init = True\n",
    "    \n",
    "    # BELOW GOES YOUR CODE\n",
    "    import math\n",
    "    def area_of_circle(radius):\n",
    "        return math.pi * radius ** 2\n",
    "    # ABOVE GOES YOUR CODE\n",
    "\n",
    "    return {\"area_of_circle\": area_of_circle}\n",
    "\n",
    "# Run the exercise\n",
    "exercise_197()"
   ]
  },
  {
   "cell_type": "code",
   "execution_count": 380,
   "id": "e4f8ccb4",
   "metadata": {
    "ExecuteTime": {
     "end_time": "2024-12-24T02:28:59.467768800Z",
     "start_time": "2024-12-24T02:28:59.403508100Z"
    }
   },
   "outputs": [
    {
     "name": "stdout",
     "output_type": "stream",
     "text": [
      "✅ Great job! Exercise completed successfully.\n"
     ]
    }
   ],
   "source": [
    "# Create a function named `fibonacci` that takes a number `n` and returns the first `n` Fibonacci numbers in a list, where the first two numbers are 0 and 1.\n",
    "\n",
    "@check_exercise_198\n",
    "def exercise_198():\n",
    "    # This line is mandatory and should not be removed\n",
    "    ex_stat_init = True\n",
    "    \n",
    "    # BELOW GOES YOUR CODE\n",
    "    def fibonacci(n):\n",
    "        fib_sequence = [0, 1]\n",
    "        for i in range(2, n):\n",
    "            fib_sequence.append(fib_sequence[i - 1] + fib_sequence[i - 2])\n",
    "        return fib_sequence[:n]\n",
    "    # ABOVE GOES YOUR CODE\n",
    "\n",
    "    return {\"fibonacci\": fibonacci}\n",
    "\n",
    "# Run the exercise\n",
    "exercise_198()"
   ]
  },
  {
   "cell_type": "code",
   "execution_count": 381,
   "id": "4b7b6c34",
   "metadata": {
    "ExecuteTime": {
     "end_time": "2024-12-24T02:29:15.578090500Z",
     "start_time": "2024-12-24T02:29:15.487900600Z"
    }
   },
   "outputs": [
    {
     "name": "stdout",
     "output_type": "stream",
     "text": [
      "✅ Great job! Exercise completed successfully.\n"
     ]
    }
   ],
   "source": [
    "# Create a function named `is_prime` that takes a number `n` and returns True if it is a prime number, otherwise False.\n",
    "\n",
    "@check_exercise_199\n",
    "def exercise_199():\n",
    "    # This line is mandatory and should not be removed\n",
    "    ex_stat_init = True\n",
    "    \n",
    "    # BELOW GOES YOUR CODE\n",
    "    def is_prime(n):\n",
    "        if n <= 1:\n",
    "            return False\n",
    "        for i in range(2, int(n ** 0.5) + 1):\n",
    "            if n % i == 0:\n",
    "                return False\n",
    "        return True\n",
    "    # ABOVE GOES YOUR CODE\n",
    "\n",
    "    return {\"is_prime\": is_prime}\n",
    "\n",
    "# Run the exercise\n",
    "exercise_199()"
   ]
  },
  {
   "cell_type": "code",
   "execution_count": 382,
   "id": "81708b43",
   "metadata": {
    "ExecuteTime": {
     "end_time": "2024-12-24T02:29:35.593741200Z",
     "start_time": "2024-12-24T02:29:35.473681800Z"
    }
   },
   "outputs": [
    {
     "name": "stdout",
     "output_type": "stream",
     "text": [
      "✅ Great job! Exercise completed successfully.\n"
     ]
    }
   ],
   "source": [
    "# Create a function `product` that takes two numbers and an optional parameter for a message, returning the message along with the product of the two numbers: \"[message]: [product]\".\n",
    "\n",
    "@check_exercise_200\n",
    "def exercise_200():\n",
    "    # This line is mandatory and should not be removed\n",
    "    ex_stat_init = True\n",
    "    \n",
    "    # BELOW GOES YOUR CODE\n",
    "    def product(a, b, message=\"The product is\"):\n",
    "        return f\"{message}: {a * b}\"\n",
    "    # ABOVE GOES YOUR CODE\n",
    "\n",
    "    return {\"product\": product}\n",
    "\n",
    "# Run the exercise\n",
    "exercise_200()"
   ]
  },
  {
   "cell_type": "code",
   "execution_count": 383,
   "id": "fdc3f206",
   "metadata": {
    "ExecuteTime": {
     "end_time": "2024-12-24T02:29:53.487310900Z",
     "start_time": "2024-12-24T02:29:53.357893400Z"
    }
   },
   "outputs": [
    {
     "name": "stdout",
     "output_type": "stream",
     "text": [
      "✅ Great job! Exercise completed successfully.\n"
     ]
    }
   ],
   "source": [
    "# Create a function `favorite_foods` that takes a list of `foods` and returns \"favorite foods are [food1], [food2], ...\" where the foods are joined by commas.\n",
    "\n",
    "@check_exercise_201\n",
    "def exercise_201():\n",
    "    # This line is mandatory and should not be removed\n",
    "    ex_stat_init = True\n",
    "    \n",
    "    # BELOW GOES YOUR CODE\n",
    "    def favorite_foods(foods):\n",
    "        return f\"favorite foods are {', '.join(foods)}\"\n",
    "    # ABOVE GOES YOUR CODE\n",
    "\n",
    "    return {\"favorite_foods\": favorite_foods}\n",
    "\n",
    "# Run the exercise\n",
    "exercise_201()"
   ]
  },
  {
   "cell_type": "code",
   "execution_count": 384,
   "id": "8f0f2a73",
   "metadata": {
    "ExecuteTime": {
     "end_time": "2024-12-24T02:31:34.756315Z",
     "start_time": "2024-12-24T02:31:34.692335700Z"
    }
   },
   "outputs": [
    {
     "name": "stdout",
     "output_type": "stream",
     "text": [
      "✅ Great job! Exercise completed successfully.\n"
     ]
    }
   ],
   "source": [
    "# create a function `full_name` that takes a first name and last name as keyword arguments and returns the full name as a string, with a space between the names.\n",
    "\n",
    "@check_exercise_202\n",
    "def exercise_202():\n",
    "    # This line is mandatory and should not be removed\n",
    "    ex_stat_init = True\n",
    "\n",
    "    # BELOW GOES YOUR CODE\n",
    "    def full_name(first_name, last_name):\n",
    "        return f\"{first_name} {last_name}\"\n",
    "    # ABOVE GOES YOUR CODE\n",
    "\n",
    "    return {\"full_name\": full_name}\n",
    "\n",
    "# Run the exercise\n",
    "exercise_202()"
   ]
  },
  {
   "cell_type": "code",
   "execution_count": 385,
   "id": "e0342fee",
   "metadata": {
    "ExecuteTime": {
     "end_time": "2024-12-24T02:31:49.861120800Z",
     "start_time": "2024-12-24T02:31:49.782123500Z"
    }
   },
   "outputs": [
    {
     "name": "stdout",
     "output_type": "stream",
     "text": [
      "✅ Great job! Exercise completed successfully.\n"
     ]
    }
   ],
   "source": [
    "# Create a function `send_email` that takes a recipient address and an optional subject (default to \"No Subject\") and returns a formatted email string, like \"To: [recipient], Subject: [subject]\".\n",
    "\n",
    "@check_exercise_203\n",
    "def exercise_203():\n",
    "    # This line is mandatory and should not be removed\n",
    "    ex_stat_init = True\n",
    "    \n",
    "    # BELOW GOES YOUR CODE\n",
    "    def send_email(recipient, subject=\"No Subject\"):\n",
    "        return f\"To: {recipient}, Subject: {subject}\"\n",
    "    # ABOVE GOES YOUR CODE\n",
    "\n",
    "    return {\"send_email\": send_email}\n",
    "\n",
    "# Run the exercise\n",
    "exercise_203()"
   ]
  },
  {
   "cell_type": "code",
   "execution_count": 386,
   "id": "2389404f",
   "metadata": {
    "ExecuteTime": {
     "end_time": "2024-12-24T02:32:05.923287900Z",
     "start_time": "2024-12-24T02:32:05.853735100Z"
    }
   },
   "outputs": [
    {
     "name": "stdout",
     "output_type": "stream",
     "text": [
      "✅ Great job! Exercise completed successfully.\n"
     ]
    }
   ],
   "source": [
    "# create a function `calculate_discount` that takes a `price` and an optional `discount_rate` (default to 0), returning the final price after applying the discount.\n",
    "\n",
    "@check_exercise_204\n",
    "def exercise_204():\n",
    "    # This line is mandatory and should not be removed\n",
    "    ex_stat_init = True\n",
    "    \n",
    "    # BELOW GOES YOUR CODE\n",
    "    def calculate_discount(price, discount_rate=0):\n",
    "        return price * (1 - discount_rate)\n",
    "    # ABOVE GOES YOUR CODE\n",
    "\n",
    "    return {\"calculate_discount\": calculate_discount}\n",
    "\n",
    "# Run the exercise\n",
    "exercise_204()"
   ]
  },
  {
   "cell_type": "code",
   "execution_count": 387,
   "id": "fbade63e",
   "metadata": {
    "ExecuteTime": {
     "end_time": "2024-12-24T02:32:27.790785100Z",
     "start_time": "2024-12-24T02:32:27.719115500Z"
    }
   },
   "outputs": [
    {
     "name": "stdout",
     "output_type": "stream",
     "text": [
      "✅ Great job! Exercise completed successfully.\n"
     ]
    }
   ],
   "source": [
    "# Create a function `create_user` that takes a username and optional parameters for age and location, returning a user profile string, like \"Username: [username], Age: [age], Location: [location]\" assigning \"None\" to missing values.\n",
    "\n",
    "@check_exercise_205\n",
    "def exercise_205():\n",
    "    # This line is mandatory and should not be removed\n",
    "    ex_stat_init = True\n",
    "    \n",
    "    # BELOW GOES YOUR CODE\n",
    "    def create_user(username, age=None, location=None):\n",
    "        return f\"Username: {username}, Age: {age if age is not None else 'None'}, Location: {location if location is not None else 'None'}\"\n",
    "    # ABOVE GOES YOUR CODE\n",
    "\n",
    "    return {\"create_user\": create_user}\n",
    "\n",
    "# Run the exercise\n",
    "exercise_205()"
   ]
  },
  {
   "cell_type": "code",
   "execution_count": 388,
   "id": "04765396",
   "metadata": {
    "ExecuteTime": {
     "end_time": "2024-12-24T02:32:43.135155900Z",
     "start_time": "2024-12-24T02:32:43.016559Z"
    }
   },
   "outputs": [
    {
     "name": "stdout",
     "output_type": "stream",
     "text": [
      "✅ Great job! Exercise completed successfully.\n"
     ]
    }
   ],
   "source": [
    "# Create a function `increment` that takes a number and an optional step value (default to 1), returning the incremented value.\n",
    "\n",
    "@check_exercise_206\n",
    "def exercise_206():\n",
    "    # This line is mandatory and should not be removed\n",
    "    ex_stat_init = True\n",
    "    \n",
    "    # BELOW GOES YOUR CODE\n",
    "    def increment(number, step=1):\n",
    "        return number + step\n",
    "    # ABOVE GOES YOUR CODE\n",
    "\n",
    "    return {\"increment\": increment}\n",
    "\n",
    "# Run the exercise\n",
    "exercise_206()"
   ]
  },
  {
   "cell_type": "code",
   "execution_count": 389,
   "id": "0f9b457f",
   "metadata": {
    "ExecuteTime": {
     "end_time": "2024-12-24T02:33:00.441089100Z",
     "start_time": "2024-12-24T02:33:00.377986900Z"
    }
   },
   "outputs": [
    {
     "name": "stdout",
     "output_type": "stream",
     "text": [
      "✅ Great job! Exercise completed successfully.\n"
     ]
    }
   ],
   "source": [
    "# Create a function `concatenate_strings` that accepts any number of string arguments and returns a single concatenated string.\n",
    "\n",
    "@check_exercise_207\n",
    "def exercise_207():\n",
    "    # This line is mandatory and should not be removed\n",
    "    ex_stat_init = True\n",
    "    \n",
    "    # BELOW GOES YOUR CODE\n",
    "    def concatenate_strings(*args):\n",
    "        return ''.join(args)\n",
    "    # ABOVE GOES YOUR CODE\n",
    "\n",
    "    return {\"concatenate_strings\": concatenate_strings}\n",
    "\n",
    "# Run the exercise\n",
    "exercise_207()"
   ]
  },
  {
   "cell_type": "code",
   "execution_count": 390,
   "id": "e7f19ee3",
   "metadata": {
    "ExecuteTime": {
     "end_time": "2024-12-24T02:33:17.833143700Z",
     "start_time": "2024-12-24T02:33:17.773478200Z"
    }
   },
   "outputs": [
    {
     "name": "stdout",
     "output_type": "stream",
     "text": [
      "✅ Great job! Exercise completed successfully.\n"
     ]
    }
   ],
   "source": [
    "# Create a function `print_scores` that accepts any number of scores and returns a formatted string with all the scores, like \"Scores: [score1], [score2], [score3].\".\n",
    "\n",
    "@check_exercise_208\n",
    "def exercise_208():\n",
    "    # This line is mandatory and should not be removed\n",
    "    ex_stat_init = True\n",
    "    \n",
    "    # BELOW GOES YOUR CODE\n",
    "    def print_scores(*scores):\n",
    "        return f\"Scores: {', '.join(map(str, scores))}.\"\n",
    "    # ABOVE GOES YOUR CODE\n",
    "\n",
    "    return {\"print_scores\": print_scores}\n",
    "\n",
    "# Run the exercise\n",
    "exercise_208()"
   ]
  },
  {
   "cell_type": "code",
   "execution_count": 391,
   "id": "6ee9a124",
   "metadata": {
    "ExecuteTime": {
     "end_time": "2024-12-24T02:33:35.008875100Z",
     "start_time": "2024-12-24T02:33:34.944052700Z"
    }
   },
   "outputs": [
    {
     "name": "stdout",
     "output_type": "stream",
     "text": [
      "✅ Great job! Exercise completed successfully.\n"
     ]
    }
   ],
   "source": [
    "# Create a function called `merge_dicts` that accepts multiple dictionaries as keyword arguments and returns a single merged dictionary.\n",
    "\n",
    "@check_exercise_209\n",
    "def exercise_209():\n",
    "    # This line is mandatory and should not be removed\n",
    "    ex_stat_init = True\n",
    "    \n",
    "    # BELOW GOES YOUR CODE\n",
    "    def merge_dicts(**dicts):\n",
    "        result = {}\n",
    "        for d in dicts.values():\n",
    "            result.update(d)\n",
    "        return result\n",
    "    # ABOVE GOES YOUR CODE\n",
    "\n",
    "    return {\"merge_dicts\": merge_dicts}\n",
    "\n",
    "# Run the exercise\n",
    "exercise_209()"
   ]
  },
  {
   "cell_type": "code",
   "execution_count": 392,
   "id": "38376fbe",
   "metadata": {
    "ExecuteTime": {
     "end_time": "2024-12-24T02:33:50.097386400Z",
     "start_time": "2024-12-24T02:33:50.035057Z"
    }
   },
   "outputs": [
    {
     "name": "stdout",
     "output_type": "stream",
     "text": [
      "✅ Great job! Exercise completed successfully.\n"
     ]
    }
   ],
   "source": [
    "# Create a function named `calculate_average` that takes any number of scores and returns the average.\n",
    "\n",
    "@check_exercise_210\n",
    "def exercise_210():\n",
    "    # This line is mandatory and should not be removed\n",
    "    ex_stat_init = True\n",
    "    \n",
    "    # BELOW GOES YOUR CODE\n",
    "    def calculate_average(*scores):\n",
    "        return sum(scores) / len(scores) if scores else 0\n",
    "    # ABOVE GOES YOUR CODE\n",
    "\n",
    "    return {\"calculate_average\": calculate_average}\n",
    "\n",
    "# Run the exercise\n",
    "exercise_210()"
   ]
  },
  {
   "cell_type": "code",
   "execution_count": 393,
   "id": "92f345e6",
   "metadata": {
    "ExecuteTime": {
     "end_time": "2024-12-24T02:34:07.552434800Z",
     "start_time": "2024-12-24T02:34:07.486752100Z"
    }
   },
   "outputs": [
    {
     "name": "stdout",
     "output_type": "stream",
     "text": [
      "✅ Great job! Exercise completed successfully.\n"
     ]
    }
   ],
   "source": [
    "# Create a function named `compute_class_average` that takes as input any number of dictionaries containing the name as key and a list of scores as value, and returns a dictionary with the average score of all the students.\n",
    "\n",
    "@check_exercise_211\n",
    "def exercise_211():\n",
    "    # This line is mandatory and should not be removed\n",
    "    ex_stat_init = True\n",
    "    \n",
    "    # BELOW GOES YOUR CODE\n",
    "    def compute_class_average(**students):\n",
    "        averages = {}\n",
    "        for name, scores in students.items():\n",
    "            averages[name] = sum(scores) / len(scores) if scores else 0\n",
    "        return averages\n",
    "    # ABOVE GOES YOUR CODE\n",
    "\n",
    "    return {\"compute_class_average\": compute_class_average}\n",
    "\n",
    "# Run the exercise\n",
    "exercise_211()"
   ]
  },
  {
   "cell_type": "code",
   "execution_count": 394,
   "id": "f1472354",
   "metadata": {
    "ExecuteTime": {
     "end_time": "2024-12-24T02:34:43.026571800Z",
     "start_time": "2024-12-24T02:34:42.906662100Z"
    }
   },
   "outputs": [
    {
     "name": "stdout",
     "output_type": "stream",
     "text": [
      "✅ The function has a docstring.\n"
     ]
    }
   ],
   "source": [
    "# Define a function `calculate_area` that takes the radius of a circle as an argument and returns the area. Include a docstring that describes the function, its parameter, and the return value.\n",
    "\n",
    "@check_exercise_212\n",
    "def exercise_212():\n",
    "    # This line is mandatory and should not be removed\n",
    "    ex_stat_init = True\n",
    "    \n",
    "    # BELOW GOES YOUR CODE\n",
    "    import math\n",
    "\n",
    "    def calculate_area(radius):\n",
    "        \"\"\"\n",
    "        Parameters:\n",
    "        radius (float): The radius of the circle.\n",
    "\n",
    "        Returns:\n",
    "        float: The area of the circle calculated as pi * radius^2.\n",
    "        \"\"\"\n",
    "        return math.pi * radius ** 2\n",
    "    # ABOVE GOES YOUR CODE\n",
    "\n",
    "    return {\"calculate_area\": calculate_area}\n",
    "\n",
    "# Run the exercise\n",
    "exercise_212()\n"
   ]
  },
  {
   "cell_type": "code",
   "execution_count": 395,
   "id": "5f3a3f52",
   "metadata": {
    "ExecuteTime": {
     "end_time": "2024-12-24T02:35:27.624783700Z",
     "start_time": "2024-12-24T02:35:27.547881700Z"
    }
   },
   "outputs": [
    {
     "name": "stdout",
     "output_type": "stream",
     "text": [
      "✅ Great job! Exercise completed successfully.\n"
     ]
    }
   ],
   "source": [
    "# Define a recursive function `factorial` that calculates the factorial of a given non-negative integer `n`.\n",
    "\n",
    "@check_exercise_213\n",
    "def exercise_213():\n",
    "    # This line is mandatory and should not be removed\n",
    "    ex_stat_init = True\n",
    "    \n",
    "    # BELOW GOES YOUR CODE\n",
    "    def factorial(n):\n",
    "        if n == 0 or n == 1:\n",
    "            return 1\n",
    "        else:\n",
    "            return n * factorial(n - 1)\n",
    "    # ABOVE GOES YOUR CODE\n",
    "\n",
    "    return {\"factorial\": factorial}\n",
    "\n",
    "# Run the exercise\n",
    "exercise_213()\n"
   ]
  },
  {
   "cell_type": "code",
   "execution_count": 396,
   "id": "693b7fca",
   "metadata": {
    "ExecuteTime": {
     "end_time": "2024-12-24T02:35:43.207446400Z",
     "start_time": "2024-12-24T02:35:43.146007700Z"
    }
   },
   "outputs": [
    {
     "name": "stdout",
     "output_type": "stream",
     "text": [
      "✅ Great job! Exercise completed successfully.\n"
     ]
    }
   ],
   "source": [
    "# Create a lambda function that takes two arguments `a` and `b` and returns their product. Assign this lambda function to a variable called `multiply`.\n",
    "\n",
    "@check_exercise_214\n",
    "def exercise_214():\n",
    "    # This line is mandatory and should not be removed\n",
    "    ex_stat_init = True\n",
    "    \n",
    "    # BELOW GOES YOUR CODE\n",
    "    multiply = lambda a, b: a * b\n",
    "    # ABOVE GOES YOUR CODE\n",
    "\n",
    "    return {\"multiply\": multiply}\n",
    "\n",
    "# Run the exercise\n",
    "exercise_214()"
   ]
  },
  {
   "cell_type": "code",
   "execution_count": 397,
   "id": "bab5f313",
   "metadata": {
    "ExecuteTime": {
     "end_time": "2024-12-24T02:36:02.301781500Z",
     "start_time": "2024-12-24T02:36:02.238190Z"
    }
   },
   "outputs": [
    {
     "name": "stdout",
     "output_type": "stream",
     "text": [
      "✅ Great job! Exercise completed successfully.\n"
     ]
    }
   ],
   "source": [
    "# Given a list of temperatures in Celsius called `celsius_temps`, use `map` with a lambda function to convert all temperatures to Fahrenheit. Assign the result to a variable `fahrenheit_temps`.\n",
    "\n",
    "@check_exercise_215\n",
    "def exercise_215(celsius_temps):\n",
    "    # This line is mandatory and should not be removed\n",
    "    ex_stat_init = True\n",
    "    \n",
    "    # BELOW GOES YOUR CODE\n",
    "    fahrenheit_temps = list(map(lambda c: (c * 9/5) + 32, celsius_temps))\n",
    "    # ABOVE GOES YOUR CODE\n",
    "\n",
    "    return {\"fahrenheit_temps\": fahrenheit_temps}\n",
    "\n",
    "# Run the exercise\n",
    "exercise_215()"
   ]
  },
  {
   "cell_type": "code",
   "execution_count": 398,
   "id": "a055fa20",
   "metadata": {
    "ExecuteTime": {
     "end_time": "2024-12-24T02:36:18.476351Z",
     "start_time": "2024-12-24T02:36:18.401503400Z"
    }
   },
   "outputs": [
    {
     "name": "stdout",
     "output_type": "stream",
     "text": [
      "✅ Great job! Exercise completed successfully.\n"
     ]
    }
   ],
   "source": [
    "# Given a list of numbers called `numbers`, use `filter` with a lambda function to keep only the even numbers. Assign the result to a variable `even_numbers`.\n",
    "\n",
    "@check_exercise_216\n",
    "def exercise_216(numbers):\n",
    "    # This line is mandatory and should not be removed\n",
    "    ex_stat_init = True\n",
    "    \n",
    "    # BELOW GOES YOUR CODE\n",
    "    even_numbers = list(filter(lambda x: x % 2 == 0, numbers))\n",
    "    # ABOVE GOES YOUR CODE\n",
    "\n",
    "    return {\"even_numbers\": even_numbers}\n",
    "\n",
    "# Run the exercise\n",
    "exercise_216()"
   ]
  },
  {
   "cell_type": "code",
   "execution_count": 399,
   "id": "a60a075a",
   "metadata": {
    "ExecuteTime": {
     "end_time": "2024-12-24T02:36:35.943863800Z",
     "start_time": "2024-12-24T02:36:35.876225500Z"
    }
   },
   "outputs": [
    {
     "name": "stdout",
     "output_type": "stream",
     "text": [
      "✅ Great job! Exercise completed successfully.\n"
     ]
    }
   ],
   "source": [
    "# Given a list of dictionaries called `people`, each containing 'name' and 'age' keys, use the `sorted` function with a lambda to sort the list by age in descending order.\n",
    "\n",
    "@check_exercise_217\n",
    "def exercise_217(people):\n",
    "    # This line is mandatory and should not be removed\n",
    "    ex_stat_init = True\n",
    "    \n",
    "    # BELOW GOES YOUR CODE\n",
    "    sorted_people = sorted(people, key=lambda x: x['age'], reverse=True)\n",
    "    # ABOVE GOES YOUR CODE\n",
    "\n",
    "    return {\"sorted_people\": sorted_people}\n",
    "\n",
    "# Run the exercise\n",
    "exercise_217()"
   ]
  },
  {
   "cell_type": "code",
   "execution_count": 400,
   "id": "34229b46",
   "metadata": {
    "ExecuteTime": {
     "end_time": "2024-12-24T02:36:50.934816700Z",
     "start_time": "2024-12-24T02:36:50.809583400Z"
    }
   },
   "outputs": [
    {
     "name": "stdout",
     "output_type": "stream",
     "text": [
      "✅ Great job! Exercise completed successfully.\n"
     ]
    }
   ],
   "source": [
    "# Given a list of strings called `words`, use `sorted` with a lambda function to sort the words first by length and then alphabetically for words of the same length.\n",
    "\n",
    "@check_exercise_218\n",
    "def exercise_218(words):\n",
    "    # This line is mandatory and should not be removed\n",
    "    ex_stat_init = True\n",
    "    \n",
    "    # BELOW GOES YOUR CODE\n",
    "    sorted_words = sorted(words, key=lambda x: (len(x), x))\n",
    "    # ABOVE GOES YOUR CODE\n",
    "\n",
    "    return {\"sorted_words\": sorted_words}\n",
    "\n",
    "# Run the exercise\n",
    "exercise_218()"
   ]
  },
  {
   "cell_type": "code",
   "execution_count": 401,
   "id": "15689277",
   "metadata": {
    "ExecuteTime": {
     "end_time": "2024-12-24T02:37:11.033755900Z",
     "start_time": "2024-12-24T02:37:10.971840500Z"
    }
   },
   "outputs": [
    {
     "name": "stdout",
     "output_type": "stream",
     "text": [
      "✅ Great job! Exercise completed successfully.\n"
     ]
    }
   ],
   "source": [
    "# Define a function `create_greeting` that takes a argument `salutation` with a default value of \"Hello\" and returns a function that takes a `name` argument and returns a greeting message.\n",
    "\n",
    "@check_exercise_219\n",
    "def exercise_219():\n",
    "    # This line is mandatory and should not be removed\n",
    "    ex_stat_init = True\n",
    "    \n",
    "    # BELOW GOES YOUR CODE\n",
    "    def create_greeting(salutation=\"Hello\"):\n",
    "        return lambda name: f\"{salutation}, {name}!\"\n",
    "    # ABOVE GOES YOUR CODE\n",
    "\n",
    "    return {\"create_greeting\": create_greeting}\n",
    "\n",
    "# Run the exercise\n",
    "exercise_219()"
   ]
  },
  {
   "cell_type": "code",
   "execution_count": 402,
   "id": "ef4b9fd2",
   "metadata": {
    "ExecuteTime": {
     "end_time": "2024-12-24T02:37:27.772348200Z",
     "start_time": "2024-12-24T02:37:27.706812600Z"
    }
   },
   "outputs": [
    {
     "name": "stdout",
     "output_type": "stream",
     "text": [
      "✅ Great job! Exercise completed successfully.\n"
     ]
    }
   ],
   "source": [
    "# Given a list of dictionaries called `products`, each containing 'name' and 'price' keys, use `max` with a lambda function to find the product with the highest price.\n",
    "\n",
    "@check_exercise_220\n",
    "def exercise_220(products):\n",
    "    # This line is mandatory and should not be removed\n",
    "    ex_stat_init = True\n",
    "    \n",
    "    # BELOW GOES YOUR CODE\n",
    "    most_expensive = max(products, key=lambda x: x['price'])\n",
    "    # ABOVE GOES YOUR CODE\n",
    "\n",
    "    return {\"most_expensive\": most_expensive}\n",
    "\n",
    "# Run the exercise\n",
    "exercise_220()"
   ]
  },
  {
   "cell_type": "code",
   "execution_count": 403,
   "id": "c97bf046",
   "metadata": {
    "ExecuteTime": {
     "end_time": "2024-12-24T02:37:53.114707700Z",
     "start_time": "2024-12-24T02:37:53.050514600Z"
    }
   },
   "outputs": [
    {
     "name": "stdout",
     "output_type": "stream",
     "text": [
      "✅ Great job! Exercise completed successfully.\n"
     ]
    }
   ],
   "source": [
    "# Create a lambda function that adds two numbers `x` and `y` and assign it to a variable `add_lambda`.\n",
    "\n",
    "@check_exercise_221\n",
    "def exercise_221():\n",
    "    # This line is mandatory and should not be removed\n",
    "    ex_stat_init = True\n",
    "    \n",
    "    # BELOW GOES YOUR CODE\n",
    "    add_lambda = lambda x, y: x + y\n",
    "    # ABOVE GOES YOUR CODE\n",
    "\n",
    "    return {\"add_lambda\": add_lambda}\n",
    "\n",
    "# Run the exercise\n",
    "exercise_221()"
   ]
  },
  {
   "cell_type": "code",
   "execution_count": 404,
   "id": "c4ed2cf9",
   "metadata": {
    "ExecuteTime": {
     "end_time": "2024-12-24T02:38:10.556591600Z",
     "start_time": "2024-12-24T02:38:10.480917Z"
    }
   },
   "outputs": [
    {
     "name": "stdout",
     "output_type": "stream",
     "text": [
      "✅ Great job! Exercise completed successfully.\n"
     ]
    }
   ],
   "source": [
    "# Use a lambda function to create a function that squares a given number `n` and assigns it to a variable `square_lambda`.\n",
    "\n",
    "@check_exercise_222\n",
    "def exercise_222():\n",
    "    # This line is mandatory and should not be removed\n",
    "    ex_stat_init = True\n",
    "    \n",
    "    # BELOW GOES YOUR CODE\n",
    "    square_lambda = lambda n: n ** 2\n",
    "    # ABOVE GOES YOUR CODE\n",
    "\n",
    "    return {\"square_lambda\": square_lambda}\n",
    "\n",
    "# Run the exercise\n",
    "exercise_222()"
   ]
  },
  {
   "cell_type": "code",
   "execution_count": 405,
   "id": "80850714",
   "metadata": {
    "ExecuteTime": {
     "end_time": "2024-12-24T02:38:26.014743500Z",
     "start_time": "2024-12-24T02:38:25.896831800Z"
    }
   },
   "outputs": [
    {
     "name": "stdout",
     "output_type": "stream",
     "text": [
      "✅ All test cases passed. The decorator works as expected.\n"
     ]
    },
    {
     "data": {
      "text/plain": "<function __main__.exercise_223()>"
     },
     "execution_count": 405,
     "metadata": {},
     "output_type": "execute_result"
    }
   ],
   "source": [
    "# Create a decorator named `log_execution` that updates the function to return the string \"Function finished {value}\" instead of the original return `value` of the function.\n",
    "\n",
    "@check_exercise_223\n",
    "def exercise_223():\n",
    "    # This line is mandatory and should not be removed\n",
    "    ex_stat_init = True\n",
    "    \n",
    "    # BELOW GOES YOUR CODE\n",
    "    def log_execution(func):\n",
    "        def wrapper(*args, **kwargs):\n",
    "            result = func(*args, **kwargs)\n",
    "            return f\"Function finished {result}\"\n",
    "        return wrapper\n",
    "    # ABOVE GOES YOUR CODE\n",
    "\n",
    "    return {\"log_execution\": log_execution}\n",
    "\n",
    "# Run the exercise\n",
    "exercise_223()"
   ]
  },
  {
   "cell_type": "code",
   "execution_count": 406,
   "id": "3952e673",
   "metadata": {
    "ExecuteTime": {
     "end_time": "2024-12-24T02:38:53.835036600Z",
     "start_time": "2024-12-24T02:38:53.769086300Z"
    }
   },
   "outputs": [
    {
     "name": "stdout",
     "output_type": "stream",
     "text": [
      "✅ All test cases passed. The decorator works as expected.\n"
     ]
    },
    {
     "data": {
      "text/plain": "<function __main__.exercise_224()>"
     },
     "execution_count": 406,
     "metadata": {},
     "output_type": "execute_result"
    }
   ],
   "source": [
    "# Create a decorator named `time_execution` that measures the execution time of a function and returns the string \"less than 5 seconds\" if the execution time is less than 5 seconds, or \"more than 5 seconds\" otherwise.\n",
    "\n",
    "@check_exercise_224\n",
    "def exercise_224():\n",
    "    # This line is mandatory and should not be removed\n",
    "    ex_stat_init = True\n",
    "    \n",
    "    # BELOW GOES YOUR CODE\n",
    "    import time\n",
    "\n",
    "    def time_execution(func):\n",
    "        def wrapper(*args, **kwargs):\n",
    "            start_time = time.time()\n",
    "            result = func(*args, **kwargs)\n",
    "            end_time = time.time()\n",
    "            execution_time = end_time - start_time\n",
    "            if execution_time < 5:\n",
    "                return \"less than 5 seconds\"\n",
    "            else:\n",
    "                return \"more than 5 seconds\"\n",
    "        return wrapper\n",
    "    # ABOVE GOES YOUR CODE\n",
    "\n",
    "    return {\"time_execution\": time_execution}\n",
    "\n",
    "# Run the exercise\n",
    "exercise_224()"
   ]
  },
  {
   "cell_type": "code",
   "execution_count": 408,
   "id": "aa3850fd",
   "metadata": {
    "ExecuteTime": {
     "end_time": "2024-12-24T02:40:01.614905500Z",
     "start_time": "2024-12-24T02:40:01.514800500Z"
    }
   },
   "outputs": [
    {
     "name": "stdout",
     "output_type": "stream",
     "text": [
      "✅ All test cases passed. The decorator works as expected.\n"
     ]
    },
    {
     "data": {
      "text/plain": "<function __main__.exercise_225()>"
     },
     "execution_count": 408,
     "metadata": {},
     "output_type": "execute_result"
    }
   ],
   "source": [
    "# Create a decorator that returns a dictionary in the format {\"input\": *the input of the function*, \"output\": *the result*} for a function.\n",
    "\n",
    "@check_exercise_225\n",
    "def exercise_225():\n",
    "    # This line is mandatory and should not be removed\n",
    "    ex_stat_init = True\n",
    "    \n",
    "    # BELOW GOES YOUR CODE\n",
    "    def input_output_dict(func):\n",
    "        def wrapper(*args, **kwargs):\n",
    "            result = func(*args, **kwargs)\n",
    "            return {\"input\": args, \"output\": result}\n",
    "        return wrapper\n",
    "    # ABOVE GOES YOUR CODE\n",
    "\n",
    "    return {\"input_output_dict\": input_output_dict}\n",
    "\n",
    "# Run the exercise\n",
    "exercise_225()"
   ]
  },
  {
   "cell_type": "code",
   "execution_count": 409,
   "id": "d5cd5694",
   "metadata": {
    "ExecuteTime": {
     "end_time": "2024-12-24T02:40:18.814800500Z",
     "start_time": "2024-12-24T02:40:18.732222300Z"
    }
   },
   "outputs": [
    {
     "name": "stdout",
     "output_type": "stream",
     "text": [
      "✅ All tests passed. The classes and methods work as expected.\n"
     ]
    },
    {
     "data": {
      "text/plain": "{'Car': __main__.exercise_226.<locals>.Car}"
     },
     "execution_count": 409,
     "metadata": {},
     "output_type": "execute_result"
    }
   ],
   "source": [
    "# Create a class called `Car` with attributes `make` and `model`\n",
    "\n",
    "@check_exercise_226\n",
    "def exercise_226():\n",
    "    # This line is mandatory and should not be removed\n",
    "    ex_stat_init = True\n",
    "    \n",
    "    # BELOW GOES YOUR CODE\n",
    "    class Car:\n",
    "        def __init__(self, make, model):\n",
    "            self.make = make\n",
    "            self.model = model\n",
    "    # ABOVE GOES YOUR CODE\n",
    "\n",
    "    return {\"Car\": Car}\n",
    "\n",
    "# Run the exercise\n",
    "exercise_226()"
   ]
  },
  {
   "cell_type": "code",
   "execution_count": 410,
   "id": "dc6dd778",
   "metadata": {
    "ExecuteTime": {
     "end_time": "2024-12-24T02:40:39.322704400Z",
     "start_time": "2024-12-24T02:40:39.254025400Z"
    }
   },
   "outputs": [
    {
     "name": "stdout",
     "output_type": "stream",
     "text": [
      "✅ All tests passed. The classes and methods work as expected.\n"
     ]
    },
    {
     "data": {
      "text/plain": "{'Rectangle': __main__.exercise_227.<locals>.Rectangle}"
     },
     "execution_count": 410,
     "metadata": {},
     "output_type": "execute_result"
    }
   ],
   "source": [
    "# Create a class `Rectangle` with attributes `width` and `height`, and initialize them in the constructor\n",
    "\n",
    "@check_exercise_227\n",
    "def exercise_227():\n",
    "    # This line is mandatory and should not be removed\n",
    "    ex_stat_init = True\n",
    "    \n",
    "    # BELOW GOES YOUR CODE\n",
    "    class Rectangle:\n",
    "        def __init__(self, width, height):\n",
    "            self.width = width\n",
    "            self.height = height\n",
    "    # ABOVE GOES YOUR CODE\n",
    "\n",
    "    return {\"Rectangle\": Rectangle}\n",
    "\n",
    "# Run the exercise\n",
    "exercise_227()"
   ]
  },
  {
   "cell_type": "code",
   "execution_count": 411,
   "id": "4f6699d8",
   "metadata": {
    "ExecuteTime": {
     "end_time": "2024-12-24T02:40:53.060437400Z",
     "start_time": "2024-12-24T02:40:52.917588300Z"
    }
   },
   "outputs": [
    {
     "name": "stdout",
     "output_type": "stream",
     "text": [
      "✅ All tests passed. The classes and methods work as expected.\n"
     ]
    },
    {
     "data": {
      "text/plain": "{'Rectangle': __main__.exercise_228.<locals>.Rectangle}"
     },
     "execution_count": 411,
     "metadata": {},
     "output_type": "execute_result"
    }
   ],
   "source": [
    "# Create a class `Rectangle` with attributes `width` and `height`, and a method `area` that returns the area of the rectangle\n",
    "\n",
    "@check_exercise_228\n",
    "def exercise_228():\n",
    "    # This line is mandatory and should not be removed\n",
    "    ex_stat_init = True\n",
    "    \n",
    "    # BELOW GOES YOUR CODE\n",
    "    class Rectangle:\n",
    "        def __init__(self, width, height):\n",
    "            self.width = width\n",
    "            self.height = height\n",
    "        \n",
    "        def area(self):\n",
    "            return self.width * self.height\n",
    "    # ABOVE GOES YOUR CODE\n",
    "\n",
    "    return {\"Rectangle\": Rectangle}\n",
    "\n",
    "# Run the exercise\n",
    "exercise_228()"
   ]
  },
  {
   "cell_type": "code",
   "execution_count": 412,
   "id": "d13be487",
   "metadata": {
    "ExecuteTime": {
     "end_time": "2024-12-24T02:41:15.830182700Z",
     "start_time": "2024-12-24T02:41:15.719136600Z"
    }
   },
   "outputs": [
    {
     "name": "stdout",
     "output_type": "stream",
     "text": [
      "✅ All tests passed. The classes and methods work as expected.\n"
     ]
    },
    {
     "data": {
      "text/plain": "{'Vehicle': __main__.exercise_229.<locals>.Vehicle,\n 'Motorcycle': __main__.exercise_229.<locals>.Motorcycle}"
     },
     "execution_count": 412,
     "metadata": {},
     "output_type": "execute_result"
    }
   ],
   "source": [
    "# Create a class `Vehicle` with attributes `brand` and `year`, then create a class `Motorcycle` that inherits from `Vehicle`\n",
    "\n",
    "@check_exercise_229\n",
    "def exercise_229():\n",
    "    # This line is mandatory and should not be removed\n",
    "    ex_stat_init = True\n",
    "    \n",
    "    # BELOW GOES YOUR CODE\n",
    "    class Vehicle:\n",
    "        def __init__(self, brand, year):\n",
    "            self.brand = brand\n",
    "            self.year = year\n",
    "    \n",
    "    class Motorcycle(Vehicle):\n",
    "        def __init__(self, brand, year, type_of_motorcycle):\n",
    "            super().__init__(brand, year)\n",
    "            self.type_of_motorcycle = type_of_motorcycle\n",
    "    # ABOVE GOES YOUR CODE\n",
    "\n",
    "    return {\"Vehicle\": Vehicle, \"Motorcycle\": Motorcycle}\n",
    "\n",
    "# Run the exercise\n",
    "exercise_229()"
   ]
  },
  {
   "cell_type": "code",
   "execution_count": 415,
   "id": "50f0e6ad",
   "metadata": {
    "ExecuteTime": {
     "end_time": "2024-12-24T02:43:24.227544500Z",
     "start_time": "2024-12-24T02:43:24.153503300Z"
    }
   },
   "outputs": [
    {
     "name": "stdout",
     "output_type": "stream",
     "text": [
      "✅ All tests passed. The classes and methods work as expected.\n"
     ]
    },
    {
     "data": {
      "text/plain": "{'Shape': __main__.exercise_230.<locals>.Shape,\n 'Circle': __main__.exercise_230.<locals>.Circle,\n 'Square': __main__.exercise_230.<locals>.Square}"
     },
     "execution_count": 415,
     "metadata": {},
     "output_type": "execute_result"
    }
   ],
   "source": [
    "# Create a class `Shape` with a method `area`, then create classes `Circle` that has a `radius` attribute and `Square` that has a `side` attribute, both with an `area` method that returns the area of the shape\n",
    "\n",
    "@check_exercise_230\n",
    "def exercise_230():\n",
    "    # This line is mandatory and should not be removed\n",
    "    ex_stat_init = True\n",
    "    \n",
    "    # BELOW GOES YOUR CODE\n",
    "    class Shape:\n",
    "        def area(self):\n",
    "            pass  # The base method can be overridden by subclasses\n",
    "    \n",
    "    class Circle(Shape):\n",
    "        def __init__(self, radius):\n",
    "            self.radius = radius\n",
    "        \n",
    "        def area(self):\n",
    "            return math.pi * self.radius ** 2\n",
    "    \n",
    "    class Square(Shape):\n",
    "        def __init__(self, side):\n",
    "            self.side = side\n",
    "        \n",
    "        def area(self):\n",
    "            return self.side ** 2\n",
    "    # ABOVE GOES YOUR CODE\n",
    "\n",
    "    return {\"Shape\": Shape, \"Circle\": Circle, \"Square\": Square}\n",
    "\n",
    "# Run the exercise\n",
    "exercise_230()"
   ]
  },
  {
   "cell_type": "code",
   "execution_count": 419,
   "id": "5a0dc07b",
   "metadata": {
    "ExecuteTime": {
     "end_time": "2024-12-24T02:45:24.066332300Z",
     "start_time": "2024-12-24T02:45:23.985140Z"
    }
   },
   "outputs": [
    {
     "name": "stdout",
     "output_type": "stream",
     "text": [
      "✅ All tests passed. The classes and methods work as expected.\n"
     ]
    },
    {
     "data": {
      "text/plain": "{'BankAccount': __main__.exercise_231.<locals>.BankAccount}"
     },
     "execution_count": 419,
     "metadata": {},
     "output_type": "execute_result"
    }
   ],
   "source": [
    "# Create a class `BankAccount` with a private attribute `__balance` that is initialized in the constructor and methods `deposit` and `withdraw` to modify the balance that add or subtract an amount from the balance\n",
    "\n",
    "@check_exercise_231\n",
    "def exercise_231():\n",
    "    # This line is mandatory and should not be removed\n",
    "    ex_stat_init = True\n",
    "    \n",
    "    # BELOW GOES YOUR CODE\n",
    "    class BankAccount:\n",
    "        def __init__(self, balance=0):\n",
    "            self.__balance = balance\n",
    "        \n",
    "        def deposit(self, amount):\n",
    "            if amount > 0:\n",
    "                self.__balance += amount\n",
    "            return self.__balance\n",
    "        \n",
    "        def withdraw(self, amount):\n",
    "            if amount > 0 and self.__balance >= amount:\n",
    "                self.__balance -= amount\n",
    "            return self.__balance\n",
    "    # ABOVE GOES YOUR CODE\n",
    "\n",
    "    return {\"BankAccount\": BankAccount}\n",
    "\n",
    "# Run the exercise\n",
    "exercise_231()\n"
   ]
  },
  {
   "cell_type": "code",
   "execution_count": 420,
   "id": "c8924fd1",
   "metadata": {
    "ExecuteTime": {
     "end_time": "2024-12-24T02:46:49.691167600Z",
     "start_time": "2024-12-24T02:46:49.619386400Z"
    }
   },
   "outputs": [
    {
     "name": "stdout",
     "output_type": "stream",
     "text": [
      "✅ All tests passed. The classes and methods work as expected.\n"
     ]
    },
    {
     "data": {
      "text/plain": "{'Employee': __main__.exercise_232.<locals>.Employee}"
     },
     "execution_count": 420,
     "metadata": {},
     "output_type": "execute_result"
    }
   ],
   "source": [
    "# Create a class `Employee` with a protected attribute `_salary` and a method `add_raise` that increases the salary by a given percentage and returns the new salary\n",
    "@check_exercise_232\n",
    "def exercise_232():\n",
    "    # This line is mandatory and should not be removed\n",
    "    ex_stat_init = True\n",
    "    \n",
    "    # BELOW GOES YOUR CODE\n",
    "    class Employee:\n",
    "        def __init__(self, salary):\n",
    "            self._salary = salary\n",
    "        \n",
    "        def add_raise(self, percentage):\n",
    "            self._salary += self._salary * (percentage / 100)\n",
    "            return self._salary\n",
    "    # ABOVE GOES YOUR CODE\n",
    "\n",
    "    return {\"Employee\": Employee}\n",
    "\n",
    "# Run the exercise\n",
    "exercise_232()\n"
   ]
  },
  {
   "cell_type": "code",
   "execution_count": 421,
   "id": "b5d8b946",
   "metadata": {
    "ExecuteTime": {
     "end_time": "2024-12-24T02:47:11.103361200Z",
     "start_time": "2024-12-24T02:47:11.025750100Z"
    }
   },
   "outputs": [
    {
     "name": "stdout",
     "output_type": "stream",
     "text": [
      "✅ All tests passed. The classes and methods work as expected.\n"
     ]
    },
    {
     "data": {
      "text/plain": "{'Animal': __main__.exercise_233.<locals>.Animal,\n 'Dog': __main__.exercise_233.<locals>.Dog,\n 'Cat': __main__.exercise_233.<locals>.Cat}"
     },
     "execution_count": 421,
     "metadata": {},
     "output_type": "execute_result"
    }
   ],
   "source": [
    "# Create an abstract class `Animal` with an abstract method `make_sound`, then create concrete classes `Dog` and `Cat` that implement the method and return a string with the sound the string should be \"Woof\" for `Dog` and \"Meow\" for `Cat`\n",
    "from abc import ABC, abstractmethod\n",
    "\n",
    "@check_exercise_233\n",
    "def exercise_233():\n",
    "    # This line is mandatory and should not be removed\n",
    "    ex_stat_init = True\n",
    "    \n",
    "    # BELOW GOES YOUR CODE\n",
    "    class Animal(ABC):\n",
    "        @abstractmethod\n",
    "        def make_sound(self):\n",
    "            pass\n",
    "        \n",
    "    class Dog(Animal):\n",
    "        def make_sound(self):\n",
    "            return \"Woof\"\n",
    "        \n",
    "    class Cat(Animal):\n",
    "        def make_sound(self):\n",
    "            return \"Meow\"\n",
    "    # ABOVE GOES YOUR CODE\n",
    "\n",
    "    return {\"Animal\": Animal, \"Dog\": Dog, \"Cat\": Cat}\n",
    "\n",
    "# Run the exercise\n",
    "exercise_233()"
   ]
  },
  {
   "cell_type": "code",
   "execution_count": 422,
   "id": "7f01f647",
   "metadata": {
    "ExecuteTime": {
     "end_time": "2024-12-24T02:47:27.078998300Z",
     "start_time": "2024-12-24T02:47:26.977913900Z"
    }
   },
   "outputs": [
    {
     "name": "stdout",
     "output_type": "stream",
     "text": [
      "✅ All tests passed. The classes and methods work as expected.\n"
     ]
    },
    {
     "data": {
      "text/plain": "{'Book': __main__.exercise_234.<locals>.Book}"
     },
     "execution_count": 422,
     "metadata": {},
     "output_type": "execute_result"
    }
   ],
   "source": [
    "# Create a class `Book` with attributes `title`, `author`, and `pages`, and initialize them in the __init__ method\n",
    "\n",
    "@check_exercise_234\n",
    "def exercise_234():\n",
    "    # This line is mandatory and should not be removed\n",
    "    ex_stat_init = True\n",
    "    \n",
    "    # BELOW GOES YOUR CODE\n",
    "    class Book:\n",
    "        def __init__(self, title, author, pages):\n",
    "            self.title = title\n",
    "            self.author = author\n",
    "            self.pages = pages\n",
    "    # ABOVE GOES YOUR CODE\n",
    "\n",
    "    return {\"Book\": Book}\n",
    "\n",
    "# Run the exercise\n",
    "exercise_234()"
   ]
  },
  {
   "cell_type": "code",
   "execution_count": 427,
   "id": "9c32e7fb",
   "metadata": {
    "ExecuteTime": {
     "end_time": "2024-12-24T02:49:23.660194Z",
     "start_time": "2024-12-24T02:49:23.570499200Z"
    }
   },
   "outputs": [
    {
     "name": "stdout",
     "output_type": "stream",
     "text": [
      "❗ The implementation is incorrect or the exercise was not implemented.\n"
     ]
    },
    {
     "data": {
      "text/plain": "{'Book': __main__.exercise_235.<locals>.Book}"
     },
     "execution_count": 427,
     "metadata": {},
     "output_type": "execute_result"
    }
   ],
   "source": [
    "# Create a class `Book` with attributes `title`, `author`, and `pages`, and a method `__str__` that returns a string with the book information\n",
    "\n",
    "@check_exercise_235\n",
    "def exercise_235():\n",
    "    # This line is mandatory and should not be removed\n",
    "    ex_stat_init = True\n",
    "    \n",
    "    # BELOW GOES YOUR CODE\n",
    "    class Book:\n",
    "        def __init__(self, title, author, pages):\n",
    "            self.title = title\n",
    "            self.author = author\n",
    "            self.pages = pages\n",
    "        \n",
    "        def __str__(self):\n",
    "            return f\"{self.title}{self.author}{self.pages}\"\n",
    "    # ABOVE GOES YOUR CODE\n",
    "\n",
    "    return {\"Book\": Book}\n",
    "\n",
    "# Run the exercise\n",
    "exercise_235()\n",
    "#there is some problem"
   ]
  },
  {
   "cell_type": "code",
   "execution_count": 428,
   "id": "030e084b",
   "metadata": {
    "ExecuteTime": {
     "end_time": "2024-12-24T02:50:07.000038100Z",
     "start_time": "2024-12-24T02:50:06.929660300Z"
    }
   },
   "outputs": [
    {
     "name": "stdout",
     "output_type": "stream",
     "text": [
      "✅ All tests passed. The classes and methods work as expected.\n"
     ]
    },
    {
     "data": {
      "text/plain": "{'Person': __main__.exercise_236.<locals>.Person}"
     },
     "execution_count": 428,
     "metadata": {},
     "output_type": "execute_result"
    }
   ],
   "source": [
    "# Create a class `Person` with attributes `name` and `age`, and a method `__repr__` that returns a string in the format \"Person(name=[name], age=[age])\"\n",
    "\n",
    "@check_exercise_236\n",
    "def exercise_236():\n",
    "    # This line is mandatory and should not be removed\n",
    "    ex_stat_init = True\n",
    "    \n",
    "    # BELOW GOES YOUR CODE\n",
    "    class Person:\n",
    "        def __init__(self, name, age):\n",
    "            self.name = name\n",
    "            self.age = age\n",
    "        \n",
    "        def __repr__(self):\n",
    "            return f\"Person(name={self.name}, age={self.age})\"\n",
    "    # ABOVE GOES YOUR CODE\n",
    "\n",
    "    return {\"Person\": Person}\n",
    "\n",
    "# Run the exercise\n",
    "exercise_236()"
   ]
  },
  {
   "cell_type": "code",
   "execution_count": 429,
   "id": "2ae3e861",
   "metadata": {
    "ExecuteTime": {
     "end_time": "2024-12-24T02:50:32.185155400Z",
     "start_time": "2024-12-24T02:50:32.111688800Z"
    }
   },
   "outputs": [
    {
     "name": "stdout",
     "output_type": "stream",
     "text": [
      "✅ All tests passed. The classes and methods work as expected.\n"
     ]
    },
    {
     "data": {
      "text/plain": "{'Point': __main__.exercise_237.<locals>.Point}"
     },
     "execution_count": 429,
     "metadata": {},
     "output_type": "execute_result"
    }
   ],
   "source": [
    "# Create a class `Point` with attributes `x` and `y`, and a method `__add__` that returns a new point with the sum of the coordinates\n",
    "\n",
    "@check_exercise_237\n",
    "def exercise_237():\n",
    "    # This line is mandatory and should not be removed\n",
    "    ex_stat_init = True\n",
    "    \n",
    "    # BELOW GOES YOUR CODE\n",
    "    class Point:\n",
    "        def __init__(self, x, y):\n",
    "            self.x = x\n",
    "            self.y = y\n",
    "        \n",
    "        def __add__(self, other):\n",
    "            return Point(self.x + other.x, self.y + other.y)\n",
    "    # ABOVE GOES YOUR CODE\n",
    "\n",
    "    return {\"Point\": Point}\n",
    "\n",
    "# Run the exercise\n",
    "exercise_237()"
   ]
  },
  {
   "cell_type": "code",
   "execution_count": 430,
   "id": "6dbe1f78",
   "metadata": {
    "ExecuteTime": {
     "end_time": "2024-12-24T02:51:13.439497800Z",
     "start_time": "2024-12-24T02:51:13.359850700Z"
    }
   },
   "outputs": [
    {
     "name": "stdout",
     "output_type": "stream",
     "text": [
      "✅ All tests passed. The classes and methods work as expected.\n"
     ]
    },
    {
     "data": {
      "text/plain": "{'Vector': __main__.exercise_238.<locals>.Vector}"
     },
     "execution_count": 430,
     "metadata": {},
     "output_type": "execute_result"
    }
   ],
   "source": [
    "# Create a class `Vector` with attributes `x` and `y`, and a method `__mul__` that returns the dot product of two vectors\n",
    "\n",
    "@check_exercise_238\n",
    "def exercise_238():\n",
    "    # This line is mandatory and should not be removed\n",
    "    ex_stat_init = True\n",
    "    \n",
    "    # BELOW GOES YOUR CODE\n",
    "    class Vector:\n",
    "        def __init__(self, x, y):\n",
    "            self.x = x\n",
    "            self.y = y\n",
    "        \n",
    "        def __mul__(self, other):\n",
    "            return self.x * other.x + self.y * other.y\n",
    "    # ABOVE GOES YOUR CODE\n",
    "\n",
    "    return {\"Vector\": Vector}\n",
    "\n",
    "# Run the exercise\n",
    "exercise_238()"
   ]
  },
  {
   "cell_type": "code",
   "execution_count": 431,
   "id": "293c7caa",
   "metadata": {
    "ExecuteTime": {
     "end_time": "2024-12-24T02:51:38.356151Z",
     "start_time": "2024-12-24T02:51:38.285372400Z"
    }
   },
   "outputs": [
    {
     "name": "stdout",
     "output_type": "stream",
     "text": [
      "✅ All tests passed. The classes and methods work as expected.\n"
     ]
    },
    {
     "data": {
      "text/plain": "{'Vector': __main__.exercise_239.<locals>.Vector}"
     },
     "execution_count": 431,
     "metadata": {},
     "output_type": "execute_result"
    }
   ],
   "source": [
    "# Create a class `Vector` with attributes `x` and `y`, and a method `__sub__` that returns a new vector with the difference of the coordinates\n",
    "\n",
    "@check_exercise_239\n",
    "def exercise_239():\n",
    "    # This line is mandatory and should not be removed\n",
    "    ex_stat_init = True\n",
    "    \n",
    "    # BELOW GOES YOUR CODE\n",
    "    class Vector:\n",
    "        def __init__(self, x, y):\n",
    "            self.x = x\n",
    "            self.y = y\n",
    "        \n",
    "        def __sub__(self, other):\n",
    "            return Vector(self.x - other.x, self.y - other.y)\n",
    "    # ABOVE GOES YOUR CODE\n",
    "\n",
    "    return {\"Vector\": Vector}\n",
    "\n",
    "# Run the exercise\n",
    "exercise_239()"
   ]
  },
  {
   "cell_type": "code",
   "execution_count": 432,
   "id": "3ccac632",
   "metadata": {
    "ExecuteTime": {
     "end_time": "2024-12-24T02:51:54.793698200Z",
     "start_time": "2024-12-24T02:51:54.726988500Z"
    }
   },
   "outputs": [
    {
     "name": "stdout",
     "output_type": "stream",
     "text": [
      "✅ All tests passed. The classes and methods work as expected.\n"
     ]
    },
    {
     "data": {
      "text/plain": "{'Vector': __main__.exercise_240.<locals>.Vector}"
     },
     "execution_count": 432,
     "metadata": {},
     "output_type": "execute_result"
    }
   ],
   "source": [
    "# Create a class `Vector` with attributes `x` and `y`, and a method `__eq__` that returns True if two vectors have the same coordinates\n",
    "\n",
    "@check_exercise_240\n",
    "def exercise_240():\n",
    "    # This line is mandatory and should not be removed\n",
    "    ex_stat_init = True\n",
    "    \n",
    "    # BELOW GOES YOUR CODE\n",
    "    class Vector:\n",
    "        def __init__(self, x, y):\n",
    "            self.x = x\n",
    "            self.y = y\n",
    "        \n",
    "        def __eq__(self, other):\n",
    "            return self.x == other.x and self.y == other.y\n",
    "    # ABOVE GOES YOUR CODE\n",
    "\n",
    "    return {\"Vector\": Vector}\n",
    "\n",
    "# Run the exercise\n",
    "exercise_240()"
   ]
  },
  {
   "cell_type": "code",
   "execution_count": 433,
   "id": "e7e0125d",
   "metadata": {
    "ExecuteTime": {
     "end_time": "2024-12-24T02:52:14.491492400Z",
     "start_time": "2024-12-24T02:52:14.418939500Z"
    }
   },
   "outputs": [
    {
     "name": "stdout",
     "output_type": "stream",
     "text": [
      "✅ All tests passed. The classes and methods work as expected.\n"
     ]
    },
    {
     "data": {
      "text/plain": "{'Vector': __main__.exercise_241.<locals>.Vector}"
     },
     "execution_count": 433,
     "metadata": {},
     "output_type": "execute_result"
    }
   ],
   "source": [
    "# Create a class `Vector` with attributes `x` and `y`, and a method `__len__` that returns the magnitude of the vector\n",
    "\n",
    "@check_exercise_241\n",
    "def exercise_241():\n",
    "    # This line is mandatory and should not be removed\n",
    "    ex_stat_init = True\n",
    "    \n",
    "    # BELOW GOES YOUR CODE\n",
    "    class Vector:\n",
    "        def __init__(self, x, y):\n",
    "            self.x = x\n",
    "            self.y = y\n",
    "        \n",
    "        def __len__(self):\n",
    "            return int((self.x ** 2 + self.y ** 2) ** 0.5)\n",
    "    # ABOVE GOES YOUR CODE\n",
    "\n",
    "    return {\"Vector\": Vector}\n",
    "\n",
    "# Run the exercise\n",
    "exercise_241()"
   ]
  },
  {
   "cell_type": "code",
   "execution_count": 434,
   "id": "aec26b59",
   "metadata": {
    "ExecuteTime": {
     "end_time": "2024-12-24T02:52:35.863602900Z",
     "start_time": "2024-12-24T02:52:35.657600500Z"
    }
   },
   "outputs": [
    {
     "name": "stdout",
     "output_type": "stream",
     "text": [
      "✅ All tests passed. The classes and methods work as expected.\n"
     ]
    },
    {
     "data": {
      "text/plain": "{'Vector': __main__.exercise_242.<locals>.Vector}"
     },
     "execution_count": 434,
     "metadata": {},
     "output_type": "execute_result"
    }
   ],
   "source": [
    "# Create a class `Vector` with attributes `x` and `y`, a method `__str__` that returns a string with the vector coordinates in the format \"(x, y)\", \n",
    "# a method `__add__` that returns a new vector with the sum of the coordinates, and a method `__mul__` that returns the dot product of two vectors\n",
    "\n",
    "@check_exercise_242\n",
    "def exercise_242():\n",
    "    # This line is mandatory and should not be removed\n",
    "    ex_stat_init = True\n",
    "    \n",
    "    # BELOW GOES YOUR CODE\n",
    "    class Vector:\n",
    "        def __init__(self, x, y):\n",
    "            self.x = x\n",
    "            self.y = y\n",
    "        \n",
    "        def __str__(self):\n",
    "            return f\"({self.x}, {self.y})\"\n",
    "        \n",
    "        def __add__(self, other):\n",
    "            return Vector(self.x + other.x, self.y + other.y)\n",
    "        \n",
    "        def __mul__(self, other):\n",
    "            return self.x * other.x + self.y * other.y\n",
    "    # ABOVE GOES YOUR CODE\n",
    "\n",
    "    return {\"Vector\": Vector}\n",
    "\n",
    "# Run the exercise\n",
    "exercise_242()"
   ]
  },
  {
   "cell_type": "code",
   "execution_count": 435,
   "id": "ecc3ec78",
   "metadata": {
    "ExecuteTime": {
     "end_time": "2024-12-24T02:52:51.086575Z",
     "start_time": "2024-12-24T02:52:51.017156600Z"
    }
   },
   "outputs": [
    {
     "name": "stdout",
     "output_type": "stream",
     "text": [
      "✅ All tests passed. The classes and methods work as expected.\n"
     ]
    },
    {
     "data": {
      "text/plain": "{'Flying': __main__.exercise_243.<locals>.Flying,\n 'Swimming': __main__.exercise_243.<locals>.Swimming,\n 'Duck': __main__.exercise_243.<locals>.Duck}"
     },
     "execution_count": 435,
     "metadata": {},
     "output_type": "execute_result"
    }
   ],
   "source": [
    "# Create classes `Flying` and `Swimming`, then create a class `Duck` that inherits from both\n",
    "\n",
    "@check_exercise_243\n",
    "def exercise_243():\n",
    "    # This line is mandatory and should not be removed\n",
    "    ex_stat_init = True\n",
    "    \n",
    "    # BELOW GOES YOUR CODE\n",
    "    class Flying:\n",
    "        def fly(self):\n",
    "            return \"Flying\"\n",
    "\n",
    "    class Swimming:\n",
    "        def swim(self):\n",
    "            return \"Swimming\"\n",
    "\n",
    "    class Duck(Flying, Swimming):\n",
    "        def __init__(self):\n",
    "            pass\n",
    "    # ABOVE GOES YOUR CODE\n",
    "\n",
    "    return {\"Flying\": Flying, \"Swimming\": Swimming, \"Duck\": Duck}\n",
    "\n",
    "# Run the exercise\n",
    "exercise_243()"
   ]
  },
  {
   "cell_type": "code",
   "execution_count": 436,
   "id": "d5d0c79f",
   "metadata": {
    "ExecuteTime": {
     "end_time": "2024-12-24T02:53:08.875043800Z",
     "start_time": "2024-12-24T02:53:08.799878800Z"
    }
   },
   "outputs": [
    {
     "name": "stdout",
     "output_type": "stream",
     "text": [
      "✅ All tests passed. The classes and methods work as expected.\n"
     ]
    },
    {
     "data": {
      "text/plain": "{'Animal': __main__.exercise_244.<locals>.Animal,\n 'Bird': __main__.exercise_244.<locals>.Bird}"
     },
     "execution_count": 436,
     "metadata": {},
     "output_type": "execute_result"
    }
   ],
   "source": [
    "# Create a class `Animal` with a method `move`, then create a class `Bird` that inherits from `Animal` and overrides the `move` method\n",
    "\n",
    "@check_exercise_244\n",
    "def exercise_244():\n",
    "    # This line is mandatory and should not be removed\n",
    "    ex_stat_init = True\n",
    "    \n",
    "    # BELOW GOES YOUR CODE\n",
    "    class Animal:\n",
    "        def move(self):\n",
    "            return \"Animal is moving\"\n",
    "    \n",
    "    class Bird(Animal):\n",
    "        def move(self):\n",
    "            return \"Bird is flying\"\n",
    "    # ABOVE GOES YOUR CODE\n",
    "\n",
    "    return {\"Animal\": Animal, \"Bird\": Bird}\n",
    "\n",
    "# Run the exercise\n",
    "exercise_244()"
   ]
  },
  {
   "cell_type": "code",
   "execution_count": 438,
   "id": "3cc2d6a3",
   "metadata": {
    "ExecuteTime": {
     "end_time": "2024-12-24T02:53:49.664903200Z",
     "start_time": "2024-12-24T02:53:49.550364500Z"
    }
   },
   "outputs": [
    {
     "name": "stdout",
     "output_type": "stream",
     "text": [
      "✅ All tests passed. The classes and methods work as expected.\n"
     ]
    },
    {
     "data": {
      "text/plain": "{'Counter': __main__.exercise_245.<locals>.Counter}"
     },
     "execution_count": 438,
     "metadata": {},
     "output_type": "execute_result"
    }
   ],
   "source": [
    "# Create a class `Counter` with a class variable that keeps track of how many instances have been created and a method `get_count` that returns the count\n",
    "\n",
    "@check_exercise_245\n",
    "def exercise_245():\n",
    "    # This line is mandatory and should not be removed\n",
    "    ex_stat_init = True\n",
    "    \n",
    "    # BELOW GOES YOUR CODE\n",
    "    class Counter:\n",
    "        count = 0\n",
    "        \n",
    "        def __init__(self):\n",
    "            Counter.count += 1\n",
    "        \n",
    "        def get_count(self):\n",
    "            return Counter.count\n",
    "    # ABOVE GOES YOUR CODE\n",
    "\n",
    "    return {\"Counter\": Counter}\n",
    "\n",
    "# Run the exercise\n",
    "exercise_245()"
   ]
  },
  {
   "cell_type": "code",
   "execution_count": null,
   "outputs": [],
   "source": [],
   "metadata": {
    "collapsed": false
   },
   "id": "e301163feca4017d"
  }
 ],
 "metadata": {
  "kernelspec": {
   "display_name": "excalibur",
   "language": "python",
   "name": "python3"
  },
  "language_info": {
   "codemirror_mode": {
    "name": "ipython",
    "version": 3
   },
   "file_extension": ".py",
   "mimetype": "text/x-python",
   "name": "python",
   "nbconvert_exporter": "python",
   "pygments_lexer": "ipython3",
   "version": "3.12.5"
  }
 },
 "nbformat": 4,
 "nbformat_minor": 5
}
